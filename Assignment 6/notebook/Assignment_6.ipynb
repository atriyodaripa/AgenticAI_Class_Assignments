{
 "cells": [
  {
   "cell_type": "code",
   "execution_count": 58,
   "id": "8fa1baee",
   "metadata": {},
   "outputs": [],
   "source": [
    "import operator\n",
    "import os\n",
    "from dotenv import load_dotenv\n",
    "from langchain_groq import ChatGroq\n",
    "from langchain_openai import ChatOpenAI\n",
    "from langgraph.graph import StateGraph, START, END\n",
    "from langgraph.prebuilt import tools_condition, create_react_agent\n",
    "from langgraph.types import Command\n",
    "from langgraph.graph import MessagesState, add_messages\n",
    "from pydantic import BaseModel, Field\n",
    "from typing import Annotated, Sequence, Optional, Dict, Any, TypedDict, Literal, List\n",
    "from langchain_core.messages import BaseMessage, AIMessage\n",
    "from langchain_core.prompts import PromptTemplate\n",
    "import json\n",
    "from langchain.tools import BaseTool\n",
    "from Bio import Entrez\n",
    "import xml.etree.ElementTree as ET\n",
    "import yfinance as yf\n",
    "import pandas as pd"
   ]
  },
  {
   "cell_type": "markdown",
   "id": "6db034cd",
   "metadata": {},
   "source": [
    "### Initializing the LLMs"
   ]
  },
  {
   "cell_type": "code",
   "execution_count": 2,
   "id": "992e4d9e",
   "metadata": {},
   "outputs": [],
   "source": [
    "## Langchain and Langsmith tracing\n",
    "os.environ['LANGCHAIN_API_KEY'] = os.getenv('LANGCHAIN_API_KEY')\n",
    "os.environ['LANGCHAIN_PROJECT'] = os.getenv('LANGCHAIN_PROJECT')\n",
    "os.environ[\"LANGCHAIN_TRACING_V2\"]=\"true\"\n",
    "\n",
    "## Getting Froq API key\n",
    "os.environ[\"GROQ_API_KEY\"]=os.getenv(\"GROQ_API_KEY\")\n",
    "os.environ[\"OPENAI_API_KEY\"]=os.getenv(\"OPENAI_API_KEY\")\n",
    "\n",
    "# EMBEDDING_MODEL = \"BAAI/bge-small-en\"\n",
    "GROQ_INFERENCE_MODEL = \"deepseek-r1-distill-llama-70b\"\n",
    "OPENAI_INFERENCE_MODEL = \"gpt-4o\"\n",
    "# INFERENCE_MODEL = \"gemma2-9b-it\""
   ]
  },
  {
   "cell_type": "code",
   "execution_count": 3,
   "id": "1ac07e15",
   "metadata": {},
   "outputs": [
    {
     "name": "stdout",
     "output_type": "stream",
     "text": [
      "--------Creating the response from llm based on contexts--------\n"
     ]
    }
   ],
   "source": [
    "# llm = ChatGroq(model=GROQ_INFERENCE_MODEL, temperature=0.3)\n",
    "# print('--------Creating the response from llm based on contexts--------')\n",
    "\n",
    "llm = ChatOpenAI(model=OPENAI_INFERENCE_MODEL, temperature=0.3)\n",
    "print('--------Creating the response from llm based on contexts--------')"
   ]
  },
  {
   "cell_type": "markdown",
   "id": "387cac35",
   "metadata": {},
   "source": [
    "### State of the Agents"
   ]
  },
  {
   "cell_type": "code",
   "execution_count": 4,
   "id": "31ea0385",
   "metadata": {},
   "outputs": [],
   "source": [
    "class SupervisorState(MessagesState):\n",
    "    \"\"\"State of the Supervisor Agent\"\"\"\n",
    "    query: str\n",
    "    research_results: Optional[Dict[str, Any]] = None\n",
    "    summary_results: Optional[Dict[str, Any]] = None\n",
    "    final_documents: Optional[str] = None\n",
    "    next: Optional[Literal['research', 'report', 'FINISH']] = None\n",
    "    reasoning: Optional[str] = None\n",
    "    task_details: Optional[str] = None\n"
   ]
  },
  {
   "cell_type": "code",
   "execution_count": 5,
   "id": "8e3aef50",
   "metadata": {},
   "outputs": [],
   "source": [
    "class ResearchState(MessagesState):\n",
    "    \"\"\"State of the Team 1: Research Agent\"\"\"\n",
    "    query: str\n",
    "    next: Optional[Literal['finance', 'pharma']] = None\n",
    "    reasoning: Optional[str] = None\n",
    "    task_details: Optional[str] = None\n",
    "    research_context: str\n",
    "    medical_results: Optional[Dict[str, Any]]\n",
    "    financial_results: Optional[Dict[str, Any]]"
   ]
  },
  {
   "cell_type": "code",
   "execution_count": 6,
   "id": "ef32beb0",
   "metadata": {},
   "outputs": [],
   "source": [
    "class ReportingState(MessagesState):\n",
    "    \"\"\"State of the Team 2: Reporting Agent\"\"\"\n",
    "    query: str\n",
    "    next: Optional[Literal['summarization', 'doc_generation']] = None\n",
    "    reasoning: str\n",
    "    task_details: str\n",
    "    research_findings: str = \"\"\n",
    "    report_type: Optional[Literal['summary','document']] = None\n",
    "    summary: Optional[str]\n",
    "    document_content: str = \"\"\n",
    "    has_summary: bool = False\n",
    "    # report_format:Optional[Literal['pdf','docx','html','markdown']] = None\n",
    "    # research_data: Dict[str, Any]\n",
    "    report_context: str = \"\"\n",
    "    report_requirements: str = \"\"\n",
    "    final_report: Optional[str]"
   ]
  },
  {
   "cell_type": "markdown",
   "id": "8595c21c",
   "metadata": {},
   "source": [
    "### Router of the Agents"
   ]
  },
  {
   "cell_type": "code",
   "execution_count": 7,
   "id": "d38c6a77",
   "metadata": {},
   "outputs": [],
   "source": [
    "class SupervisorRouter(TypedDict):\n",
    "    next: Literal['research', 'report', 'FINISH']\n",
    "    reasoning: str\n",
    "    task_details: str"
   ]
  },
  {
   "cell_type": "code",
   "execution_count": 8,
   "id": "5cd6fdee",
   "metadata": {},
   "outputs": [],
   "source": [
    "class ResearchRouter(TypedDict):\n",
    "    next: Literal['pharma', 'financial']\n",
    "    reasoning: str\n",
    "    task_details: str\n",
    "    research_context: str"
   ]
  },
  {
   "cell_type": "code",
   "execution_count": 9,
   "id": "362161ab",
   "metadata": {},
   "outputs": [],
   "source": [
    "class ReportRouter(TypedDict):\n",
    "    next: Literal['summary', 'document']\n",
    "    reasoning: str\n",
    "    report_requirements: str\n",
    "    report_context: str\n",
    "    report_format: str"
   ]
  },
  {
   "cell_type": "markdown",
   "id": "2bc068a6",
   "metadata": {},
   "source": [
    "### Agent Prompt Template"
   ]
  },
  {
   "cell_type": "markdown",
   "id": "98ee3145",
   "metadata": {},
   "source": [
    "#### supervisor prompt template"
   ]
  },
  {
   "cell_type": "code",
   "execution_count": 10,
   "id": "eee303a1",
   "metadata": {},
   "outputs": [],
   "source": [
    "supervisor_prompt_template = \"\"\"You are the Supervisor Agent coordinating a hierarchical multi-agent research system.\n",
    "\n",
    "Your responsibilities:\n",
    "1. Analyze incoming requests to determine if research or reporting is needed\n",
    "2. Coordinate between Team 1 (Research) and Team 2 (Reporting)\n",
    "3. Make decisions on workflow progression\n",
    "\n",
    "Teams under your supervision:\n",
    "- Team 1 (Research): Coordinates medical/pharma (Team 3) and financial (Team 4) research\n",
    "- Team 2 (Reporting): Coordinates summary creation (Team 5) and document generation (Team 6)\n",
    "\n",
    "Decision criteria:\n",
    "- If no research results exist and task requires data gathering then route to \"research\" agent i.e. Team 1\n",
    "- If research results exist but no report generated then route to \"reporting\" agent i.e. Team 2  \n",
    "- If final document is complete then route to \"end\"\n",
    "\n",
    "Always respond with your decision and reasoning in JSON format:\n",
    "{{  \"next_action\": \"research|reporting|end\", \n",
    "    \"reasoning\": \"explanation\", \n",
    "    \"task_details\": \"specific instructions\"}}\n",
    "\n",
    "Here is the user query: {question}\n",
    "\"\"\""
   ]
  },
  {
   "cell_type": "code",
   "execution_count": 11,
   "id": "7f9e2f40",
   "metadata": {},
   "outputs": [],
   "source": [
    "supervisor_llm_with_structured_output = llm.with_structured_output(SupervisorRouter)\n",
    "formatted_prompt = supervisor_prompt_template.format(question=\"What are the components of the medicine Ecosprin 75?\")\n",
    "response = supervisor_llm_with_structured_output.invoke(formatted_prompt)"
   ]
  },
  {
   "cell_type": "code",
   "execution_count": 12,
   "id": "d5a58b11",
   "metadata": {},
   "outputs": [
    {
     "data": {
      "text/plain": [
       "{'next': 'research',\n",
       " 'reasoning': 'The query requires gathering specific medical information about the components of Ecosprin 75, which is a task for the Research team. There is no indication that existing research results are available, necessitating a fresh research effort.',\n",
       " 'task_details': 'Team 1 should coordinate with Team 3 (Medical/Pharma Research) to gather detailed information on the components of the medicine Ecosprin 75. Once the research is complete, the findings should be documented for further processing.'}"
      ]
     },
     "execution_count": 12,
     "metadata": {},
     "output_type": "execute_result"
    }
   ],
   "source": [
    "response"
   ]
  },
  {
   "cell_type": "markdown",
   "id": "490db143",
   "metadata": {},
   "source": [
    "#### researcher prompt template"
   ]
  },
  {
   "cell_type": "code",
   "execution_count": 13,
   "id": "f64203b8",
   "metadata": {},
   "outputs": [],
   "source": [
    "researcher_prompt_template = \"\"\"You are a research coordinator that determines which specialized research agent should handle a query.\n",
    "\n",
    "Your responsibilities:\n",
    "1. Analyze the incoming query and determine whether it requires:\n",
    "    - \"finance\": Financial research, market analysis, economic data, investment research, financial modeling, etc.\n",
    "    - \"pharma\": Pharmaceutical research, drug development, clinical trials, regulatory affairs, medical research, etc.\n",
    "2. Coordinate between Team 3 (Pharma Specialist Researcher) and Team 4 (Finance Specialist Researcher)\n",
    "3. Consolidate results from specialized research\n",
    "4. Report back to Supervisor\n",
    "\n",
    "Teams under your supervision:\n",
    "- Team 3 (Pharma Specialist Researcher): Perform Pharma Related Research and returns query related research information in the field of pharma and medicine\n",
    "- Team 4 (Finance Specialist Researcher): Perform Finance Related Research and returns query related research information in the field of finance\n",
    "\n",
    "Consider the following:\n",
    "- What type of specialized knowledge is required?\n",
    "- Which domain expertise would be most valuable?\n",
    "- Are there any domain-specific terminologies or concepts?\n",
    "- What kind of data sources would be most relevant?\n",
    "    \n",
    "Provide your routing decision with clear reasoning and specific task details for the chosen agent.\n",
    "\n",
    "Query: {question}\n",
    "Task Details: {task_details}\n",
    "\"\"\""
   ]
  },
  {
   "cell_type": "code",
   "execution_count": 14,
   "id": "6d397450",
   "metadata": {},
   "outputs": [
    {
     "data": {
      "text/plain": [
       "{'next': 'pharma',\n",
       " 'reasoning': 'The query specifically asks about the components of a medicine, Ecosprin 75, which falls under the domain of pharmaceutical research. This requires specialized knowledge in drug composition and medical formulations.',\n",
       " 'task_details': 'Team 3 (Pharma Specialist Researcher) is tasked with investigating and gathering detailed information on the components of the medicine Ecosprin 75. This includes identifying the active and inactive ingredients, understanding their roles, and any relevant pharmacological data.',\n",
       " 'research_context': 'Ecosprin 75 is a medication used primarily for its antiplatelet properties, often prescribed to prevent heart attacks and strokes. Understanding its composition is crucial for healthcare professionals and patients to ensure its safe and effective use.'}"
      ]
     },
     "execution_count": 14,
     "metadata": {},
     "output_type": "execute_result"
    }
   ],
   "source": [
    "researcher_llm_with_structured_output = llm.with_structured_output(ResearchRouter)\n",
    "research_formatted_prompt = researcher_prompt_template.format(question=\"What are the components of the medicine Ecosprin 75?\",\n",
    "                                                     task_details=\"Investigate and gather information on the components of Ecosprin 75.\")\n",
    "response = researcher_llm_with_structured_output.invoke(research_formatted_prompt)\n",
    "response"
   ]
  },
  {
   "cell_type": "markdown",
   "id": "a7f5759c",
   "metadata": {},
   "source": [
    "#### reporter prompt template"
   ]
  },
  {
   "cell_type": "code",
   "execution_count": 15,
   "id": "a36fae9f",
   "metadata": {},
   "outputs": [],
   "source": [
    "reporter_prompt_template = \"\"\"You are a report coordinator that determines the appropriate reporting workflow based on the research findings and requirements.\n",
    "\n",
    "Analyze the request and determine the reporting workflow:\n",
    "\n",
    "DECISION RULES:\n",
    "- If NO summary exists AND user wants a document: Route to \"summary\" first\n",
    "- If summary exists AND user wants a document: Route to \"document\" \n",
    "- If user only wants a summary: Route to \"summary\"\n",
    "- If unclear, default to \"summary\" first\n",
    "\n",
    "Consider the following factors:\n",
    "- What type of output does the user need? (summary, full document, both)\n",
    "- What format is most appropriate? (markdown, PDF, HTML, etc.)\n",
    "- How detailed should the report be?\n",
    "- What is the intended audience?\n",
    "- Are there specific requirements mentioned?\n",
    "\n",
    "Provide your routing decision with clear reasoning and specific requirements for the chosen agent.\n",
    "\n",
    "Query: {question}\n",
    "Task Details: {task_details}\n",
    "Research Findings: {research_findings}\n",
    "\"\"\""
   ]
  },
  {
   "cell_type": "code",
   "execution_count": 16,
   "id": "f6c6dfb6",
   "metadata": {},
   "outputs": [
    {
     "data": {
      "text/plain": [
       "{'next': 'summary',\n",
       " 'reasoning': \"Given the query, the user is seeking information about the components of Ecosprin 75. The request is straightforward and does not specify a need for a full document or detailed analysis. Additionally, the research findings provided are minimal, indicating that a summary would suffice to address the user's needs.\",\n",
       " 'report_requirements': '1. Identify and list the active and inactive ingredients in Ecosprin 75. \\n2. Provide a brief description of the primary function of each component, focusing on its role in blood thinning.\\n3. Ensure the summary is concise and easy to understand for a general audience.',\n",
       " 'report_context': 'The user is interested in understanding the components of Ecosprin 75, likely for general knowledge or personal health considerations. The summary should be accessible to individuals without a medical background.',\n",
       " 'report_format': 'markdown'}"
      ]
     },
     "execution_count": 16,
     "metadata": {},
     "output_type": "execute_result"
    }
   ],
   "source": [
    "reporter_llm_with_structured_output = llm.with_structured_output(ReportRouter)\n",
    "reporter_formatted_prompt = reporter_prompt_template.format(question=\"What are the components of the medicine Ecosprin 75?\",\n",
    "                                                     task_details=\"Investigate and gather information on the components of Ecosprin 75.\",\n",
    "                                                     research_findings=\"Ecosprin 75 helps in keeping blood thinner\")\n",
    "response = reporter_llm_with_structured_output.invoke(reporter_formatted_prompt)\n",
    "response"
   ]
  },
  {
   "cell_type": "markdown",
   "id": "5f17afbf",
   "metadata": {},
   "source": [
    "### Agents"
   ]
  },
  {
   "cell_type": "markdown",
   "id": "343f3ea1",
   "metadata": {},
   "source": [
    "#### Supervisor Agent"
   ]
  },
  {
   "cell_type": "code",
   "execution_count": 17,
   "id": "271035ce",
   "metadata": {},
   "outputs": [],
   "source": [
    "def supervisor(state:SupervisorState)->Command[Literal['research', 'report', '__end__']]:\n",
    "    \"\"\"This is the supervisor agent. It takes the query and redirects it to either the research node or reporting node\"\"\"\n",
    "    supervisor_llm_with_structured_output = llm.with_structured_output(SupervisorRouter)\n",
    "    formatted_prompt = supervisor_prompt_template.format(question=state[\"query\"])\n",
    "    response = supervisor_llm_with_structured_output.invoke(formatted_prompt)\n",
    "    \n",
    "    goto = response[\"next\"]\n",
    "\n",
    "    if goto == \"FINISH\":\n",
    "        goto=END\n",
    "    \n",
    "    supervisor_message = AIMessage(\n",
    "        content=f\"SUPERVISOR DECISION: Routing to {goto}. Reasoning: {response['reasoning']}. Task Details: {response['task_details']}\"\n",
    "    )\n",
    "    \n",
    "    return Command(goto=goto, update={\n",
    "        \"query\": state[\"query\"],\n",
    "        \"next\": goto,\n",
    "        \"reasoning\": response[\"reasoning\"],\n",
    "        \"task_details\": response[\"task_details\"],\n",
    "        \"messages\": [supervisor_message]})\n",
    "    "
   ]
  },
  {
   "cell_type": "markdown",
   "id": "11b6f1aa",
   "metadata": {},
   "source": [
    "#### Researcher Agent"
   ]
  },
  {
   "cell_type": "code",
   "execution_count": 36,
   "id": "5c56fedd",
   "metadata": {},
   "outputs": [],
   "source": [
    "def researcher(state:ResearchState)->Command[Literal['pharma','finance']]:\n",
    "    \"\"\"This is the supervisor agent. It takes the query from the supervisor agent, analyses whether it is related to pharma or finance and redirects it to either to pharma agent and finance agent.\"\"\"\n",
    "    query = state[\"query\"]\n",
    "    task_details = state[\"task_details\"]\n",
    "    researcher_llm_with_structured_output = llm.with_structured_output(ResearchRouter)\n",
    "    formatted_prompt = researcher_prompt_template.format(question=query, task_details=task_details)\n",
    "    response = researcher_llm_with_structured_output.invoke(formatted_prompt)\n",
    "\n",
    "    goto = response[\"next\"]\n",
    "\n",
    "    if goto == \"FINISH\":\n",
    "        goto=END\n",
    "    \n",
    "    researcher_message = AIMessage(\n",
    "        content=f\"RESEARCHER DECISION: Routing to {goto}. Reasoning: {response['reasoning']}. Research Context: {response['research_context']}. Task Details: {response['task_details']}\"\n",
    "    )\n",
    "\n",
    "    return Command(goto=goto, update={\n",
    "        \"query\": state[\"query\"],\n",
    "        \"next\": goto,\n",
    "        \"reasoning\": response[\"reasoning\"],\n",
    "        \"task_details\": response[\"task_details\"],\n",
    "        \"research_context\": response[\"research_context\"],\n",
    "        \"messages\": add_messages([researcher_message])})\n",
    "    "
   ]
  },
  {
   "cell_type": "markdown",
   "id": "77030bb5",
   "metadata": {},
   "source": [
    "#### Reporter Agent"
   ]
  },
  {
   "cell_type": "code",
   "execution_count": 37,
   "id": "00a07b8d",
   "metadata": {},
   "outputs": [],
   "source": [
    "def reporter(state:ReportingState):\n",
    "    \"\"\"This is the supervisor agent. It takes the query from the supervisor agent, analyses whether it is related to pharma or finance and redirects it to either to pharma agent and finance agent.\"\"\"\n",
    "    query = state[\"query\"]\n",
    "    task_details = state[\"task_details\"]\n",
    "    research_findings = state[\"research_findings\"]\n",
    "    reporter_llm_with_structured_output = llm.with_structured_output(ReportRouter)\n",
    "    reporter_formatted_prompt = reporter_prompt_template.format(question=query,\n",
    "                                                     task_details=task_details,\n",
    "                                                     research_findings=research_findings\n",
    "                                                     )\n",
    "    response = reporter_llm_with_structured_output.invoke(reporter_formatted_prompt)\n",
    "    \n",
    "    goto = response[\"next\"]\n",
    "\n",
    "    if goto == \"FINISH\":\n",
    "        goto=END\n",
    "    \n",
    "    reporter_message = AIMessage(\n",
    "        content=f\"REPORTER DECISION: Routing to {goto}. Reasoning: {response['reasoning']}. Report Requirements: {response['report_requirements']}. Report Fomat: {response['report_format']}\"\n",
    "    )\n",
    "\n",
    "    return Command(goto=goto, update={\n",
    "        \"query\": state[\"query\"],\n",
    "        \"next\": goto,\n",
    "        \"reasoning\": response[\"reasoning\"],\n",
    "        \"task_details\": response[\"task_details\"],\n",
    "        \"research_context\": response[\"research_context\"],\n",
    "        \"research_findings\": state.get(\"research_findings\", \"\"),\n",
    "        \"report_type\": goto,\n",
    "        \"report_context\": response[\"report_context\"],\n",
    "        \"report_requirements\": response[\"report_requirements\"],\n",
    "        \"report_format\": response[\"report_format\"],\n",
    "        \"messages\": add_messages([reporter_message])})"
   ]
  },
  {
   "cell_type": "markdown",
   "id": "98063e52",
   "metadata": {},
   "source": [
    "#### Medical Researcher Agent"
   ]
  },
  {
   "cell_type": "code",
   "execution_count": 63,
   "id": "0d8e0130",
   "metadata": {},
   "outputs": [],
   "source": [
    "def make_system_prompt(instruction:str)->str:\n",
    "    return  (\n",
    "        \"You are a helpful AI assistant, collaborating with other assistants.\"\n",
    "        \" Use the provided tools to gather as much information related to the question.\"\n",
    "        \" Execute what you can to make progress.\"\n",
    "        f\"\\n{instruction}\"\n",
    "    )"
   ]
  },
  {
   "cell_type": "code",
   "execution_count": null,
   "id": "68dc2dfd",
   "metadata": {},
   "outputs": [],
   "source": [
    "def medical_researcher(state:ResearchState)->Command[Literal[\"research\"]]:\n",
    "    med_web_tool = MedicalWebSearchTool()\n",
    "    drug_tool = DrugTool()\n",
    "    \n",
    "    # llm.bind_tools([med_web_tool, drug_tool]).invoke(\"paracetamol\")\n",
    "    medical_research_agent=create_react_agent(\n",
    "        llm,\n",
    "        tools=[med_web_tool, drug_tool],\n",
    "        prompt=\"\"\"You are a helpful AI assistant, collaborating with other assistants. Use the provided tools to gather as much information related to the question in the field of pharma and medical domain. Execute what you can to make progress and provide an answer\"\"\"\n",
    "        )\n",
    "    \n",
    "    result=medical_research_agent.invoke(state[\"query\"])\n",
    "    # goto=get_next_node(result[\"messages\"][-1],\"chart_generator\")\n",
    "    # result[\"messages\"][-1] = HumanMessage(content=result[\"messages\"][-1].content, name=\"researcher\")\n",
    "    # return Command(update={\"messages\": result[\"messages\"]},goto=goto)\n",
    "    return Command(\n",
    "        update={\n",
    "            \"medical_results\": [\n",
    "                HumanMessage(content=result[\"messages\"][-1].content, name=\"medical_researcher\")\n",
    "            ]\n",
    "        },\n",
    "        goto=\"research\",\n",
    "    )"
   ]
  },
  {
   "cell_type": "code",
   "execution_count": 61,
   "id": "e81bf92d",
   "metadata": {},
   "outputs": [],
   "source": [
    "med_web_tool = MedicalWebSearchTool()\n",
    "# drug_tool = DrugTool()\n",
    "\n",
    "# llm.bind_tools([med_web_tool, drug_tool]).invoke(\"paracetamol\")\n",
    "medical_research_agent=create_react_agent(\n",
    "    llm,\n",
    "    tools=[med_web_tool],\n",
    "    prompt=\"\"\"You are a helpful AI assistant, collaborating with other assistants. Use the provided tools to gather as much information related to the question in the field of pharma and medical domain. Execute what you can to make progress and provide an answer\"\"\"\n",
    "    )\n",
    "\n",
    "result=medical_research_agent.invoke({\"query\":\"Aspirin\"})"
   ]
  },
  {
   "cell_type": "code",
   "execution_count": 62,
   "id": "59fe886f",
   "metadata": {},
   "outputs": [
    {
     "data": {
      "text/plain": [
       "{'messages': [AIMessage(content='What specific question or topic would you like to explore in the pharma and medical domain?', additional_kwargs={'refusal': None}, response_metadata={'token_usage': {'completion_tokens': 18, 'prompt_tokens': 119, 'total_tokens': 137, 'completion_tokens_details': {'accepted_prediction_tokens': 0, 'audio_tokens': 0, 'reasoning_tokens': 0, 'rejected_prediction_tokens': 0}, 'prompt_tokens_details': {'audio_tokens': 0, 'cached_tokens': 0}}, 'model_name': 'gpt-4o-2024-08-06', 'system_fingerprint': 'fp_07871e2ad8', 'id': 'chatcmpl-BpcuTYrZ6rfOHGuLLLTgsvsFtMRfq', 'service_tier': 'default', 'finish_reason': 'stop', 'logprobs': None}, id='run--6a28133e-1d09-4b6b-9c86-55e420008a85-0', usage_metadata={'input_tokens': 119, 'output_tokens': 18, 'total_tokens': 137, 'input_token_details': {'audio': 0, 'cache_read': 0}, 'output_token_details': {'audio': 0, 'reasoning': 0}})]}"
      ]
     },
     "execution_count": 62,
     "metadata": {},
     "output_type": "execute_result"
    }
   ],
   "source": [
    "result"
   ]
  },
  {
   "cell_type": "markdown",
   "id": "8a4e4c95",
   "metadata": {},
   "source": [
    "#### Finance Researcher Agent"
   ]
  },
  {
   "cell_type": "code",
   "execution_count": 65,
   "id": "0157afd4",
   "metadata": {},
   "outputs": [],
   "source": [
    "def finance_researcher(state:ResearchState)->Command[Literal[\"research\"]]:\n",
    "    stock_data_tool = StockDataTool()\n",
    "    company_info_tool = CompanyInfoTool()\n",
    "    fin_web_search = FinancialWebSearchTool(serpapi_api_key=os.getenv(\"SERP_API_KEY\"))\n",
    "    # llm.bind_tools([med_web_tool, drug_tool]).invoke(\"paracetamol\")\n",
    "    finance_research_agent=create_react_agent(\n",
    "        llm,\n",
    "        tools=[stock_data_tool, company_info_tool, fin_web_search],\n",
    "        prompt=make_system_prompt(\n",
    "        \"You can only do research. You are working with a chart generator colleague.\"\n",
    "    ), \n",
    "        )\n",
    "    \n",
    "    result=finance_research_agent.invoke(state[\"query\"])\n",
    "    # goto=get_next_node(result[\"messages\"][-1],\"chart_generator\")\n",
    "    # result[\"messages\"][-1] = HumanMessage(content=result[\"messages\"][-1].content, name=\"researcher\")\n",
    "    # return Command(update={\"messages\": result[\"messages\"]},goto=goto)\n",
    "    return Command(\n",
    "        update={\n",
    "            \"messages\": [\n",
    "                HumanMessage(content=result[\"messages\"][-1].content, name=\"finance_researcher\")\n",
    "            ]\n",
    "        },\n",
    "        goto=\"research\",\n",
    "    )"
   ]
  },
  {
   "cell_type": "markdown",
   "id": "72db7e0f",
   "metadata": {},
   "source": [
    "#### Document Summarizer Agent"
   ]
  },
  {
   "cell_type": "code",
   "execution_count": 11,
   "id": "e131de2d",
   "metadata": {},
   "outputs": [],
   "source": [
    "def document_summarizer(state:AgentState):\n",
    "    pass"
   ]
  },
  {
   "cell_type": "markdown",
   "id": "77891b28",
   "metadata": {},
   "source": [
    "#### Document Generator Agent"
   ]
  },
  {
   "cell_type": "code",
   "execution_count": 12,
   "id": "bb9b182b",
   "metadata": {},
   "outputs": [],
   "source": [
    "def document_generator(state:AgentState):\n",
    "    pass"
   ]
  },
  {
   "cell_type": "markdown",
   "id": "275b5fcf",
   "metadata": {},
   "source": [
    "### Workflow"
   ]
  },
  {
   "cell_type": "code",
   "execution_count": 14,
   "id": "1fc9bf9e",
   "metadata": {},
   "outputs": [
    {
     "data": {
      "text/plain": [
       "<langgraph.graph.state.StateGraph at 0x236a3262e90>"
      ]
     },
     "execution_count": 14,
     "metadata": {},
     "output_type": "execute_result"
    }
   ],
   "source": [
    "graph_builder = StateGraph(AgentState)\n",
    "graph_builder.add_node(\"Researcher\", researcher)\n",
    "graph_builder.add_node(\"Reporter\", reporter)\n",
    "graph_builder.add_node(\"Supervisor\",supervisor)\n",
    "graph_builder.add_node(\"Medical Researcher\", medical_researcher)\n",
    "graph_builder.add_node(\"Finance Researcher\", finance_researcher)\n",
    "graph_builder.add_node(\"Document Summarizer\", document_summarizer)\n",
    "graph_builder.add_node(\"Document Generator\", document_generator)\n",
    "graph_builder.add_edge(START, \"Supervisor\")\n",
    "# graph_builder.add_conditional_edges(\"ai_assistant\",\n",
    "#                                     tools_condition)\n",
    "# graph_builder.add_edge(\"tools\",\"ai_assistant\")\n",
    "# app_react = graph_builder.compile(checkpointer=memory, interrupt_before=[\"tools\"])"
   ]
  },
  {
   "cell_type": "markdown",
   "id": "a6c4c7be",
   "metadata": {},
   "source": [
    "## Tools"
   ]
  },
  {
   "cell_type": "markdown",
   "id": "d092c2d9",
   "metadata": {},
   "source": [
    "### Medical Tool"
   ]
  },
  {
   "cell_type": "markdown",
   "id": "f30e5c6f",
   "metadata": {},
   "source": [
    "##### PubMed LangChain Tool"
   ]
  },
  {
   "cell_type": "code",
   "execution_count": 57,
   "id": "c5abcd38",
   "metadata": {},
   "outputs": [],
   "source": [
    "# !pip install xmltodict"
   ]
  },
  {
   "cell_type": "code",
   "execution_count": 62,
   "id": "7f16f097",
   "metadata": {},
   "outputs": [
    {
     "name": "stdout",
     "output_type": "stream",
     "text": [
      "('Published: 2025-07-04\\n'\n",
      " 'Title: Institutional Experience in Aspirin-Exacerbated Respiratory Disease '\n",
      " 'Yields Favorable Pulmonary and Sinonasal Outcomes.\\n'\n",
      " 'Copyright Information: \\n'\n",
      " 'Summary::\\n'\n",
      " 'BACKGROUND: Aspirin-exacerbated respiratory disease (AERD) is characterized '\n",
      " 'by asthma, chronic rhinosinusitis with polyps, and sensitivity to aspirin '\n",
      " '(ASA). Optimal treatment requires coordinated medical and surgical '\n",
      " 'management, with prior studies showing that a single-center approach to AERD '\n",
      " 'management yields improved sinonasal patient outcomes. Here, we sought to '\n",
      " 'evaluate whether institutional experience enhances pulmonary and sinonasal '\n",
      " 'outcomes in patients with AERD undergoing functional endoscopic sinus '\n",
      " 'surgery (FESS) followed by ASA desensitization (AD).\\n'\n",
      " 'METHODS: Single-center, retrospective cohort study evaluating patients '\n",
      " 'undergoing FESS and AD from 2016 to 2024. Cohorts were defined as \"early\" '\n",
      " '(2016-2019) and \"late\" (2020-2024). Demographics, clinical history, and '\n",
      " 'quality of life metrics [eg, 22-Item SinoNasal Outcome Test (SNOT-22) score] '\n",
      " 'were assessed. Cohorts were compared with statistical significance defined '\n",
      " 'as  < .05.\\n'\n",
      " 'RESULTS: Two hundred sixty-two patients (n = 145 early, 117 late) met '\n",
      " 'inclusion criteria. The late cohort was younger (mean 49.6 vs 56.4 years,  = '\n",
      " '.042) with fewer prior surgeries (1.33 vs 2.64,  ≤ .001) at the time of '\n",
      " 'referral. Results showed a reduced need for inhaled corticosteroids and '\n",
      " 'beta-agonists in the late cohort and improved SNOT-22 rhinologic sub-scores '\n",
      " 'in the early post-treatment period (post-FESS, pre-AD; 2-3 months '\n",
      " 'post-treatment; 4-6 months post-treatment), with a reduced need for revision '\n",
      " 'surgery (0% vs 6.9%,  = .010).\\n'\n",
      " 'CONCLUSIONS: Greater institutional experience in AERD management yields '\n",
      " 'significantly improved pulmonary outcomes and more rapid improvement in '\n",
      " 'sinonasal outcomes. This was felt to be due to enhanced communication and '\n",
      " 'coordination of care between the allergist and rhinologist, with '\n",
      " 'implications for healthcare expenditures.\\n'\n",
      " '\\n'\n",
      " 'Publi')\n"
     ]
    }
   ],
   "source": [
    "from langchain_community.tools.pubmed.tool import PubmedQueryRun\n",
    "pubmed_query_tool = PubmedQueryRun()\n",
    "pprint(pubmed_query_tool.invoke(\"Aspirin\"))"
   ]
  },
  {
   "cell_type": "code",
   "execution_count": null,
   "id": "9d79fd42",
   "metadata": {},
   "outputs": [],
   "source": [
    "# Queries like a molecular composition of a drug or clinical research related query cannot be answered, hence a more enhanced tool is required"
   ]
  },
  {
   "cell_type": "markdown",
   "id": "e20a0084",
   "metadata": {},
   "source": [
    "#### Medical Web Search Tool(For Future Implementation)"
   ]
  },
  {
   "cell_type": "markdown",
   "id": "8e1921a7",
   "metadata": {},
   "source": [
    "##### Test"
   ]
  },
  {
   "cell_type": "code",
   "execution_count": 17,
   "id": "4bc13e23",
   "metadata": {},
   "outputs": [],
   "source": [
    "# !pip install Bio"
   ]
  },
  {
   "cell_type": "code",
   "execution_count": 18,
   "id": "81ebcb30",
   "metadata": {},
   "outputs": [
    {
     "data": {
      "text/plain": [
       "{'Count': '169', 'RetMax': '3', 'RetStart': '0', 'IdList': ['10259437', '10824206', '11128359'], 'TranslationSet': [], 'TranslationStack': [{'Term': 'ecosprin[All Fields]', 'Field': 'All Fields', 'Count': '170', 'Explode': 'N'}, 'GROUP'], 'QueryTranslation': 'ecosprin[All Fields]'}"
      ]
     },
     "execution_count": 18,
     "metadata": {},
     "output_type": "execute_result"
    }
   ],
   "source": [
    "from Bio import Entrez, Medline\n",
    "Entrez.email = \"researcher@example.com\"\n",
    "handle = Entrez.esearch(db=\"pmc\", term=\"ecosprin\", retmax=3, sort=\"relevance\")\n",
    "search_results = Entrez.read(handle)\n",
    "handle.close()\n",
    "\n",
    "search_results"
   ]
  },
  {
   "cell_type": "code",
   "execution_count": 19,
   "id": "a35632f3",
   "metadata": {},
   "outputs": [],
   "source": [
    "if search_results.get(\"IdList\"):\n",
    "    handle = Entrez.efetch(\n",
    "        db=\"pmc\",\n",
    "        id=search_results[\"IdList\"],\n",
    "        retmode=\"xml\")"
   ]
  },
  {
   "cell_type": "code",
   "execution_count": 20,
   "id": "92022648",
   "metadata": {},
   "outputs": [
    {
     "data": {
      "text/plain": [
       "[{'source': 'PubMed Central (PMC)',\n",
       "  'title': 'Triumph Over Adversity: A Comprehensive Case Series on Successful Pregnancy Outcomes in Antiphospholipid Antibody (APLA)-Positive Patients',\n",
       "  'authors': ['Manju Mathesan', 'Shanthi Ethirajan'],\n",
       "  'journal': 'Cureus',\n",
       "  'publication_date': '2024-4-26',\n",
       "  'abstract': None,\n",
       "  'pmcid': '',\n",
       "  'pmid': '38803763',\n",
       "  'doi': [],\n",
       "  'keywords': []},\n",
       " {'source': 'PubMed Central (PMC)',\n",
       "  'title': 'Bullous hemorrhagic dermatosis: A rare cutaneous reaction of heparin',\n",
       "  'authors': ['N Dhattarwal', 'R Gurjar'],\n",
       "  'journal': 'Journal of Postgraduate Medicine',\n",
       "  'publication_date': '2023',\n",
       "  'abstract': None,\n",
       "  'pmcid': '',\n",
       "  'pmid': '36861545',\n",
       "  'doi': [],\n",
       "  'keywords': []},\n",
       " {'source': 'PubMed Central (PMC)',\n",
       "  'title': 'Cardiac tamponade and basilar artery aneurysm following leptospirosis: A case report',\n",
       "  'authors': ['Saumitra Misra',\n",
       "   'Syed Nabeel Muzaffar',\n",
       "   'Shubhajeet Roy',\n",
       "   'Shashank Prajapati'],\n",
       "  'journal': 'International Journal of Critical Illness and Injury Science',\n",
       "  'publication_date': '2023',\n",
       "  'abstract': None,\n",
       "  'pmcid': '',\n",
       "  'pmid': '38292400',\n",
       "  'doi': [],\n",
       "  'keywords': []}]"
      ]
     },
     "execution_count": 20,
     "metadata": {},
     "output_type": "execute_result"
    }
   ],
   "source": [
    "import xml.etree.ElementTree as ET\n",
    "xml_data = handle.read()\n",
    "handle.close()\n",
    "root = ET.fromstring(xml_data)\n",
    "results = []\n",
    "for article in root.findall(\".//article\"):\n",
    "    # Extract article metadata\n",
    "    title_elem = article.find(\".//article-title\")\n",
    "    abstract_elem = article.find(\".//abstract\")\n",
    "    journal_elem = article.find(\".//journal-title\")\n",
    "    pmcid_elem = article.find(\".//article-id[@pub-id-type='pmc']\")\n",
    "    pmid_elem = article.find(\".//article-id[@pub-id-type='pmid']\")\n",
    "    \n",
    "    # Extract authors\n",
    "    authors = []\n",
    "    for author in article.findall(\".//contrib[@contrib-type='author']\"):\n",
    "        given_name = author.find(\".//given-names\")\n",
    "        surname = author.find(\".//surname\")\n",
    "        if given_name is not None and surname is not None:\n",
    "            authors.append(f\"{given_name.text} {surname.text}\")\n",
    "    \n",
    "    # Extract publication date\n",
    "    pub_date = \"\"\n",
    "    date_elem = article.find(\".//pub-date\")\n",
    "    if date_elem is not None:\n",
    "        year = date_elem.find(\".//year\")\n",
    "        month = date_elem.find(\".//month\")\n",
    "        day = date_elem.find(\".//day\")\n",
    "        if year is not None:\n",
    "            pub_date = year.text\n",
    "            if month is not None:\n",
    "                pub_date += f\"-{month.text}\"\n",
    "            if day is not None:\n",
    "                pub_date += f\"-{day.text}\"\n",
    "    \n",
    "    results.append({\n",
    "        \"source\": \"PubMed Central (PMC)\",\n",
    "        \"title\": title_elem.text if title_elem is not None else \"\",\n",
    "        \"authors\": authors,\n",
    "        \"journal\": journal_elem.text if journal_elem is not None else \"\",\n",
    "        \"publication_date\": pub_date,\n",
    "        \"abstract\": abstract_elem.text if abstract_elem is not None else \"\",\n",
    "        \"pmcid\": pmcid_elem.text if pmcid_elem is not None else \"\",\n",
    "        \"pmid\": pmid_elem.text if pmid_elem is not None else \"\",\n",
    "        \"doi\": [],\n",
    "        \"keywords\": []\n",
    "    })\n",
    "\n",
    "results"
   ]
  },
  {
   "cell_type": "code",
   "execution_count": 21,
   "id": "43853476",
   "metadata": {},
   "outputs": [
    {
     "data": {
      "text/plain": [
       "{'header': {'type': 'esearch', 'version': '0.3'},\n",
       " 'esearchresult': {'count': '169',\n",
       "  'retmax': '3',\n",
       "  'retstart': '0',\n",
       "  'idlist': ['10259437', '10824206', '11128359'],\n",
       "  'translationset': [],\n",
       "  'translationstack': [{'term': 'ecosprin[All Fields]',\n",
       "    'field': 'All Fields',\n",
       "    'count': '170',\n",
       "    'explode': 'N'},\n",
       "   'GROUP'],\n",
       "  'querytranslation': 'ecosprin[All Fields]'}}"
      ]
     },
     "execution_count": 21,
     "metadata": {},
     "output_type": "execute_result"
    }
   ],
   "source": [
    "import requests\n",
    "search_url = \"https://eutils.ncbi.nlm.nih.gov/entrez/eutils/esearch.fcgi\"\n",
    "search_params = {\n",
    "    \"db\": \"pmc\",\n",
    "    \"term\": \"ecosprin\",\n",
    "    \"retmax\": 3,\n",
    "    \"retmode\": \"json\",\n",
    "    \"sort\": \"relevance\"\n",
    "}\n",
    "search_response = requests.get(search_url, params=search_params)\n",
    "if search_response.status_code == 200:\n",
    "    search_data = search_response.json()\n",
    "\n",
    "search_data"
   ]
  },
  {
   "cell_type": "code",
   "execution_count": 22,
   "id": "f3d6ed57",
   "metadata": {},
   "outputs": [
    {
     "data": {
      "text/plain": [
       "[]"
      ]
     },
     "execution_count": 22,
     "metadata": {},
     "output_type": "execute_result"
    }
   ],
   "source": [
    "import requests\n",
    "search_url = \"https://eutils.ncbi.nlm.nih.gov/entrez/eutils/esearch.fcgi\"\n",
    "search_params = {\n",
    "    \"db\": \"pmc\",\n",
    "    \"term\": \"ecosprin\",\n",
    "    \"retmax\": 3,\n",
    "    \"retmode\": \"json\",\n",
    "    \"sort\": \"relevance\"\n",
    "}\n",
    "search_response = requests.get(search_url, params=search_params)\n",
    "if search_response.status_code == 200:\n",
    "    search_data = search_response.json()\n",
    "    pmids = search_data.get(\"esearchresult\", {}).get(\"idlist\", [])\n",
    "    \n",
    "    if pmids:\n",
    "        # Fetch detailed information\n",
    "        fetch_url = \"https://eutils.ncbi.nlm.nih.gov/entrez/eutils/efetch.fcgi\"\n",
    "        fetch_params = {\n",
    "            \"db\": \"pmc\",\n",
    "            \"id\": \",\".join(pmids),\n",
    "            \"retmode\": \"xml\"\n",
    "        }\n",
    "        \n",
    "        fetch_response = requests.get(fetch_url, params=fetch_params)\n",
    "        if fetch_response.status_code == 200:\n",
    "            # Parse XML response with proper author extraction\n",
    "            import xml.etree.ElementTree as ET\n",
    "            root = ET.fromstring(fetch_response.content)\n",
    "            \n",
    "            results = []\n",
    "            for article in root.findall(\".//PubmedArticle\"):\n",
    "                # Extract basic info\n",
    "                title_elem = article.find(\".//ArticleTitle\")\n",
    "                abstract_elem = article.find(\".//AbstractText\")\n",
    "                journal_elem = article.find(\".//Journal/Title\")\n",
    "                pmid_elem = article.find(\".//PMID\")\n",
    "                \n",
    "                # Extract authors properly\n",
    "                authors = []\n",
    "                author_list = article.find(\".//AuthorList\")\n",
    "                if author_list is not None:\n",
    "                    for author in author_list.findall(\".//Author\"):\n",
    "                        # Try to get last name and first name\n",
    "                        last_name = author.find(\".//LastName\")\n",
    "                        first_name = author.find(\".//ForeName\")\n",
    "                        initials = author.find(\".//Initials\")\n",
    "                        \n",
    "                        if last_name is not None:\n",
    "                            author_name = last_name.text\n",
    "                            if first_name is not None:\n",
    "                                author_name = f\"{first_name.text} {author_name}\"\n",
    "                            elif initials is not None:\n",
    "                                author_name = f\"{initials.text} {author_name}\"\n",
    "                            authors.append(author_name)\n",
    "                \n",
    "                # Extract publication date\n",
    "                pub_date = \"\"\n",
    "                pub_date_elem = article.find(\".//PubDate\")\n",
    "                if pub_date_elem is not None:\n",
    "                    year = pub_date_elem.find(\".//Year\")\n",
    "                    month = pub_date_elem.find(\".//Month\")\n",
    "                    day = pub_date_elem.find(\".//Day\")\n",
    "                    \n",
    "                    if year is not None:\n",
    "                        pub_date = year.text\n",
    "                        if month is not None:\n",
    "                            pub_date += f\"-{month.text}\"\n",
    "                            if day is not None:\n",
    "                                pub_date += f\"-{day.text}\"\n",
    "                \n",
    "                # Extract keywords/MeSH terms\n",
    "                keywords = []\n",
    "                mesh_list = article.find(\".//MeshHeadingList\")\n",
    "                if mesh_list is not None:\n",
    "                    for mesh in mesh_list.findall(\".//MeshHeading\"):\n",
    "                        descriptor = mesh.find(\".//DescriptorName\")\n",
    "                        if descriptor is not None:\n",
    "                            keywords.append(descriptor.text)\n",
    "                \n",
    "                results.append({\n",
    "                    \"source\": \"PubMed (REST API)\",\n",
    "                    \"title\": title_elem.text if title_elem is not None else \"\",\n",
    "                    \"abstract\": abstract_elem.text if abstract_elem is not None else \"\",\n",
    "                    \"journal\": journal_elem.text if journal_elem is not None else \"\",\n",
    "                    \"pmid\": pmid_elem.text if pmid_elem is not None else \"\",\n",
    "                    \"authors\": authors,\n",
    "                    \"publication_date\": pub_date,\n",
    "                    \"keywords\": keywords\n",
    "                })\n",
    "        \n",
    "results"
   ]
  },
  {
   "cell_type": "code",
   "execution_count": 23,
   "id": "13349483",
   "metadata": {},
   "outputs": [
    {
     "data": {
      "text/plain": [
       "{'Count': '169',\n",
       " 'RetMax': '3',\n",
       " 'RetStart': '0',\n",
       " 'IdList': ['10259437', '10824206', '11128359'],\n",
       " 'TranslationSet': [],\n",
       " 'TranslationStack': [{'Term': 'ecosprin[All Fields]',\n",
       "   'Field': 'All Fields',\n",
       "   'Count': '170',\n",
       "   'Explode': 'N'},\n",
       "  'GROUP'],\n",
       " 'QueryTranslation': 'ecosprin[All Fields]'}"
      ]
     },
     "execution_count": 23,
     "metadata": {},
     "output_type": "execute_result"
    }
   ],
   "source": [
    "{'Count': '169', 'RetMax': '3', 'RetStart': '0', 'IdList': ['10259437', '10824206', '11128359'], 'TranslationSet': [], 'TranslationStack': [{'Term': 'ecosprin[All Fields]', 'Field': 'All Fields', 'Count': '170', 'Explode': 'N'}, 'GROUP'], 'QueryTranslation': 'ecosprin[All Fields]'}"
   ]
  },
  {
   "cell_type": "code",
   "execution_count": 24,
   "id": "ff24e34e",
   "metadata": {},
   "outputs": [
    {
     "data": {
      "text/plain": [
       "[{'source': 'PubMed',\n",
       "  'title': '[Effects of antisense human telomerase RNA on growth of human gastric cancer cells].',\n",
       "  'abstract': 'To observe the inhibitory effects of antisense human telomerase RNA (hTR) on growth of human gastric cancer cells.',\n",
       "  'journal': 'Zhonghua bing li xue za zhi = Chinese journal of pathology',\n",
       "  'pmid': '11866938',\n",
       "  'authors': [],\n",
       "  'publication_date': '',\n",
       "  'doi': [],\n",
       "  'keywords': []},\n",
       " {'source': 'PubMed',\n",
       "  'title': 'Aminoglycoside dosing: time to change.',\n",
       "  'abstract': '',\n",
       "  'journal': 'Australian and New Zealand journal of medicine',\n",
       "  'pmid': '7980229',\n",
       "  'authors': [],\n",
       "  'publication_date': '',\n",
       "  'doi': [],\n",
       "  'keywords': []}]"
      ]
     },
     "execution_count": 24,
     "metadata": {},
     "output_type": "execute_result"
    }
   ],
   "source": [
    "[{'source': 'PubMed', 'title': '[Effects of antisense human telomerase RNA on growth of human gastric cancer cells].', 'abstract': 'To observe the inhibitory effects of antisense human telomerase RNA (hTR) on growth of human gastric cancer cells.', 'journal': 'Zhonghua bing li xue za zhi = Chinese journal of pathology', 'pmid': '11866938', 'authors': [], 'publication_date': '', 'doi': [], 'keywords': []}, {'source': 'PubMed', 'title': 'Aminoglycoside dosing: time to change.', 'abstract': '', 'journal': 'Australian and New Zealand journal of medicine', 'pmid': '7980229', 'authors': [], 'publication_date': '', 'doi': [], 'keywords': []}]"
   ]
  },
  {
   "cell_type": "code",
   "execution_count": 25,
   "id": "a6b72897",
   "metadata": {},
   "outputs": [
    {
     "data": {
      "text/plain": [
       "[{'source': 'FDA',\n",
       "  'brand_name': ['Pilocarpine Hydrochloride'],\n",
       "  'generic_name': ['PILOCARPINE HYDROCHLORIDE'],\n",
       "  'manufacturer': ['Bryant Ranch Prepack'],\n",
       "  'indication': [\"INDICATIONS AND USAGE: Pilocarpine hydrochloride tablets, USP are indicated for 1) the treatment of symptoms of dry mouth from salivary gland hypofunction caused by radiotherapy for cancer of the head and neck; and 2) the treatment of symptoms of dry mouth in patients with Sjogren's syndrome.\"],\n",
       "  'dosage': [\"DOSAGE AND ADMINISTRATION: Regardless of the indication, the starting dose in patients with moderate hepatic impairment should be 5 mg twice daily, followed by adjustment based on therapeutic response and tolerability. Patients with mild hepatic insufficiency do not require dosage reductions. The use of pilocarpine in patients with severe hepatic insufficiency is not recommended. If needed, refer to the Hepatic Insufficiency subsection of the Precautions section of this label for definitions of mild, moderate and severe hepatic impairment. Head & Neck Cancer Patients: The recommended initial dose of pilocarpine hydrochloride tablets is 5 mg taken three times a day. Dosage should be titrated according to therapeutic response and tolerability. The usual dosage range is 15-30 mg per day. (Not to exceed 10 mg per dose.) Although early improvement may be realized, at least 12 weeks of uninterrupted therapy with pilocarpine hydrochloride tablets may be necessary to assess whether a beneficial response will be achieved. The incidence of the most common adverse events increases with dose. The lowest dose that is tolerated and effective should be used for maintenance. Sjogren's Syndrome Patients: The recommended dose of pilocarpine hydrochloride tablets is one tablet (5 mg) taken four times a day. Efficacy was established by 6 weeks of use.\"],\n",
       "  'warnings': ['WARNINGS: Cardiovascular Disease: Patients with significant cardiovascular disease may be unable to compensate for transient changes in hemodynamics or rhythm induced by pilocarpine. Pulmonary edema has been reported as a complication of pilocarpine toxicity from high ocular doses given for acute angle-closure glaucoma. Pilocarpine should be administered with caution in and under close medical supervision of patients with significant cardiovascular disease. Ocular: Ocular formulations of pilocarpine have been reported to cause visual blurring which may result in decreased visual acuity, especially at night and in patients with central lens changes, and to cause impairment of depth perception. Caution should be advised while driving at night or performing hazardous activities in reduced lighting. Pulmonary Disease: Pilocarpine has been reported to increase airway resistance, bronchial smooth muscle tone, and bronchial secretions. Pilocarpine hydrochloride should be administered with caution to and under close medical supervision in patients with controlled asthma, chronic bronchitis, or chronic obstructive pulmonary disease requiring pharmacotherapy.'],\n",
       "  'adverse_reactions': [\"ADVERSE REACTIONS: Head & Neck Cancer Patients: In controlled studies, 217 patients received pilocarpine, of whom 68% were men and 32% were women. Race distribution was 91% Caucasian, 8% Black, and 1% of other origin. Mean age was approximately 58 years. The majority of patients were between 50 and 64 years (51%), 33% were 65 years and older and 16% were younger than 50 years of age. The most frequent adverse experiences associated with pilocarpine hydrochloride tablets were a consequence of the expected pharmacologic effects of pilocarpine. Adverse Event Pilocarpine HCl Placebo 10 mg t.i.d. (30 mg/day) 5 mg t.i.d. (15 mg/day) (t.i.d.) n=121 n=141 n=152 Sweating 68% 29% 9% Nausea 15 6 4 Rhinitis 14 5 7 Diarrhea 7 4 5 Chills 15 3 <1 Flushing 13 8 3 Urinary Frequency 12 9 7 Dizziness 12 5 4 Asthenia 12 6 3 In addition, the following adverse events (≥3% incidence) were reported at dosages of 15-30 mg/day in the controlled clinical trials: Adverse Event Pilocarpine HCl Placebo 5-10 mg t.i.d. (15-30 mg/day) (t.i.d.) n=212 n=152 Headache 11% 8% Dyspepsia 7 5 Lacrimation 6 8 Edema 5 4 Abdominal Pain 4 4 Amblyopia 4 2 Vomiting 4 1 Pharyngitis 3 8 Hypertension 3 1 The following events were reported with treated head and neck cancer patients at incidences of 1% to 2% at dosages of 7.5 to 30 mg/day: abnormal vision, conjunctivitis, dysphagia, epistaxis, myalgias, pruritus, rash, sinusitis, tachycardia, taste perversion, tremor, voice alteration. The following events were reported rarely in treated head and neck cancer patients (<1%): Causal relation is unknown. Body as a whole: body odor, hypothermia, mucous membrane abnormality Cardiovascular: bradycardia, ECG abnormality, palpitations, syncope Digestive: anorexia, increased appetite, esophagitis, gastrointestinal disorder, tongue disorder Hematologic: leukopenia, lymphadenopathy Nervous: anxiety, confusion, depression, abnormal dreams, hyperkinesia, hypesthesia, nervousness, paresthesias, speech disorder, twitching Respiratory: increased sputum, stridor, yawning Skin: seborrhea Special senses: deafness, eye pain, glaucoma Urogenital: dysuria, metrorrhagia, urinary impairment In long-term treatment were two patients with underlying cardiovascular disease of whom one experienced a myocardial infarct and another episode of syncope. The association with drug is uncertain. Sjogren's Syndrome Patients: In controlled studies, 376 patients received pilocarpine, of whom 5% were men and 95% were women. Race distribution was 84% Caucasian, 9% Oriental, 3% Black, and 4% of other origin. Mean age was 55 years. The majority of patients were between 40 and 69 years (70%), 16% were 70 years and older and 14% were younger than 40 years of age. Of these patients, 161/629 (89/376 receiving pilocarpine) were over the age of 65 years. The adverse events reported by those over 65 years and those 65 years and younger were comparable except for notable trends for urinary frequency, diarrhea, and dizziness. The incidences of urinary frequency and diarrhea in the elderly were about double those in the non-elderly. The incidence of dizziness was about three times as high in the elderly as in the non-elderly. These adverse experiences were not considered to be serious. In the 2 placebo-controlled studies, the most common adverse events related to drug use were sweating, urinary frequency, chills, and vasodilatation (flushing). The most commonly reported reason for patient discontinuation of treatment was sweating. Expected pharmacologic effects of pilocarpine include the following adverse experiences associated with pilocarpine hydrochloride tablets: Adverse Event Pilocarpine HCl Placebo 5 mg q.i.d. (20 mg/day) (q.i.d.) n=255 n=253 Sweating 40% 7% Urinary Frequency 10 4 Nausea 9 9 Flushing 9 2 Rhinitis 7 8 Diarrhea 6 7 Chills 4 2 Increased Salivation 3 0 Asthenia 2 2 In addition, the following adverse events (≥3% incidence) were reported at dosages of 15-30 mg/day in the controlled clinical trials: Adverse Event Pilocarpine HCl Placebo 5 mg q.i.d. (20 mg/day) (q.i.d.) n=255 n=253 Headache 13% 19% Flu Syndrome 9 9 Dyspepsia 7 7 Dizziness 6 7 Pain 4 2 Sinusitis 4 5 Abdominal Pain 3 4 Vomiting 3 1 Pharyngitis 2 5 Rash 2 3 Infection 2 6 The following events were reported with treated head and neck cancer patients at incidences of 1% to 2% at dosages of 7.5 to 30 mg/day: abnormal vision, conjunctivitis, dysphagia, epistaxis, myalgias, pruritus, rash, sinusitis, tachycardia, taste perversion, tremor, voice alteration. The following events were reported rarely in treated Sjogren's patients (<1%) at dosing of 10-30 mg/day: Causal relation is unknown. Body as a whole: chest pain, cyst, death, moniliasis, neck pain, neck rigidity, photosensitivity reaction Cardiovascular: angina pectoris, arrhythmia, ECG abnormality, hypotension, hypertension, intracranial hemorrhage, migraine, myocardial infarction Digestive: anorexia, bilirubinemia, cholelithiasis, colitis, dry mouth, eructation, gastritis, gastroenteritis, gastrointestinal disorder, gingivitis, hepatitis, abnormal liver function tests, melena, nausea & vomiting, pancreatitis, parotid gland enlargement, salivary gland enlargement, sputum increased, taste loss, tongue disorder, tooth disorder Hematologic: hematuria, lymphadenopathy, abnormal platelets, thrombocythemia, thrombocytopenia, thrombosis, abnormal WBC Metabolic and Nutritional: peripheral edema, hypoglycemia Musculoskeletal: arthralgia, arthritis, bone disorder, spontaneous bone fracture, pathological fracture, myasthenia, tendon disorder, tenosynovitis Nervous: aphasia, confusion, depression, abnormal dreams, emotional lability, hyperkinesia, hypesthesia, insomnia, leg cramps, nervousness, paresthesias, abnormal thinking, tremor Respiratory: bronchitis, dyspnea, hiccup, laryngismus, laryngitis, pneumonia, viral infection, voice alteration Skin: alopecia, contact dermatitis, dry skin, eczema, erythema nodosum, exfoliative dermatitis, herpes simplex, skin ulcer, vesiculobullous rash Special senses: cataract, conjunctivitis, dry eyes, ear disorder, ear pain, eye disorder, eye hemorrhage, glaucoma, lacrimation disorder, retinal disorder, taste perversion, abnormal vision Urogenital: breast pain, dysuria, mastitis, menorrhagia, metrorrhagia, ovarian disorder, pyuria, salpingitis, urethral pain, urinary urgency, vaginal hemorrhage, vaginal moniliasis The following adverse experiences have been reported rarely with ocular pilocarpine: A-V block, agitation, ciliary congestion, confusion, delusion, depression, dermatitis, middle ear disturbance, eyelid twitching, malignant glaucoma, iris cysts, macular hole, shock, and visual hallucination.\"]},\n",
       " {'source': 'FDA',\n",
       "  'brand_name': ['Bupivacaine'],\n",
       "  'generic_name': ['BUPIVACAINE'],\n",
       "  'manufacturer': ['Jiangsu Hengrui Pharmaceuticals Co., Ltd.'],\n",
       "  'indication': ['1. INDICATIONS AND USAGE Bupivacaine liposome injectable suspension is indicated to produce postsurgical: Local analgesia via infiltration in adults Regional analgesia via an interscalene brachial plexus nerve block in adults Limitations of Use The safety and effectiveness of bupivacaine liposome injectable suspension have not been established to produce postsurgical regional analgesia via other nerve blocks besides an interscalene brachial plexus nerve block. Bupivacaine liposome injectable suspension contains bupivacaine, an amide local anesthetic, and is indicated to produce postsurgical: Local analgesia via infiltration in adults ( 1 ). Regional analgesia via an interscalene brachial plexus nerve block in adults ( 1 ). Limitations of Use The safety and effectiveness of bupivacaine liposome injectable suspension have not been established to produce postsurgical regional analgesia via other nerve blocks besides an interscalene brachial plexus nerve block.'],\n",
       "  'dosage': ['2. DOSAGE AND ADMINISTRATION Bupivacaine liposome injectable suspension is for single administration only ( 2.1 ). Bupivacaine liposome injectable suspension is not substitutable with other bupivacaine products even if the strength is the same. Therefore, it is not possible to convert a dose from other bupivacaine products to a bupivacaine liposome injectable suspension dose and vice versa ( 2.1 , 2.5 ). Do not dilute bupivacaine liposome injectable suspension with water or other hypotonic solutions ( 2.1 ). The recommended dose of bupivacaine liposome injectable suspension for: Local infiltration in adults is up to a maximum dose of 266 mg. See Full Prescribing Information for guidance on dose selection ( 2.2 ). Interscalene brachial plexus nerve block in adults is 133 mg ( 2.3 ). For the nerve block, administer additional analgesics, which may include other immediate-release local anesthetics, as appropriate ( 2.3 ). See Full Prescribing Information for important preparation and administration instructions and compatibility considerations ( 2.4 , 2.5 ). 2.1 Important Dose, Preparation, and Administration Instructions Bupivacaine liposome injectable suspension is for single administration only. Bupivacaine liposome injectable suspension is not substitutable with other bupivacaine products even if the strength is the same. Therefore, it is not possible to convert a dose from other bupivacaine products to a bupivacaine liposome injectable suspension dose and vice versa. Do not dilute bupivacaine liposome injectable suspension with water or other hypotonic agents, as it will result in disruption of the liposomal particles. Do not administer bupivacaine liposome injectable suspension if it is suspected that the vial has been frozen or exposed to high temperature (greater than 40°C or 104°F) for an extended period. Inspect bupivacaine liposome injectable suspension visually for particulate matter and discoloration prior to administration, whenever solution and container permit. Do not administer bupivacaine liposome injectable suspension if the product is discolored. Do not heat or autoclave before use. Do not filter during administration. 2.2 Recommended Dose for Local Analgesia via Infiltration Local Analgesia via Infiltration in Adults The recommended dose of bupivacaine liposome injectable suspension for local infiltration in adults is up to a maximum dose of 266 mg, and is based on the following factors: Size of the surgical site Volume required to cover the area Individual patient factors that may impact the safety of an amide local anesthetic As general guidance in selecting the proper bupivacaine liposome injectable suspension dose for local infiltration in adults, two examples are provided [ see Clinical Studies ( 14.2 )]. In adult patients undergoing: Bunionectomy, a total of 106 mg (8 mL) of bupivacaine liposome injectable suspension was administered, with 7 mL infiltrated into the tissues surrounding the osteotomy, and 1 mL infiltrated into the subcutaneous tissue. Hemorrhoidectomy, a total of 266 mg (20 mL) of bupivacaine liposome injectable suspension was diluted with 10 mL of saline, for a total of 30 mL, divided into six 5 mL aliquots, injected by visualizing the anal sphincter as a clock face and slowly infiltrating one aliquot to each of the even numbers to produce a field block. 2.3 Recommended Dose for Regional Analgesia The maximum recommended dose of bupivacaine liposome injectable suspension via perineural use for interscalene brachial plexus nerve block is 133 mg. For all nerve blocks, administer additional analgesics, which may include other immediate-release local anesthetics, as appropriate. Regional Analgesia via Interscalene Brachial Plexus Nerve Block in Adults The recommended dose of bupivacaine liposome injectable suspension for interscalene brachial plexus nerve block in adults is 133 mg and is based upon one study of patients undergoing either total shoulder arthroplasty or rotator cuff repair [ see Clinical Studies ( 14.3 ) ]. 2.4 Preparation and Administration Instructions Invert vials of bupivacaine liposome injectable suspension multiple times to re-suspend the particles immediately prior to withdrawal from the vial. Administer bupivacaine liposome injectable suspension (1) undiluted or (2) diluted to increase volume up to a final concentration of 0.89 mg/mL (i.e., 1:14 dilution by volume) with 0.9% preservative-free Sodium Chloride Injection or lactated Ringer’s solution. Use diluted bupivacaine liposome injectable suspension within 4 hours of preparation in a syringe. Administer bupivacaine liposome injectable suspension with a 25 gauge or larger bore needle to maintain the structural integrity of the liposomal bupivacaine particles. Administer bupivacaine liposome injectable suspension slowly via infiltration or perineural use with frequent aspiration to check for blood and minimize the risk of inadvertent intravascular injection. Discard unused portion. 2.5 Compatibility Considerations Some physicochemical incompatibilities exist between bupivacaine liposome injectable suspension and certain other drugs. Direct contact of bupivacaine liposome injectable suspension with these drugs results in a rapid increase in free (unencapsulated) bupivacaine, altering bupivacaine liposome injectable suspension characteristics and potentially affecting the safety and efficacy of bupivacaine liposome injectable suspension. Therefore, admixing bupivacaine liposome injectable suspension with other drugs prior to administration is not recommended [ see Drug Interactions ( 7 ) ]. Non-bupivacaine based local anesthetics, including lidocaine, may cause an immediate release of bupivacaine from bupivacaine liposome injectable suspension if administered together locally. The administration of bupivacaine liposome injectable suspension may follow the administration of lidocaine after a delay of 20 minutes or more. Bupivacaine HCl administered together with bupivacaine liposome injectable suspension may impact the pharmacokinetic and/or physicochemical properties of bupivacaine liposome injectable suspension, and this effect is concentration dependent. Therefore, bupivacaine HCl and bupivacaine liposome injectable suspension may be administered simultaneously in the same syringe, and bupivacaine HCl may be injected immediately before bupivacaine liposome injectable suspension if the ratio of the milligram dose of bupivacaine HCl solution to bupivacaine liposome injectable suspension does not exceed 1:2. The toxic effects of these drugs are additive, and their administration should be used with caution including monitoring for neurologic and cardiovascular effects related to local anesthetic systemic toxicity [ see Warnings and Precautions ( 5.1 ) and Overdosage ( 10 ) ]. When a topical antiseptic such as povidone iodine (e.g., Betadine) is applied, the site should be allowed to dry before bupivacaine liposome injectable suspension is administered into the site. Bupivacaine liposome injectable suspension should not be allowed to come into contact with antiseptics such as povidone iodine in solution. Studies conducted with bupivacaine liposome injectable suspension demonstrated that the most common implantable materials (polypropylene, PTFE, silicone, stainless steel, and titanium) are not affected by the presence of bupivacaine liposome injectable suspension any more than they are by saline. None of the materials studied had an adverse effect on bupivacaine liposome injectable suspension.'],\n",
       "  'warnings': [],\n",
       "  'adverse_reactions': ['6. ADVERSE REACTIONS The following serious adverse reactions have been associated with bupivacaine hydrochloride in clinical trials and are described in greater detail in other sections of the labeling: Central Nervous System Reactions [ see Warnings and Precautions ( 5.1 ) ] Cardiovascular System Reactions [ see Warnings and Precautions ( 5.1 ) ] Allergic Reactions [ see Warnings and Precautions ( 5.1 ) ] Chondrolysis [ see Warnings and Precautions ( 5.1 ) ] Methemoglobinemia [ see Warnings and Precautions ( 5.1 ) ] Accidental intravascular injection [ see Warnings and Precautions ( 5.2 ) ] Adverse reactions reported with an incidence greater than or equal to 10% following bupivacaine liposome injectable suspension administration via: Infiltration in adults were nausea, constipation, and vomiting ( 6.1 ). Nerve block in adults were nausea, pyrexia, headache, and constipation ( 6.1 ). To report SUSPECTED ADVERSE REACTIONS, contact eVenus Pharmaceutical Laboratories, Inc. at 1-609-395-8625 or FDA at 1-800-FDA-1088 or www.fda.gov/medwatch . 6.1 Clinical Trials Experience Because clinical studies are conducted under widely varying conditions, adverse reaction rates observed in the clinical trials of a drug cannot be directly compared to rates in the clinical studies of another drug and may not reflect the rates observed in practice. Adverse Reactions Reported in All Local Infiltration Clinical Studies in Adults The safety of bupivacaine liposome injectable suspension (local administration into the surgical site) was evaluated in 10 randomized, double-blind, clinical studies (including Studies 1 and 2 [ see Clinical Studies ( 14.2 ) ]) that included 823 adult patients who had various surgical procedures. Patients were administered a bupivacaine liposome injectable suspension dose ranging from 66 to 532 mg (two times the maximum recommended dose of 266 mg). In these studies, following bupivacaine liposome injectable suspension administration, the: Most common adverse reactions (incidence greater than or equal to 10%) were nausea, constipation, and vomiting. Common adverse reactions (incidence greater than or equal to 2% to less than 10%) were pyrexia, dizziness, peripheral edema, anemia, hypotension, pruritus, tachycardia, headache, insomnia, postoperative anemia, muscle spasms, hemorrhagic anemia, back pain, somnolence, and procedural pain. Less common adverse reactions (incidence less than 2%) were chills, erythema, bradycardia, anxiety, urinary retention, pain, edema, tremor, postural dizziness, paresthesia, syncope, incision site edema, procedural hypertension, procedural hypotension, procedural nausea, muscular weakness, neck pain, generalized pruritus, pruritic rash, hyperhidrosis, cold sweat, urticaria, palpitations, sinus bradycardia, supraventricular extrasystoles, ventricular extrasystoles, ventricular tachycardia, hypertension, pallor, anxiety, confusional state, depression, agitation, restlessness, hypoxia, laryngospasm, apnea, respiratory depression, respiratory failure, increased body temperature, increased blood pressure (BP),decreased BP, decreased oxygen saturation, urinary incontinence, blurred vision, tinnitus, drug hypersensitivity, and hypersensitivity. Neurological and Cardiac Adverse Reactions In the bupivacaine liposome injectable suspension surgical site infiltration studies, following bupivacaine liposome injectable suspension administration adverse reactions with an incidence greater than or equal to 1% in the: Nervous System Disorders system organ class were dizziness (6.2%), headache (3.8%), somnolence (2.1%), hypoesthesia (1.5%), and lethargy (1.3%). Cardiac Disorders system organ class were tachycardia (3.9%) and bradycardia (1.6%). Adverse Reactions Reported in All Local Infiltration Placebo-Controlled Trials in Adults Adverse reactions with an incidence greater than or equal to 2% reported by adult patients in clinical studies who underwent a bunionectomy (Study 1) or hemorrhoidectomy (Study 2) [ see Clinical Studies ( 14.2 ) ] that compared 106 mg of bupivacaine liposome injectable suspension (8 mL) to placebo and 266 mg of bupivacaine liposome injectable suspension (20 mL) to placebo are shown in Table 1. Table 1: Treatment-Emergent Adverse Reactions with an Incidence Greater than or Equal to 2%: Local Infiltration Placebo-Controlled Studies in Adults (Studies 1 and 2) a Study 1: Bunionectomy b Study 2: Hemorrhoidectomy; TEAE = treatment-emergent adverse event. At each level of summation (overall, system organ class, preferred term), patients are only counted once. Preferred terms are included where at least 2% of patients reported the event in any treatment group. STUDY 1 a STUDY 2 b Bupivacaine Liposome Injectable Suspension Placebo Bupivacaine Liposome Injectable Suspension Placebo System Organ Class Preferred Term (106 mg) (N=97) n (%) (N=96) n (%) (266 mg) (N=95) n (%) (N=94) n (%) Any TEAE 53 (54.6) 59 (61.5) 10 (10.5) 17 (18.1) Gastrointestinal Disorders 41 (42.3) 38 (39.6) 7 (7.4) 13 (13.8) Nausea 39 (40.2) 36 (37.5) 2 (2.1) 1 (1.1) Vomiting 27 (27.8) 17 (17.7) 2 (2.1) 4 (4.3) Constipation 2 (2.1) 1 (1.0) 2 (2.1) 2 (2.1) Anal Hemorrhage 0 (0.0) 0 (0.0) 3 (3.2) 4 (4.3) Painful Defecation 0 (0.0) 0 (0.0) 2 (2.1) 5 (5.3) Rectal Discharge 0 (0.0) 0 (0.0) 1 (1.1) 3 (3.2) Nervous System Disorders 20 (20.6) 30 (31.3) 0 (0.0) 0 (0.0) Dizziness 11 (11.3) 25 (26.0) 0 (0.0) 0 (0.0) Headache 5 (5.2) 8 (8.3) 0 (0.0) 0 (0.0) Somnolence 5 (5.2) 1 (1.0) 0 (0.0) 0 (0.0) Syncope 2 (2.1) 0 (0.0) 0 (0.0) 0 (0.0) Skin And Subcutaneous Tissue Disorders 8 (8.2) 7 (7.3) 0 (0.0) 0 (0.0) Generalized Pruritus 5 (5.2) 6 (6.3) 0 (0.0) 0 (0.0) Pruritus 3 (3.1) 1 (1.0) 0 (0.0) 0 (0.0) Investigations 5 (5.2) 3 (3.1) 4 (4.2) 3 (3.2) Increased Alanine Aminotransferase 3 (3.1) 3 (3.1) 1 (1.1) 0 (0.0) Increased Aspartate Aminotransferase 3 (3.1) 2 (2.1) 0 (0.0) 0 (0.0) Increased Blood Creatinine 2 (2.1) 0 (0.0) 0 (0.0) 0 (0.0) Increased Body Temperature 0 (0.0) 0 (0.0) 3 (3.2) 3 (3.2) General Disorders and Administration Site Conditions 4 (4.1) 0 (0.0) 1 (1.1) 1 (1.1) Feeling Hot 2 (2.1) 0 (0.0) 0 (0.0) 0 (0.0) Pyrexia 2 (2.1) 0 (0.0) 1 (1.1) 1 (1.1) Infections And Infestations 2 (2.1) 1 (1.0) 0 (0.0) 0 (0.0) Fungal Infection 2 (2.1) 1 (1.0) 0 (0.0) 0 (0.0) Injury, Poisoning and Procedural Complications 2 (2.1) 0 (0.0) 0 (0.0) 0 (0.0) Post Procedural Swelling 2 (2.1) 0 (0.0) 0 (0.0) 0 (0.0) Metabolism And Nutrition Disorders 2 (2.1) 2 (2.1) 0 (0.0) 0 (0.0) Decreased Appetite 2 (2.1) 2 (2.1) 0 (0.0) 0 (0.0) Adverse Reactions Reported in Placebo-Controlled Nerve Block Clinical Studies in Adults The safety of bupivacaine liposome injectable suspension was evaluated in four randomized, double-blind, placebo-controlled nerve block clinical studies (Studies 3, 6, 7, 8) [ see Clinical Studies ( 14.3 , 14.4 )] involving 469 bupivacaine liposome injectable suspension-treated adult patients and 357 placebo-treated patients who had various surgical procedures. Patients were administered placebo or a bupivacaine liposome injectable suspension dose of either 133 or 266 mg (two times the maximum recommended dose for these nerve blocks). In these studies, following bupivacaine liposome injectable suspension administration via nerve block (perineural use) the: Most Common adverse reactions (incidence greater than or equal to 10%) were nausea, pyrexia, and constipation. Common adverse reactions (incidence greater than or equal to 2% to less than 10%) were muscle twitching, dysgeusia, urinary retention, fatigue, headache, confusional state, hypotension, hypertension, oral hypoesthesia, generalized pruritus, hyperhidrosis, tachycardia, sinus tachycardia, anxiety, fall, increased body temperature, peripheral edema, sensory loss, increased hepatic enzyme, hiccups, hypoxia, and post-procedural hematoma. Less common adverse reactions (incidence less than 2%) were arrhythmia, atrial fibrillation, first degree atrioventricular block, bradycardia, left bundle branch block, right bundle branch block, cardiac arrest, impaired hearing, blurred vision, visual impairment, asthenia, chills, hyperthermia, cellulitis, lung infection, pneumonia, procedural nausea, wound dehiscence, wound secretion, electrocardiogram QT prolonged, white blood cell count increased, arthralgia, back pain, joint swelling, decreased mobility, muscle spasms, muscular weakness, musculoskeletal pain, paraesthesia, presyncope, sedation, somnolence, syncope, delirium, dysuria, urinary incontinence, atelectasis, cough, dyspnea, lung infiltration, blister, drug eruption, erythema, rash, urticaria, deep vein thrombosis, hematoma, and orthostatic hypotension. The most common and common adverse reactions for the four randomized, double-blind, placebo-controlled nerve block clinical studies (Studies 3, 6, 7, 8) are shown in Table 3. Neurological and Cardiac Adverse Reactions In the bupivacaine liposome injectable suspension nerve block placebo-controlled studies, following bupivacaine liposome injectable suspension administration adverse reactions with an incidence greater than or equal to 1% in the: Nervous System Disorders system organ class were motor dysfunction (14.9%), dysgeusia (7.2%), headache (5.1%), hypoesthesia (2.3%), and sensory loss (2.3%). Cardiac Disorders system organ class were tachycardia (3%), sinus tachycardia (2.3%), and bradycardia (1.3%). Table 3: Treatment-Emergent Adverse Reactions with an Incidence Greater than or Equal to 2%: Nerve Block Placebo-Controlled Studies (Studies 3, 6, 7, and 8) At each level of summation (overall, system organ class, preferred term), patients are only counted once. Preferred terms are included where at least 2% of patients reported the event in any treatment group. TEAE = treatment-emergent adverse event. SYSTEM ORGAN CLASS Preferred Term Bupivacaine Liposome Injectable Suspension 133 mg (N=168) n (%) Bupivacaine Liposome Injectable Suspension 266 mg (N=301) n (%) Placebo (N=357) n (%) Number of Patients with at Least One TEAE 152 (90.5) 260 (86.4) 299 (83.8) Blood and Lymphatic System Disorders 2 (1.2) 22 (7.3) 15 (4.2) Anemia 2 (1.2) 18 (6.0) 13 (3.6) Cardiac Disorders 13 (7.7) 34 (11.3) 38 (10.6) Atrial Fibrillation 1 (0.6) 4 (1.3) 8 (2.2) Sinus Tachycardia 3 (1.8) 8 (2.7) 4 (1.1) Tachycardia 3 (1.8) 11 (3.7) 10 (2.8) Gastrointestinal Disorders 84 (50.0) 154 (51.2) 184 (51.5) Constipation 29 (17.3) 66 (21.9) 68 (19.0) Dyspepsia 3 (1.8) 7 (2.3) 7 (2.0) Oral Hypoesthesia 6 (3.6) 8 (2.7) 7 (2.0) Nausea 62 (36.9) 111 (36.9) 133 (37.3) Vomiting 17 (10.1) 55 (18.3) 73 (20.4) General Disorders and Administration Site Conditions 52 (31.0) 102 (33.9) 91 (25.5) Fatigue 7 (4.2) 15 (5.0) 15 (4.2) Feeling Cold 0 10 (3.3) 8 (2.2) Peripheral Edema 4 (2.4) 6 (2.0) 8 (2.2) Peripheral Swelling 3 (1.8) 8 (2.7) 4 (1.1) Pyrexia 36 (21.4) 70 (23.3) 64 (17.9) Injury, Poisoning and Procedural Complications 18 (10.7) 44 (14.6) 32 (9.0) Postoperative Anemia 0 8 (2.7) 10 (2.8) Contusion 4 (2.4) 1 (0.3) 0 Fall 4 (2.4) 8 (2.7) 1 (0.3) Post Procedural Hematoma 4 (2.4) 1 (0.3) 0 Procedural Hypotension 2 (1.2) 13 (4.3) 7 (2.0) Investigations 18 (10.7) 31 (10.3) 31 (8.7) Increased Body Temperature 1 (0.6) 10 (3.3) 4 (1.1) Increased Hepatic Enzyme 7 (4.2) 1 (0.3) 3 (0.8) Metabolism and Nutrition Disorders 13 (7.7) 18 (6.0) 25 (7.0) Hypokalemia 7 (4.2) 9 (3.0) 14 (3.9) Musculoskeletal and Connective Tissue Disorders 22 (13.1) 47 (15.6) 41 (11.5) Decreased Mobility 0 6 (2.0) 5 (1.4) Muscle Twitching 14 (8.3) 21 (7.0) 25 (7.0) Nervous System Disorders 72 (42.9) 101 (33.6) 112 (31.4) Dizziness 8 (4.8) 28 (9.3) 40 (11.2) Dysgeusia 12 (7.1) 22 (7.3) 21 (5.9) Headache 14 (8.3) 10 (3.3) 10 (2.8) Hypoesthesia 6 (3.6) 5 (1.7) 2 (0.6) Motor Dysfunction 35 (20.8) 35 (11.6) 37 (10.4) Sensory Loss 4 (2.4) 7 (2.3) 1 (0.3) Psychiatric Disorders 10 (6.0) 33 (11.0) 44 (12.3) Anxiety 3 (1.8) 9 (3.0) 6 (1.7) Confusional State 3 (1.8) 15 (5.0) 14 (3.9) Insomnia 5 (3.0) 10 (3.3) 19 (5.3) Renal and Urinary Disorders 9 (5.4) 31 (10.3) 31 (8.7) Urinary Retention 5 (3.0) 23 (7.6) 22 (6.2) Respiratory, Thoracic and Mediastinal Disorders 18 (10.7) 30 (10.0) 31 (8.7) Dyspnea 2 (1.2) 4 (1.3) 8 (2.2) Hiccups 4 (2.4) 4 (1.3) 1 (0.3) Hypoxia 4 (2.4) 3 (1.0) 3 (0.8) Skin and Subcutaneous Tissue Disorders 24 (14.3) 63 (20.9) 84 (23.5) Hyperhidrosis 1 (0.6) 14 (4.7) 15 (4.2) Pruritus 10 (6.0) 45 (15.0) 55 (15.4) Generalized Pruritus 6 (3.6) 7 (2.3) 14 (3.9) Vascular Disorders 16 (9.5) 30 (10.0) 44 (12.3) Hypertension 3 (1.8) 15 (5.0) 21 (5.9) Hypotension 11 (6.5) 8 (2.7) 19 (5.3) 6.2 Postmarketing Experience Because adverse reactions reported during postmarketing are reported voluntarily from a population of uncertain size, it is not always possible to reliably estimate their frequency or establish a causal relationship to drug exposure. These adverse reactions are consistent with those observed in clinical studies and most commonly involve the following system organ classes: Injury, Poisoning, and Procedural Complications (e.g., drug-drug interaction, procedural pain), Nervous System Disorders (e.g., palsy, seizure), General Disorders And Administration Site Conditions (e.g., lack of efficacy, pain), Skin And Subcutaneous Tissue Disorders (e.g., erythema, rash), and Cardiac Disorders (e.g., bradycardia, cardiac arrest).']},\n",
       " {'source': 'FDA',\n",
       "  'brand_name': [],\n",
       "  'generic_name': [],\n",
       "  'manufacturer': [],\n",
       "  'indication': ['INDICATIONS AN D USAGE Pilocarpine hydrochloride tablets, USP are indicated for 1) the treatment of symptoms of dry mouth from salivary gland hypofunction caused by radiotherapy for cancer of the head and neck; and 2) the treatment of symptoms of dry mouth in patients with Sjogren’s syndrome.'],\n",
       "  'dosage': ['DOSAGE AND ADMINISTRATION Regardless of the indication, the starting dose in patients with moderate hepatic impairment should be 5 mg twice daily, followed by adjustment based on therapeutic response and tolerability. Patients with mild hepatic insufficiency do not require dosage reductions. The use of pilocarpine in patients with severe hepatic insufficiency is not recommended. If needed, refer to the Hepatic Insufficiency subsection of the Precautions section of this label for definitions of mild, moderate and severe hepatic impairment. Head & Neck Cancer Patients The recommended initial dose of pilocarpine hydrochloride tablets is 5 mg taken three times a day. Dosage should be titrated according to therapeutic response and tolerance. The usual dosage range is up to 15-30 mg per day. (Not to exceed 10 mg per dose.) Although early improvement may be realized, at least 12 weeks of uninterrupted therapy with pilocarpine hydrochloride tablets may be necessary to assess whether a beneficial response will be achieved. The incidence of the most common adverse events increases with dose. The lowest dose that is tolerated and effective should be used for maintenance. Sjogren’s Syndrome Patients The recommended dose of pilocarpine hydrochloride tablets is 5 mg taken four times a day. Efficacy was established by 6 weeks of use.'],\n",
       "  'warnings': ['WARNINGS Cardiovascular Disease Patients with significant cardiovascular disease may be unable to compensate for transient changes in hemodynamics or rhythm induced by pilocarpine. Pulmonary edema has been reported as a complication of pilocarpine toxicity from high ocular doses given for acute angle-closure glaucoma. Pilocarpine should be administered with caution in and under close medical supervision of patients with significant cardiovascular disease. Ocular Ocular formulations of pilocarpine have been reported to cause visual blurring which may result in decreased visual acuity, especially at night and in patients with central lens changes, and to cause impairment of depth perception. Caution should be advised while driving at night or performing hazardous activities in reduced lighting. Pulmonary Disease Pilocarpine has been reported to increase airway resistance, bronchial smooth muscle tone, and bronchial secretions. Pilocarpine hydrochloride should be administered with caution to and under close medical supervision in patients with controlled asthma, chronic bronchitis, or chronic obstructive pulmonary disease requiring pharmacotherapy.'],\n",
       "  'adverse_reactions': ['ADVERSE REACTIONS Head & Neck Cancer Patients In controlled studies, 217 patients received pilocarpine, of whom 68% were men and 32% were women. Race distribution was 91% Caucasian, 8% Black, and 1% of other origin. Mean age was approximately 58 years. The majority of patients were between 50 and 64 years (51%), 33% were 65 years and older and 16% were younger than 50 years of age. The most frequent adverse experiences associated with pilocarpine hydrochloride tablets were a consequence of the expected pharmacologic effects of pilocarpine. Adverse Event Pilocarpine HCl 10 mg t.i.d. (30 mg/day) N=121 5 mg t.i.d. (15 mg/day) N=141 Placebo (t.i.d.) N=152 Sweating 68% 29% 9% Nausea 15 6 4 Rhinitis 14 5 7 Diarrhea 7 4 5 Chills 15 3 <1 Flushing 13 8 3 Urinary Frequency 12 9 7 Dizziness 12 5 4 Asthenia 12 6 3 In addition, the following adverse events (≥3% incidence) were reported at dosages of 15-30 mg/day in the controlled clinical trials: Adverse Event Pilocarpine HCl 5-10 mg t.i.d. (15-30 mg/day) N=212 Placebo (t.i.d.) N=152 Headache 11% 8% Dyspepsia 7 5 Lacrimation 6 8 Edema 5 4 Abdominal Pain 4 4 Amblyopia 4 2 Vomiting 4 1 Pharyngitis 3 8 Hypertension 3 1 The following events were reported with treated head and neck cancer patients at incidences of 1% to 2% at dosages of 7.5 to 30 mg/day: abnormal vision, conjunctivitis, dysphagia, epistaxis, myalgias, pruritus, rash, sinusitis, tachycardia, taste perversion, tremor, voice alteration. The following events were reported rarely in treated head and neck cancer patients (<1%): Causal relation is unknown. Body as a whole: body odor, hypothermia, mucous membrane abnormality Cardiovascular: bradycardia, ECG abnormality, palpitations, syncope Digestive: anorexia, increased appetite, esophagitis, gastrointestinal disorder, tongue disorder Hematologic: leukopenia, lymphadenopathy Nervous: anxiety, confusion, depression, abnormal dreams, hyperkinesia, hypesthesia, nervousness, parethesias, speech disorder, twitching Respiratory: increased sputum, stridor, yawning Skin: seborrhea Special senses: deafness, eye pain, glaucoma Urogenital: dysuria, metrorrhagia, urinary impairment In long-term treatment were two patients with underlying cardiovascular disease of whom one experienced a myocardial infarct and another episode of syncope. The association with drug is uncertain. Sjogren’s Syndrome Patients In controlled studies, 376 patients received pilocarpine, of whom 5% were men and 95% were women. Race distribution was 84% Caucasian, 9% Oriental, 3% Black, and 4% of other origin. Mean age was 55 years. The majority of patients were between 40 and 69 years (70%), 16% were 70 years and older and 14% were younger than 40 years of age. Of these patients, 161/629 (89/376 receiving pilocarpine) were over the age of 65 years. The adverse events reported by those over 65 years and those 65 years and younger were comparable except for notable trends for urinary frequency, diarrhea, and dizziness. The incidences of urinary frequency and diarrhea in the elderly were about double those in the non-elderly. The incidence of dizziness was about three times as high in the elderly as in the non-elderly. These adverse experiences were not considered to be serious. In the 2 placebo-controlled studies, the most common adverse events related to drug use were sweating, urinary frequency, chills, and vasodilatation (flushing). The most commonly reported reason for patient discontinuation of treatment was sweating. Expected pharmacologic effects of pilocarpine include the following adverse experiences associated with pilocarpine hydrochloride tablets: Adverse Event Pilocarpine HCl 5 mg q.i.d. (20 mg/day) N=255 Placebo (q.i.d.) N=253 Sweating 40% 7% Urinary Frequency 10 4 Nausea 9 9 Flushing 9 2 Rhinitis 7 8 Diarrhea 6 7 Chills 4 2 Increased Salivation 3 0 Asthenia 2 2 In addition, the following adverse events (≥3% incidence) were reported at dosages of 20 mg/day in the controlled clinical trials: Adverse Event Pilocarpine HCl 5 mg q.i.d. (20 mg/day) N=255 Placebo (q.i.d.) N=253 Headache 13% 19% Flu Syndrome 9 9 Dyspepsia 7 7 Dizziness 6 7 Pain 4 2 Sinusitis 4 5 Abdominal Pain 3 4 Vomiting 3 1 Pharyngitis 2 5 Rash 2 3 Infection 2 6 The following events were reported in Sjogren’s patients at incidences of 1% to 2% at dosing of 20 mg/day: accidental injury, allergic reaction, back pain, blurred vision, constipation, increased cough, edema, epistaxis, face edema, fever, flatulence, glossitis, lab test abnormalities, including chemistry, hematology, and urinalysis, myalgia, palpitation, pruritus, somnolence, stomatitis, tachycardia, tinnitus, urinary incontinence, urinary tract infection, vaginitis. The following events were reported rarely in treated Sjogren’s patients (<1%) at dosing of 10-30 mg/day: Causal relation is unknown. Body as a whole: chest pain, cyst, death, moniliasis, neck pain, neck rigidity, photosensitivity reaction Cardiovascular: angina pectoris, arrhythmia, ECG abnormality, hypotension, hypertension, intracranial hemorrhage, migraine, myocardial infarction Digestive: anorexia, bilirubinemia, cholelithiasis, colitis, dry mouth, eructation, gastritis, gastroenteritis, gastrointestinal disorder, gingivitis, hepatitis, abnormal liver function tests, melena, nausea & vomiting, pancreatitis, parotid gland enlargement, salivary gland enlargement, sputum increased, taste loss, tongue disorder, tooth disorder Hematologic: hematuria, lymphadenopathy, abnormal platelets, thrombocythemia, thrombocytopenia, thrombosis, abnormal WBC Metabolic and Nutritional: peripheral edema, Hypoglycemia Musculoskeletal: arthralgia, arthritis, bone disorder, spontaneous bone fracture, pathological fracture, myasthenia, tendon disorder, tenosynovitis Nervous: aphasia, confusion, depression, abnormal dreams, emotional lability, hyperkinesia, hypesthesia, insomnia, leg cramps, nervousness, parethesias, abnormal thinking, tremor Respiratory: bronchitis, dyspnea, hiccup, laryngismus, laryngitis, pneumonia, viral infection, voice alteration Skin: alopecia, contact dermatitis, dry skin, eczema, erythema nodosum, exfoliative dermatitis, herpes simplex, skin ulcer, vesiculobullous rash Special senses: cataract, conjunctivitis, dry eyes, ear disorder, ear pain, eye disorder, eye hemorrhage, glaucoma, lacrimation disorder, retinal disorder, taste perversion, abnormal vision Urogenital: breast pain, dysuria, mastitis, menorrhagia, metrorrhagia, ovarian disorder, pyuria, salpingitis, urethral pain, urinary urgency, vaginal hemorrhage, vaginal moniliasis The following adverse experiences have been reported rarely with ocular pilocarpine: A-V block, agitation, ciliary congestion, confusion, delusion, depression, dermatitis, middle ear disturbance, eyelid twitching, malignant glaucoma, iris cysts, macular hole, shock, and visual hallucination.']},\n",
       " {'source': 'FDA',\n",
       "  'brand_name': ['pilocarpine hydrchloride'],\n",
       "  'generic_name': ['PILOCARPINE HYDRCHLORIDE'],\n",
       "  'manufacturer': ['Bryant Ranch Prepack'],\n",
       "  'indication': [\"INDICATIONS AND USAGE: Pilocarpine hydrochloride tablets are indicated for 1) the treatment of symptoms of dry mouth from salivary gland hypofunction caused by radiotherapy for cancer of the head and neck; and 2) the treatment of symptoms of dry mouth in patients with Sjogren's Syndrome.\"],\n",
       "  'dosage': [\"DOSAGE AND ADMINISTRATION: Regardless of the indication, the starting dose in patients with moderate hepatic impairment should be 5 mg twice daily, followed by adjustment based on therapeutic response and tolerability. Patients with mild hepatic insufficiency do not require dosage reductions. The use of pilocarpine in patients with severe hepatic insufficiency is not recommended. If needed, refer to the Hepatic Insufficiency subsection of the Precautions section of this label for definitions of mild, moderate and severe hepatic impairment. Head and Neck Cancer Patients: The recommended initial dose of pilocarpine hydrochloride tablets is 5 mg taken three times a day. Dosage should be titrated according to therapeutic response and tolerance. The usual dosage range is up to 15 to 30 mg per day. (Not to exceed 10 mg per dose). Although early improvement may be realized, at least 12 weeks of uninterrupted therapy with pilocarpine hydrochloride tablets may be necessary to assess whether a beneficial response will be achieved. The incidence of the most common adverse events increases with dose. The lowest dose that is tolerated and effective should be used for maintenance. Sjogren's Syndrome Patients: The recommended dose of pilocarpine hydrochloride tablets is one tablet (5 mg) taken four times a day. Efficacy was established by 6 weeks of use.\"],\n",
       "  'warnings': ['WARNINGS: Cardiovascular Disease: Patients with significant cardiovascular disease may be unable to compensate for transient changes in hemodynamics or rhythm induced by pilocarpine. Pulmonary edema has been reported as a complication of pilocarpine toxicity from high ocular doses given for acute angle-closure glaucoma. Pilocarpine should be administered with caution in and under close medical supervision of patients with significant cardiovascular disease. Ocular: Ocular formulations of pilocarpine have been reported to cause visual blurring which may result in decreased visual acuity, especially at night and in patients with central lens changes, and to cause impairment of depth perception. Caution should be advised while driving at night or performing hazardous activities in reduced lighting. Pulmonary Disease: Pilocarpine has been reported to increase airway resistance, bronchial smooth muscle tone, and bronchial secretions. Pilocarpine hydrochloride should be administered with caution to and under close medical supervision in patients with controlled asthma, chronic bronchitis, or chronic obstructive pulmonary disease requiring pharmacotherapy.'],\n",
       "  'adverse_reactions': [\"ADVERSE REACTIONS: Head and Neck Cancer Patients: In controlled studies, 217 patients received pilocarpine, of whom 68% were men and 32% were women. Race distribution was 91% Caucasian, 8% Black, and 1% of other origin. Mean age was approximately 58 years. The majority of patients were between 50 and 64 years (51%), 33% were 65 years and older and 16% were younger than 50 years of age. The most frequent adverse experiences associated with pilocarpine hydrochloride tablets were a consequence of the expected pharmacologic effects of pilocarpine. Adverse Event 10 mg t.i.d. 5 mg t.i.d. Placebo (30 mg/day) N=21 (15 mg/day) N=141 (t.i.d.) N=152 Sweating 68% 29% 9% Nausea 15 6 4 Rhinitis 14 5 7 Diarrhea 7 4 5 Chills 15 3 <1 Flushing 13 8 3 Urinary Frequency 12 9 7 Dizziness 12 5 4 Asthenia 12 6 3 In addition, the following adverse events (≥3% incidence) were reported at dosages of 15 to 30 mg/day in the controlled clinical trials: Adverse Event Pilocarpine HCl Placebo 5 to 10 mg t.i.d. (15 to 30 mg/day) N=212 (t.i.d.) N=152 Headache 11% 8% Dyspepsia 7 5 Lacrimation 6 8 Edema 5 4 Abdominal Pain 4 4 Amblyopia 4 2 Vomiting 4 1 Pharyngitis 3 8 Hypertension 3 1 The following events were reported with treated head and neck cancer patients at incidences of 1% to 2% at dosages of 7.5 to 30 mg/day: abnormal vision, conjunctivitis, dysphagia, epistaxis, myalgias, pruritus, rash, sinusitis, tachycardia, taste perversion, tremor, voice alteration. The following events were reported rarely in treated head and neck cancer patients (<1%): Causal relation is unknown. Body as a whole: body odor, hypothermia, mucous membrane abnormality Cardiovascular: bradycardia, ECG abnormality, palpitations, syncope Digestive: anorexia, increased appetite, esophagitis, gastrointestinal disorder, tongue disorder Hematologic: leukopenia, lymphadenopathy Nervous: anxiety, confusion, depression, abnormal dreams, hyperkinesia, hypesthesia, nervousness, paresthesias, speech disorder, twitching Respiratory: increased sputum, stridor, yawning Skin: seborrhea Special senses: deafness, eye pain, glaucoma Urogenital: dysuria, metrorrhagia, urinary impairment In long-term treatment were two patients with underlying cardiovascular disease of whom one experienced a myocardial infarct and another an episode of syncope. The association with drug is uncertain. Sjogren's Syndrome Patients: In controlled studies, 376 patients received pilocarpine, of whom 5% were men and 95% were women. Race distribution was 84% Caucasian, 9% Oriental, 3% Black, and 4% of other origin. Mean age was 55 years. The majority of patients were between 40 and 69 years (70%), 16% were 70 years and older and 14% were younger than 40 years of age. Of these patients, 161/629 (89/376 receiving pilocarpine) were over the age of 65 years. The adverse events reported by those over 65 years and those 65 years and younger were comparable except for notable trends for urinary frequency, diarrhea, and dizziness. The incidences of urinary frequency and diarrhea in the elderly were about double those of the non-elderly. The incidence of dizziness was about three times as high in the elderly as in the non-elderly. These adverse experiences were not considered to be serious. In the 2 placebo-controlled studies, the most common adverse events related to drug use were sweating, urinary frequency, chills, and vasodilatation (flushing). The most commonly reported reason for patient discontinuation of treatment was sweating. Expected pharmacologic effects of pilocarpine include the following adverse experiences associated with pilocarpine hydrochloride tablets: Adverse Event Pilocarpine Placebo 5 mg q.i.d. (20 mg/day) N=255 (q.i.d.) N=253 Sweating 40% 7% Urinary Frequency 10 4 Nausea 9 9 Flushing 9 2 Rhinitis 7 8 Diarrhea 6 7 Chills 4 2 Increased Salivation 3 0 Asthenia 2 2 In addition, the following adverse events (≥3% incidence) were reported at dosages of 15 to 30 mg/day in the controlled clinical trials: Adverse Event Pilocarpine HCl Placebo 5 mg q.i.d. (20 mg/day) N=255 (q.i.d.) N=253 Headache 13% 19% Flu Syndrome 9 9 Dyspepsia 7 7 Dizziness 6 7 Pain 4 2 Sinusitis 4 5 Abdominal Pain 3 4 Vomiting 3 1 Pharyngitis 2 5 Rash 2 3 Infection 2 6 The following events were reported in Sjogren’s patients at incidences of 1% to 2% at dosing of 20 mg/day: accidental injury, allergic reaction, back pain, blurred vision, constipation, increased cough, edema, epistaxis, face edema, fever, flatulence, glossitis, lab test abnormalities, including chemistry, hematology, and urinalysis, myalgia, palpitation, pruritus, somnolence, stomatitis, tachycardia, tinnitus, urinary incontinence, urinary tract infection, and vaginitis. The following events were reported rarely in treated Sjogren's patients (<1%) at dosing of 10 to 30 mg/day: Causal relation is unknown. Body as a whole: chest pain, cyst, death, moniliasis, neck pain, neck rigidity, photosensitivity reaction Cardiovascular: angina pectoris, arrhythmia, ECG abnormality, hypotension, hypertension, intracranial hemorrhage, migraine, myocardial infarction Digestive: anorexia, bilirubinemia, cholelithiasis, colitis, dry mouth, eructation, gastritis, gastroenteritis, gastrointestinal disorder, gingivitis, hepatitis, abnormal liver function tests, melena, nausea & vomiting, pancreatitis, parotid gland enlargement, salivary gland enlargement, sputum increased, taste loss, tongue disorder, tooth disorder Hematologic: hematuria, lymphadenopathy, abnormal platelets, thrombocythemia, thrombocytopenia, thrombosis, abnormal WBC Metabolic and Nutritional: peripheral edema, hypoglycemia Musculoskeletal: arthralgia, arthritis, bone disorder, spontaneous bone fracture, pathological fracture, myasthenia, tendon disorder, tenosynovitis Nervous: aphasia, confusion, depression, abnormal dreams, emotional lability, hyperkinesia, hypesthesia, insomnia, leg cramps, nervousness, paresthesias, abnormal thinking, tremor Respiratory: bronchitis, dyspnea, hiccup, laryngismus, laryngitis, pneumonia, viral infection, voice alteration Skin: alopecia, contact dermatitis, dry skin, eczema, erythema nodosum, exfoliative dermatitis, herpes simplex, skin ulcer, vesiculobullous rash Special Senses: cataract, conjunctivitis, dry eyes, ear disorder, ear pain, eye disorder, eye hemorrhage, glaucoma, lacrimation disorder, retinal disorder, taste perversion, abnormal vision Urogenital: breast pain, dysuria, mastitis, menorrhagia, metrorrhagia, ovarian disorder, pyuria, salpingitis, urethral pain, urinary urgency, vaginal hemorrhage, vaginal moniliasis The following adverse experiences have been reported rarely with ocular pilocarpine: A-V block, agitation, ciliary congestion, confusion, delusion, depression, dermatitis, middle ear disturbance, eyelid twitching, malignant glaucoma, iris cysts, macular hole, shock, and visual hallucination.\"]},\n",
       " {'source': 'FDA',\n",
       "  'brand_name': [],\n",
       "  'generic_name': [],\n",
       "  'manufacturer': [],\n",
       "  'indication': [\"INDICATIONS AND USAGE Pilocarpine Hydrochloride Tablets USP are indicated for 1) the treatment of symptoms of dry mouth from salivary gland hypofunction caused by radiotherapy for cancer of the head and neck; and 2) the treatment of symptoms of dry mouth in patients with Sjogren's Syndrome.\"],\n",
       "  'dosage': [\"DOSAGE AND ADMINISTRATION Regardless of the indication, the starting dose in patients with moderate hepatic impairment should be 5 mg twice daily, followed by adjustment based on therapeutic response and tolerability. Patients with mild hepatic insufficiency do not require dosage reductions. The use of pilocarpine in patients with severe hepatic insufficiency is not recommended. If needed, refer to the Hepatic Insufficiency subsection of the PRECAUTIONS section of this label for definitions of mild, moderate and severe hepatic impairment. Head & Neck Cancer Patients The recommended initial dose of pilocarpine hydrochloride tablets USP is one tablet (5 mg) taken three times a day. Dosage should be adjusted according to therapeutic response and tolerability. The usual dosage range is 15 to 30 mg per day. (Not to exceed 10 mg per dose.) Although early improvement may be realized, at least 12 weeks of uninterrupted therapy with pilocarpine hydrochloride tablets USP may be necessary to assess whether a beneficial response will be achieved. The incidence of the most common adverse events increases with dose. The lowest dose that is tolerated and effective should be used for maintenance. Sjogren's Syndrome Patients The recommended dose of pilocarpine hydrochloride tablets USP is one tablet (5 mg) taken four times a day. Efficacy was established by 6 weeks of use.\"],\n",
       "  'warnings': ['WARNINGS Cardiovascular Disease Patients with significant cardiovascular disease may be unable to compensate for transient changes in hemodynamics or rhythm induced by pilocarpine. Pulmonary edema has been reported as a complication of pilocarpine toxicity from high ocular doses given for acute angle-closure glaucoma. Pilocarpine should be administered with caution in and under close medical supervision of patients with significant cardiovascular disease. Ocular Ocular formulations of pilocarpine have been reported to cause visual blurring which may result in decreased visual acuity, especially at night and in patients with central lens changes, and to cause impairment of depth perception. Caution should be advised while driving at night or performing hazardous activities in reduced lighting. Pulmonary Disease Pilocarpine has been reported to increase airway resistance, bronchial smooth muscle tone, and bronchial secretions. Pilocarpine hydrochloride SP should be administered with caution to and under close medical supervision in patients with controlled asthma, chronic bronchitis, or chronic obstructive pulmonary disease requiring pharmacotherapy.'],\n",
       "  'adverse_reactions': [\"ADVERSE REACTIONS Head & Neck Cancer Patients In controlled studies, 217 patients received pilocarpine, of whom 68% were men and 32% were women. Race distribution was 91% Caucasian, 8% Black, and 1% of other origin. Mean age was approximately 58 years. The majority of patients were between 50 and 64 years (51%), 33% were 65 years and older and 16% were younger than 50 years of age. The most frequent adverse experiences associated with pilocarpine hydrochloride tablets USP were a consequence of the expected pharmacologic effects of pilocarpine. Adverse Event Pilocarpine HCl Placebo 10 mg t.i.d. 5 mg t.i.d. (t.i.d.) (30 mg/day) (15 mg/day) N=121 N=141 N=152 Sweating 68% 29% 9% Nausea 15 6 4 Rhinitis 14 5 7 Diarrhea 7 4 5 Chills 15 3 <1 Flushing 13 8 3 Urinary Frequency 12 9 7 Dizziness 12 5 4 Asthenia 12 6 3 In addition, the following adverse events (≥3% incidence) were reported at dosages of 15 to 30 mg/day in the controlled clinical trials: Adverse Event Pilocarpine HCl Placebo 5 to 10 mg t.i.d. (t.i.d.) (15 to 30 mg/day) N=212 N=152 Headache 11% 8% Dyspepsia 7 5 Lacrimation 6 8 Edema 5 4 Abdominal Pain 4 4 Amblyopia 4 2 Vomiting 4 1 Pharyngitis 3 8 Hypertension 3 1 The following events were reported with treated head and neck cancer patients at incidences of 1% to 2% at dosages of 7.5 to 30 mg/day: abnormal vision, conjunctivitis, dysphagia, epistaxis, myalgias, pruritus, rash, sinusitis, tachycardia, taste perversion, tremor, voice alteration. The following events were reported rarely in treated head and neck cancer patients (<1%): Causal relation is unknown. Body as a whole: body odor, hypothermia, mucous membrane abnormality Cardiovascular : bradycardia, ECG abnormality, palpitations, syncope Digestive: anorexia, increased appetite, esophagitis, gastrointestinal disorder, tongue disorder Hematologic: leukopenia, lymphadenopathy Nervous: anxiety, confusion, depression, abnormal dreams, hyperkinesia, hypesthesia, nervousness, paresthesias, speech disorder, twitching Respiratory: increased sputum, stridor, yawning Skin: seborrhea Special senses: deafness, eye pain, glaucoma Urogenital: dysuria, metrorrhagia, urinary impairment In long-term treatment were two patients with underlying cardiovascular disease of whom one experienced a myocardial infarct and another an episode of syncope. The association with drug is uncertain. Sjogren's Syndrome Patients In controlled studies, 376 patients received pilocarpine, of whom 5% were men and 95% were women. Race distribution was 84% Caucasian, 9% Oriental, 3% Black, and 4% of other origin. Mean age was 55 years. The majority of patients were between 40 and 69 years (70%), 16% were 70 years and older and 14% were younger than 40 years of age. Of these patients, 161/629 (89/376 receiving pilocarpine) were over the age of 65 years. The adverse events reported by those over 65 years and those 65 years and younger were comparable except for notable trends for urinary frequency, diarrhea, and dizziness. The incidences of urinary frequency and diarrhea in the elderly were about double those in the non-elderly. The incidence of dizziness was about three times as high in the elderly as in the non-elderly. These adverse experiences were not considered to be serious. In the 2 placebo-controlled studies, the most common adverse events related to drug use were sweating, urinary frequency, chills, and vasodilatation (flushing). The most commonly reported reason for patient discontinuation of treatment was sweating. Expected pharmacologic effects of pilocarpine include the following adverse experiences associated with pilocarpine hydrochloride tablets USP: Adverse Event Pilocarpine HCl Placebo 5 mg q.i.d. (q.i.d.) (20 mg/day) N=255 N=253 Sweating 40% 7% Urinary Frequency 10 4 Nausea 9 9 Flushing 9 2 Rhinitis 7 8 Diarrhea 6 7 Chills 4 2 Increased Salivation 3 0 Asthenia 2 2 In addition, the following adverse events (≥3% incidence) were reported at dosages of 20 mg/day in the controlled clinical trials: Adverse Event Pilocarpine HCl Placebo 5 mg q.i.d. (q.i.d.) (20 mg/day) N=255 N=253 Headache 13% 19% Flu Syndrome 9 9 Dyspepsia 7 7 Dizziness 6 7 Pain 4 2 Sinusitis 4 5 Abdominal Pain 3 4 Vomiting 3 1 Pharyngitis 2 5 Rash 2 3 Infection 2 6 The following events were reported in Sjogren's patients at incidences of 1% to 2% at dosing of 20 mg/day: accidental injury, allergic reaction, back pain, blurred vision, constipation, increased cough, edema, epistaxis, face edema, fever, flatulence, glossitis, lab test abnormalities, including chemistry, hematology, and urinalysis, myalgia, palpitation, pruritus, somnolence, stomatitis, tachycardia, tinnitus, urinary incontinence, urinary tract infection, vaginitis. The following events were reported rarely in treated Sjogren's patients (<1%) at dosing of 10 to 30 mg/day: Causal relation is unknown. Body as a whole: chest pain, cyst, death, moniliasis, neck pain, neck rigidity, photosensitivity reaction Cardiovascular: angina pectoris, arrhythmia, ECG abnormality, hypotension, hypertension, intracranial hemorrhage, migraine, myocardial infarction Digestive: anorexia, bilirubinemia, cholelithiasis, colitis, dry mouth, eructation, gastritis, gastroenteritis, gastrointestinal disorder, gingivitis, hepatitis, abnormal liver function tests, melena, nausea & vomiting, pancreatitis, parotid gland enlargement, salivary gland enlargement, sputum increased, taste loss, tongue disorder, tooth disorder Hematologic: hematuria, lymphadenopathy, abnormal platelets, thrombocythemia, thrombocytopenia, thrombosis, abnormal WBC Metabolic and Nutritional: peripheral edema, hypoglycemia Musculoskeletal: arthralgia, arthritis, bone disorder, spontaneous bone fracture, pathological fracture, myasthenia, tendon disorder, tenosynovitis Nervous: aphasia, confusion, depression, abnormal dreams, emotional lability, hyperkinesia, hypesthesia, insomnia, leg cramps, nervousness, paresthesias, abnormal thinking, tremor Respiratory: bronchitis, dyspnea, hiccup, laryngismus, laryngitis, pneumonia, viral infection, voice alteration Skin: alopecia, contact dermatitis, dry skin, eczema, erythema nodosum, exfoliative dermatitis, herpes simplex, skin ulcer, vesiculobullous rash Special senses : cataract, conjunctivitis, dry eyes, ear disorder, ear pain, eye disorder, eye hemorrhage, glaucoma, lacrimation disorder, retinal disorder, taste perversion, abnormal vision Urogenital: breast pain, dysuria, mastitis, menorrhagia, metrorrhagia, ovarian disorder, pyuria, salpingitis, urethral pain, urinary urgency, vaginal hemorrhage, vaginal moniliasis The following adverse experiences have been reported rarely with ocular pilocarpine: A-V block, agitation, ciliary congestion, confusion, delusion, depression, dermatitis, middle ear disturbance, eyelid twitching, malignant glaucoma, iris cysts, macular hole, shock, and visual hallucination.\"]},\n",
       " {'source': 'FDA',\n",
       "  'brand_name': [],\n",
       "  'generic_name': [],\n",
       "  'manufacturer': [],\n",
       "  'indication': [\"INDICATIONS AND USAGE: Pilocarpine hydrochloride tablets are indicated for 1) the treatment of symptoms of dry mouth from salivary gland hypofunction caused by radiotherapy for cancer of the head and neck; and 2) the treatment of symptoms of dry mouth in patients with Sjogren's Syndrome.\"],\n",
       "  'dosage': [\"DOSAGE AND ADMINISTRATION: Regardless of the indication, the starting dose in patients with moderate hepatic impairment should be 5 mg twice daily, followed by adjustment based on therapeutic response and tolerability. Patients with mild hepatic insufficiency do not require dosage reductions. The use of pilocarpine in patients with severe hepatic insufficiency is not recommended. If needed, refer to the Hepatic Insufficiency subsection of the Precautions section of this label for definitions of mild, moderate and severe hepatic impairment. Head and Neck Cancer Patients: The recommended initial dose of pilocarpine hydrochloride tablets is 5 mg taken three times a day. Dosage should be titrated according to therapeutic response and tolerance. The usual dosage range is up to 15 to 30 mg per day. (Not to exceed 10 mg per dose). Although early improvement may be realized, at least 12 weeks of uninterrupted therapy with pilocarpine hydrochloride tablets may be necessary to assess whether a beneficial response will be achieved. The incidence of the most common adverse events increases with dose. The lowest dose that is tolerated and effective should be used for maintenance. Sjogren's Syndrome Patients: The recommended dose of pilocarpine hydrochloride tablets is one tablet (5 mg) taken four times a day. Efficacy was established by 6 weeks of use.\"],\n",
       "  'warnings': ['WARNINGS: Cardiovascular Disease: Patients with significant cardiovascular disease may be unable to compensate for transient changes in hemodynamics or rhythm induced by pilocarpine. Pulmonary edema has been reported as a complication of pilocarpine toxicity from high ocular doses given for acute angle-closure glaucoma. Pilocarpine should be administered with caution in and under close medical supervision of patients with significant cardiovascular disease. Ocular: Ocular formulations of pilocarpine have been reported to cause visual blurring which may result in decreased visual acuity, especially at night and in patients with central lens changes, and to cause impairment of depth perception. Caution should be advised while driving at night or performing hazardous activities in reduced lighting. Pulmonary Disease: Pilocarpine has been reported to increase airway resistance, bronchial smooth muscle tone, and bronchial secretions. Pilocarpine hydrochloride should be administered with caution to and under close medical supervision in patients with controlled asthma, chronic bronchitis, or chronic obstructive pulmonary disease requiring pharmacotherapy.'],\n",
       "  'adverse_reactions': [\"ADVERSE REACTIONS: Head and Neck Cancer Patients: In controlled studies, 217 patients received pilocarpine, of whom 68% were men and 32% were women. Race distribution was 91% Caucasian, 8% Black, and 1% of other origin. Mean age was approximately 58 years. The majority of patients were between 50 and 64 years (51%), 33% were 65 years and older and 16% were younger than 50 years of age. The most frequent adverse experiences associated with pilocarpine hydrochloride tablets were a consequence of the expected pharmacologic effects of pilocarpine. Adverse Event 10 mg t.i.d. 5 mg t.i.d. Placebo (30 mg/day) N=21 (15 mg/day) N=141 (t.i.d.) N=152 Sweating 68% 29% 9% Nausea 15 6 4 Rhinitis 14 5 7 Diarrhea 7 4 5 Chills 15 3 <1 Flushing 13 8 3 Urinary Frequency 12 9 7 Dizziness 12 5 4 Asthenia 12 6 3 In addition, the following adverse events (≥3% incidence) were reported at dosages of 15 to 30 mg/day in the controlled clinical trials: Adverse Event Pilocarpine HCl Placebo 5 to 10 mg t.i.d. (15 to 30 mg/day) N=212 (t.i.d.) N=152 Headache 11% 8% Dyspepsia 7 5 Lacrimation 6 8 Edema 5 4 Abdominal Pain 4 4 Amblyopia 4 2 Vomiting 4 1 Pharyngitis 3 8 Hypertension 3 1 The following events were reported with treated head and neck cancer patients at incidences of 1% to 2% at dosages of 7.5 to 30 mg/day: abnormal vision, conjunctivitis, dysphagia, epistaxis, myalgias, pruritus, rash, sinusitis, tachycardia, taste perversion, tremor, voice alteration. The following events were reported rarely in treated head and neck cancer patients (<1%): Causal relation is unknown. Body as a whole: body odor, hypothermia, mucous membrane abnormality Cardiovascular: bradycardia, ECG abnormality, palpitations, syncope Digestive: anorexia, increased appetite, esophagitis, gastrointestinal disorder, tongue disorder Hematologic: leukopenia, lymphadenopathy Nervous: anxiety, confusion, depression, abnormal dreams, hyperkinesia, hypesthesia, nervousness, paresthesias, speech disorder, twitching Respiratory: increased sputum, stridor, yawning Skin: seborrhea Special senses: deafness, eye pain, glaucoma Urogenital: dysuria, metrorrhagia, urinary impairment In long-term treatment were two patients with underlying cardiovascular disease of whom one experienced a myocardial infarct and another an episode of syncope. The association with drug is uncertain. Sjogren's Syndrome Patients: In controlled studies, 376 patients received pilocarpine, of whom 5% were men and 95% were women. Race distribution was 84% Caucasian, 9% Oriental, 3% Black, and 4% of other origin. Mean age was 55 years. The majority of patients were between 40 and 69 years (70%), 16% were 70 years and older and 14% were younger than 40 years of age. Of these patients, 161/629 (89/376 receiving pilocarpine) were over the age of 65 years. The adverse events reported by those over 65 years and those 65 years and younger were comparable except for notable trends for urinary frequency, diarrhea, and dizziness. The incidences of urinary frequency and diarrhea in the elderly were about double those of the non-elderly. The incidence of dizziness was about three times as high in the elderly as in the non-elderly. These adverse experiences were not considered to be serious. In the 2 placebo-controlled studies, the most common adverse events related to drug use were sweating, urinary frequency, chills, and vasodilatation (flushing). The most commonly reported reason for patient discontinuation of treatment was sweating. Expected pharmacologic effects of pilocarpine include the following adverse experiences associated with pilocarpine hydrochloride tablets: Adverse Event Pilocarpine Placebo 5 mg q.i.d. (20 mg/day) N=255 (q.i.d.) N=253 Sweating 40% 7% Urinary Frequency 10 4 Nausea 9 9 Flushing 9 2 Rhinitis 7 8 Diarrhea 6 7 Chills 4 2 Increased Salivation 3 0 Asthenia 2 2 In addition, the following adverse events (≥3% incidence) were reported at dosages of 15 to 30 mg/day in the controlled clinical trials: Adverse Event Pilocarpine HCl Placebo 5 mg q.i.d. (20 mg/day) N=255 (q.i.d.) N=253 Headache 13% 19% Flu Syndrome 9 9 Dyspepsia 7 7 Dizziness 6 7 Pain 4 2 Sinusitis 4 5 Abdominal Pain 3 4 Vomiting 3 1 Pharyngitis 2 5 Rash 2 3 Infection 2 6 The following events were reported in Sjogren’s patients at incidences of 1% to 2% at dosing of 20 mg/day: accidental injury, allergic reaction, back pain, blurred vision, constipation, increased cough, edema, epistaxis, face edema, fever, flatulence, glossitis, lab test abnormalities, including chemistry, hematology, and urinalysis, myalgia, palpitation, pruritus, somnolence, stomatitis, tachycardia, tinnitus, urinary incontinence, urinary tract infection, and vaginitis. The following events were reported rarely in treated Sjogren's patients (<1%) at dosing of 10 to 30 mg/day: Causal relation is unknown. Body as a whole: chest pain, cyst, death, moniliasis, neck pain, neck rigidity, photosensitivity reaction Cardiovascular: angina pectoris, arrhythmia, ECG abnormality, hypotension, hypertension, intracranial hemorrhage, migraine, myocardial infarction Digestive: anorexia, bilirubinemia, cholelithiasis, colitis, dry mouth, eructation, gastritis, gastroenteritis, gastrointestinal disorder, gingivitis, hepatitis, abnormal liver function tests, melena, nausea & vomiting, pancreatitis, parotid gland enlargement, salivary gland enlargement, sputum increased, taste loss, tongue disorder, tooth disorder Hematologic: hematuria, lymphadenopathy, abnormal platelets, thrombocythemia, thrombocytopenia, thrombosis, abnormal WBC Metabolic and Nutritional: peripheral edema, hypoglycemia Musculoskeletal: arthralgia, arthritis, bone disorder, spontaneous bone fracture, pathological fracture, myasthenia, tendon disorder, tenosynovitis Nervous: aphasia, confusion, depression, abnormal dreams, emotional lability, hyperkinesia, hypesthesia, insomnia, leg cramps, nervousness, paresthesias, abnormal thinking, tremor Respiratory: bronchitis, dyspnea, hiccup, laryngismus, laryngitis, pneumonia, viral infection, voice alteration Skin: alopecia, contact dermatitis, dry skin, eczema, erythema nodosum, exfoliative dermatitis, herpes simplex, skin ulcer, vesiculobullous rash Special Senses: cataract, conjunctivitis, dry eyes, ear disorder, ear pain, eye disorder, eye hemorrhage, glaucoma, lacrimation disorder, retinal disorder, taste perversion, abnormal vision Urogenital: breast pain, dysuria, mastitis, menorrhagia, metrorrhagia, ovarian disorder, pyuria, salpingitis, urethral pain, urinary urgency, vaginal hemorrhage, vaginal moniliasis The following adverse experiences have been reported rarely with ocular pilocarpine: A-V block, agitation, ciliary congestion, confusion, delusion, depression, dermatitis, middle ear disturbance, eyelid twitching, malignant glaucoma, iris cysts, macular hole, shock, and visual hallucination.\"]},\n",
       " {'source': 'FDA',\n",
       "  'brand_name': [],\n",
       "  'generic_name': [],\n",
       "  'manufacturer': [],\n",
       "  'indication': [\"INDICATIONS AND USAGE Pilocarpine hydrochloride tablets are indicated for 1) the treatment of symptoms of dry mouth from salivary gland hypofunction caused by radiotherapy for cancer of the head and neck; and 2) the treatment of symptoms of dry mouth in patients with Sjogren's Syndrome.\"],\n",
       "  'dosage': ['DOSAGE AND ADMINISTRATION Regardless of the indication, the starting dose in patients with moderate hepatic impairment should be 5 mg twice daily, followed by adjustment based on therapeutic response and tolerability. Patients with mild hepatic insufficiency do not require dosage reductions. The use of pilocarpine in patients with severe hepatic insufficiency is not recommended. If needed, refer to the Hepatic Insufficiency subsection of the Precautions section of this label for definitions of mild, moderate and severe hepatic impairment. Head and Neck Cancer Patients: The recommended initial dose of pilocarpine hydrochloride tablets is 5 mg taken three times a day. Dosage should be titrated according to therapeutic response and tolerability. The usual dosage range is up to 15 to 30 mg per day. (Not to exceed10 mg per dose.) Although early improvement may be realized, at least 12 weeks of uninterrupted therapy with pilocarpine hydrochloride tablets may be necessary to assess whether a beneficial response will be achieved. The incidence of the most common adverse events increases with dose. The lowest dose that is tolerated and effective should be used for maintenance. Sjogren\"s Syndrome Patients: The recommended dose of pilocarpine hydrochloride tablets is one tablet (5 mg) taken four times a day. Efficacy was established by 6 weeks of use.'],\n",
       "  'warnings': ['WARNINGS Cardiovascular Disease Patients with significant cardiovascular disease may be unable to compensate for transient changes in hemodynamics or rhythm induced by pilocarpine. Pulmonary edema has been reported as a complication of pilocarpine toxicity from high ocular doses given for acute angle-closure glaucoma. Pilocarpine should be administered with caution in and under close medical supervision of patients with significant cardiovascular disease. Ocular Ocular formulations of pilocarpine have been reported to cause visual blurring which may result in decreased visual acuity, especially at night and in patients with central lens changes, and to cause impairment of depth perception. Caution should be advised while driving at night or performing hazardous activities in reduced lighting. Pulmonary Disease Pilocarpine has been reported to increase airway resistance, bronchial smooth muscle tone, and bronchial secretions. Pilocarpine hydrochloride should be administered with caution to and under close medical supervision in patients with controlled asthma, chronic bronchitis, or chronic obstructive pulmonary disease requiring pharmacotherapy.'],\n",
       "  'adverse_reactions': [\"ADVERSE REACTIONS Head and Neck Cancer Patients: In controlled studies, 217 patients received pilocarpine, of whom 68% were men and 32% were women. Race distribution was 91% Caucasian, 8% Black, and 1% of other origin. Mean age was approximately 58 years. The majority of patients were between 50 and 64 years (51%), 33% were 65 years and older and 16% were younger than 50 years of age. The most frequent adverse experiences associated with pilocarpine hydrochloride tablets were a consequence of the expected pharmacologic effects of pilocarpine. Adverse Event 10 mg t.i.d. (30 mg/day) N=121 5 mg t.i.d. (15 mg/day) N=141 Placebo (t.i.d.) N=152 Sweating 68% 29% 9% Nausea 15 6 4 Rhinitis 14 5 7 Diarrhea 7 4 5 Chills 15 3 <1 Flushing 13 8 3 Urinary Frequency 12 9 7 Dizziness 12 5 4 Asthenia 12 6 3 In addition, the following adverse events (≥ 3% incidence) were reported at dosages of 15 to 30 mg/day in the controlled clinical trials: Adverse Event Pilocarpine HCl Placebo 5 to 10 mg t.i.d. (15 to 30 mg/day) N=212 (t.i.d.) N=152 Headache 11% 8% Dyspepsia 7 5 Lacrimation 6 8 Edema 5 4 Abdominal Pain 4 4 Amblyopia 4 2 Vomiting 4 1 Pharyngitis 3 8 Hypertension 3 1 The following events were reported with treated head and neck cancer patients at incidences of 1% to 2% at dosages of 7.5 to 30 mg/day: abnormal vision, conjunctivitis, dysphagia, epistaxis, myalgias, pruritus, rash, sinusitis, tachycardia, taste perversion, tremor, voice alteration. The following events were reported rarely in treated head and neck cancer patients (<1%): Causal relation is unknown. Body as a whole: body odor, hypothermia, mucous membrane abnormality Cardiovascular: bradycardia, ECG abnormality, palpitations, syncope Digestive: anorexia, increased appetite, esophagitis, gastrointestinal disorder, tongue disorder Hematologic: leukopenia, lymphadenopathy Nervous: anxiety, confusion, depression, abnormal dreams, hyperkinesia, hypesthesia, nervousness, parethesias, speech disorder, twitching Respiratory: increased sputum, stridor, yawning Skin: seborrhea Special senses: deafness, eye pain, glaucoma Urogenital: dysuria, metrorrhagia, urinary impairment In long-term treatment were two patients with underlying cardiovascular disease of whom one experienced a myocardial infarct and another an episode of syncope. The association with drug is uncertain. Sjogren's Syndrome Patients: In controlled studies, 376 patients received pilocarpine, of whom 5% were men and 95% were women. Race distribution was 84% Caucasian, 9% Oriental, 3% Black, and 4% of other origin. Mean age was 55 years. The majority of patients were between 40 and 69 years (70%), 16% were 70 years and older and 14% were younger than 40 years of age. Of these patients, 161/629 (89/376 receiving pilocarpine) were over the age of 65 years. The adverse events reported by those over 65 years and those 65 years and younger were comparable except for notable trends for urinary frequency, diarrhea, and dizziness. The incidences of urinary frequency and diarrhea in the elderly were about double those of the non-elderly. The incidence of dizziness was about three times as high in the elderly as in the non-elderly. These adverse experiences were not considered to be serious. In the 2 placebo-controlled studies, the most common adverse events related to drug use were sweating, urinary frequency, chills, and vasodilatation (flushing). The most commonly reported reason for patient discontinuation of treatment was sweating. Expected pharmacologic effects of pilocarpine include the following adverse experiences associated with pilocarpine hydrochloride tablets: Adverse Event Pilocarpine HCl Placebo 5 mg q.i.d. (20 mg/day) N=255 (q.i.d.) N=253 Sweating 40% 7% Urinary Frequency 10 4 Nausea 9 9 Flushing 9 2 Rhinitis 7 8 Diarrhea 6 7 Chills 4 2 Increased Salivation 3 0 Asthenia 2 2 In addition, the following adverse events (≥ 3% incidence) were reported at dosages of 20 mg/day in the controlled clinical trials: Adverse Event Pilocarpine HCl Placebo 5 mg q.i.d. (20 mg/day) N=255 (q.i.d.) N=253 Headache 13% 19% Flu Syndrome 9 9 Dyspepsia 7 7 Dizziness 6 7 Pain 4 2 Sinusitis 4 5 Abdominal Pain 3 4 Vomiting 3 1 Pharyngitis 2 5 Rash 2 3 Infection 2 6 The following events were reported in Sjogren's patients at incidences of 1% to 2% at dosing of 20 mg/day: accidental injury, allergic reaction, back pain, blurred vision, constipation, increased cough, edema, epistaxis, face edema, fever, flatulence, glossitis, lab test abnormalities including chemistry, hematology, and urinalysis, myalgia, palpitation, pruritus, somnolence, stomatitis, tachycardia, tinnitus, urinary incontinence, urinary tract infection, and vaginitis. The following events were reported rarely in treated Sjogren's patients (<1%) at dosing of 10 to 30 mg/day: Causal relation is unknown. Body as a whole: chest pain, cyst, death, moniliasis, neck pain, neck rigidity, photosensitivity reaction Cardiovascular: angina pectoris, arrhythmia, ECG abnormality, hypotension, hypertension, intracranial hemorrhage, migraine, myocardial infarction Digestive: anorexia, bilirubinemia, cholelithiasis, colitis, dry mouth, eructation, gastritis, gastroenteritis, gastrointestinal disorder, gingivitis, hepatitis, abnormal liver function tests, melena, nausea & vomiting, pancreatitis, parotid gland enlargement, salivary gland enlargement, sputum increased, taste loss, tongue disorder, tooth disorder Hematologic: hematuria, lymphadenopathy, abnormal platelets, thrombocythemia, thrombocytopenia, thrombosis, abnormal WBC Metabolic and Nutritional: peripheral edema, hypoglycemia Musculoskeletal: arthralgia, arthritis, bone disorder, spontaneous bone fracture, pathological fracture, myasthenia, tendon disorder, tenosynovitis Nervous: aphasia, confusion, depression, abnormal dreams, emotional lability, hyperkinesia, hypesthesia, insomnia, leg cramps, nervousness, parethesias, abnormal thinking, tremor Respiratory: bronchitis, dyspnea, hiccup, laryngismus, laryngitis, pneumonia, viral infection, voice alteration Skin: alopecia, contact dermatitis, dry skin, eczema, erythema nodosum, exfoliative dermatitis, herpes simplex, skin ulcer, vesiculobullous rash Special Senses: cataract, conjunctivitis, dry eyes, ear disorder, ear pain, eye disorder, eye hemorrhage, glaucoma, lacrimation disorder, retinal disorder, taste perversion, abnormal vision Urogenital: breast pain, dysuria, mastitis, menorrhagia, metrorrhagia, ovarian disorder, pyuria, salpingitis, urethral pain, urinary urgency, vaginal hemorrhage, vaginal moniliasis The following adverse experiences have been reported rarely with ocular pilocarpine: A-V block, agitation, ciliary congestion, confusion, delusion, depression, dermatitis, middle ear disturbance, eyelid twitching, malignant glaucoma, iris cysts, macular hole, shock, and visual hallucination. MANAGEMENT OF OVERDOSE Fatal overdosage with pilocarpine has been reported in the scientific literature at doses presumed to be greater than 100 mg in two hospitalized patients. 100 mg of pilocarpine is considered potentially fatal. Overdosage should be treated with atropine titration (0.5 mg to 1 mg given subcutaneously or intravenously) and supportive measures to maintain respiration and circulation. Epinephrine (0.3 mg to 1 mg, subcutaneously or intramuscularly) may also be of value in the presence of severe cardiovascular depression or bronchoconstriction. It is not known if pilocarpine is dialyzable.\"]},\n",
       " {'source': 'FDA',\n",
       "  'brand_name': ['pilocarpine hydrchloride'],\n",
       "  'generic_name': ['PILOCARPINE HYDRCHLORIDE'],\n",
       "  'manufacturer': ['Bryant Ranch Prepack'],\n",
       "  'indication': [\"INDICATIONS AND USAGE: Pilocarpine hydrochloride tablets are indicated for 1) the treatment of symptoms of dry mouth from salivary gland hypofunction caused by radiotherapy for cancer of the head and neck; and 2) the treatment of symptoms of dry mouth in patients with Sjogren's Syndrome.\"],\n",
       "  'dosage': [\"DOSAGE AND ADMINISTRATION: Regardless of the indication, the starting dose in patients with moderate hepatic impairment should be 5 mg twice daily, followed by adjustment based on therapeutic response and tolerability. Patients with mild hepatic insufficiency do not require dosage reductions. The use of pilocarpine in patients with severe hepatic insufficiency is not recommended. If needed, refer to the Hepatic Insufficiency subsection of the Precautions section of this label for definitions of mild, moderate and severe hepatic impairment. Head and Neck Cancer Patients: The recommended initial dose of pilocarpine hydrochloride tablets is 5 mg taken three times a day. Dosage should be titrated according to therapeutic response and tolerance. The usual dosage range is up to 15 to 30 mg per day. (Not to exceed 10 mg per dose). Although early improvement may be realized, at least 12 weeks of uninterrupted therapy with pilocarpine hydrochloride tablets may be necessary to assess whether a beneficial response will be achieved. The incidence of the most common adverse events increases with dose. The lowest dose that is tolerated and effective should be used for maintenance. Sjogren's Syndrome Patients: The recommended dose of pilocarpine hydrochloride tablets is one tablet (5 mg) taken four times a day. Efficacy was established by 6 weeks of use.\"],\n",
       "  'warnings': ['WARNINGS: Cardiovascular Disease: Patients with significant cardiovascular disease may be unable to compensate for transient changes in hemodynamics or rhythm induced by pilocarpine. Pulmonary edema has been reported as a complication of pilocarpine toxicity from high ocular doses given for acute angle-closure glaucoma. Pilocarpine should be administered with caution in and under close medical supervision of patients with significant cardiovascular disease. Ocular: Ocular formulations of pilocarpine have been reported to cause visual blurring which may result in decreased visual acuity, especially at night and in patients with central lens changes, and to cause impairment of depth perception. Caution should be advised while driving at night or performing hazardous activities in reduced lighting. Pulmonary Disease: Pilocarpine has been reported to increase airway resistance, bronchial smooth muscle tone, and bronchial secretions. Pilocarpine hydrochloride should be administered with caution to and under close medical supervision in patients with controlled asthma, chronic bronchitis, or chronic obstructive pulmonary disease requiring pharmacotherapy.'],\n",
       "  'adverse_reactions': [\"ADVERSE REACTIONS: Head and Neck Cancer Patients: In controlled studies, 217 patients received pilocarpine, of whom 68% were men and 32% were women. Race distribution was 91% Caucasian, 8% Black, and 1% of other origin. Mean age was approximately 58 years. The majority of patients were between 50 and 64 years (51%), 33% were 65 years and older and 16% were younger than 50 years of age. The most frequent adverse experiences associated with pilocarpine hydrochloride tablets were a consequence of the expected pharmacologic effects of pilocarpine. Adverse Event 10 mg t.i.d. 5 mg t.i.d. Placebo (30 mg/day) N=21 (15 mg/day) N=141 (t.i.d.) N=152 Sweating 68% 29% 9% Nausea 15 6 4 Rhinitis 14 5 7 Diarrhea 7 4 5 Chills 15 3 <1 Flushing 13 8 3 Urinary Frequency 12 9 7 Dizziness 12 5 4 Asthenia 12 6 3 In addition, the following adverse events (≥3% incidence) were reported at dosages of 15 to 30 mg/day in the controlled clinical trials: Adverse Event Pilocarpine HCl Placebo 5 to 10 mg t.i.d. (15 to 30 mg/day) N=212 (t.i.d.) N=152 Headache 11% 8% Dyspepsia 7 5 Lacrimation 6 8 Edema 5 4 Abdominal Pain 4 4 Amblyopia 4 2 Vomiting 4 1 Pharyngitis 3 8 Hypertension 3 1 The following events were reported with treated head and neck cancer patients at incidences of 1% to 2% at dosages of 7.5 to 30 mg/day: abnormal vision, conjunctivitis, dysphagia, epistaxis, myalgias, pruritus, rash, sinusitis, tachycardia, taste perversion, tremor, voice alteration. The following events were reported rarely in treated head and neck cancer patients (<1%): Causal relation is unknown. Body as a whole: body odor, hypothermia, mucous membrane abnormality Cardiovascular: bradycardia, ECG abnormality, palpitations, syncope Digestive: anorexia, increased appetite, esophagitis, gastrointestinal disorder, tongue disorder Hematologic: leukopenia, lymphadenopathy Nervous: anxiety, confusion, depression, abnormal dreams, hyperkinesia, hypesthesia, nervousness, paresthesias, speech disorder, twitching Respiratory: increased sputum, stridor, yawning Skin: seborrhea Special senses: deafness, eye pain, glaucoma Urogenital: dysuria, metrorrhagia, urinary impairment In long-term treatment were two patients with underlying cardiovascular disease of whom one experienced a myocardial infarct and another an episode of syncope. The association with drug is uncertain. Sjogren's Syndrome Patients: In controlled studies, 376 patients received pilocarpine, of whom 5% were men and 95% were women. Race distribution was 84% Caucasian, 9% Oriental, 3% Black, and 4% of other origin. Mean age was 55 years. The majority of patients were between 40 and 69 years (70%), 16% were 70 years and older and 14% were younger than 40 years of age. Of these patients, 161/629 (89/376 receiving pilocarpine) were over the age of 65 years. The adverse events reported by those over 65 years and those 65 years and younger were comparable except for notable trends for urinary frequency, diarrhea, and dizziness. The incidences of urinary frequency and diarrhea in the elderly were about double those of the non-elderly. The incidence of dizziness was about three times as high in the elderly as in the non-elderly. These adverse experiences were not considered to be serious. In the 2 placebo-controlled studies, the most common adverse events related to drug use were sweating, urinary frequency, chills, and vasodilatation (flushing). The most commonly reported reason for patient discontinuation of treatment was sweating. Expected pharmacologic effects of pilocarpine include the following adverse experiences associated with pilocarpine hydrochloride tablets: Adverse Event Pilocarpine Placebo 5 mg q.i.d. (20 mg/day) N=255 (q.i.d.) N=253 Sweating 40% 7% Urinary Frequency 10 4 Nausea 9 9 Flushing 9 2 Rhinitis 7 8 Diarrhea 6 7 Chills 4 2 Increased Salivation 3 0 Asthenia 2 2 In addition, the following adverse events (≥3% incidence) were reported at dosages of 15 to 30 mg/day in the controlled clinical trials: Adverse Event Pilocarpine HCl Placebo 5 mg q.i.d. (20 mg/day) N=255 (q.i.d.) N=253 Headache 13% 19% Flu Syndrome 9 9 Dyspepsia 7 7 Dizziness 6 7 Pain 4 2 Sinusitis 4 5 Abdominal Pain 3 4 Vomiting 3 1 Pharyngitis 2 5 Rash 2 3 Infection 2 6 The following events were reported in Sjogren’s patients at incidences of 1% to 2% at dosing of 20 mg/day: accidental injury, allergic reaction, back pain, blurred vision, constipation, increased cough, edema, epistaxis, face edema, fever, flatulence, glossitis, lab test abnormalities, including chemistry, hematology, and urinalysis, myalgia, palpitation, pruritus, somnolence, stomatitis, tachycardia, tinnitus, urinary incontinence, urinary tract infection, and vaginitis. The following events were reported rarely in treated Sjogren's patients (<1%) at dosing of 10 to 30 mg/day: Causal relation is unknown. Body as a whole: chest pain, cyst, death, moniliasis, neck pain, neck rigidity, photosensitivity reaction Cardiovascular: angina pectoris, arrhythmia, ECG abnormality, hypotension, hypertension, intracranial hemorrhage, migraine, myocardial infarction Digestive: anorexia, bilirubinemia, cholelithiasis, colitis, dry mouth, eructation, gastritis, gastroenteritis, gastrointestinal disorder, gingivitis, hepatitis, abnormal liver function tests, melena, nausea & vomiting, pancreatitis, parotid gland enlargement, salivary gland enlargement, sputum increased, taste loss, tongue disorder, tooth disorder Hematologic: hematuria, lymphadenopathy, abnormal platelets, thrombocythemia, thrombocytopenia, thrombosis, abnormal WBC Metabolic and Nutritional: peripheral edema, hypoglycemia Musculoskeletal: arthralgia, arthritis, bone disorder, spontaneous bone fracture, pathological fracture, myasthenia, tendon disorder, tenosynovitis Nervous: aphasia, confusion, depression, abnormal dreams, emotional lability, hyperkinesia, hypesthesia, insomnia, leg cramps, nervousness, paresthesias, abnormal thinking, tremor Respiratory: bronchitis, dyspnea, hiccup, laryngismus, laryngitis, pneumonia, viral infection, voice alteration Skin: alopecia, contact dermatitis, dry skin, eczema, erythema nodosum, exfoliative dermatitis, herpes simplex, skin ulcer, vesiculobullous rash Special Senses: cataract, conjunctivitis, dry eyes, ear disorder, ear pain, eye disorder, eye hemorrhage, glaucoma, lacrimation disorder, retinal disorder, taste perversion, abnormal vision Urogenital: breast pain, dysuria, mastitis, menorrhagia, metrorrhagia, ovarian disorder, pyuria, salpingitis, urethral pain, urinary urgency, vaginal hemorrhage, vaginal moniliasis The following adverse experiences have been reported rarely with ocular pilocarpine: A-V block, agitation, ciliary congestion, confusion, delusion, depression, dermatitis, middle ear disturbance, eyelid twitching, malignant glaucoma, iris cysts, macular hole, shock, and visual hallucination.\"]},\n",
       " {'source': 'FDA',\n",
       "  'brand_name': [],\n",
       "  'generic_name': [],\n",
       "  'manufacturer': [],\n",
       "  'indication': ['USES Temporarily relieves minor aches and pains due to: • The common cold • Flu • Headache • Sore throat • Toothache • Temporarily reduces fever'],\n",
       "  'dosage': ['DIRECTIONS • This product does not contain directions or complete warnings for adult use • Find right dose on chart. If possible, use weight to dose; otherwise, use age • mL = milliliter • If needed, repeat dose every 4 hours • Do not use more than 5 doses in 24 hours • Use enclosed dosing cup only. Do not use any other device Weight Age Dose under 24 lbs Under 2 years Ask a doctor 24 to 35 lbs 2 to 3 years 5mL 36 to 47 lbs 4 to 5 years 7.5mL 48 to 59 lbs 6 to 8 years 10mL 60 to 71 lbs 9 to 10 years 12.5mL 72 to 95 lbs 11 years 15mL'],\n",
       "  'warnings': ['WARNINGS Liver warning: This product contains acetaminophen. Severe liver damage may occur if your child takes: • More than 5 doses in 24 hours, which is the maximum daily amount • With other drugs containing acetaminophen Allergy alert: acetaminophen may cause severe skin reactions. Symptoms may include: • Skin reddening • Blisters • Rash If a skin reaction occurs, stop use and seek medical help right away. Sore throat warning: If sore throat is severe, persists for more than 2 days, is accompanied or followed by fever, headache, rash, nausea, or vomiting, consult a doctor promptly. Do not use • With any other product containing acetaminophen (prescription or nonprescription). If you are not sure whether a drug contains acetaminophen, ask a doctor or pharmacist • If your child is allergic to acetaminophen or any of the inactive ingredients in this product Ask a doctor before use if your child has liver disease Ask a doctor or pharmacist before use if your child is taking the blood thinning drug warfarin When using this product, do not exceed recommended dose (see overdose warning) Stop use and ask a doctor if • Pain gets worse or last for more than 5 days • Fever gets worse or last for more than 3 days • New symptoms occur • Redness or swelling is present These could be signs of a serious condition. Keep out of the reach of children. Overdose warning: Taking more than the recommended dose (overdose) may cause liver damage. In case of overdose, get medical help or contact a Poison Control Center (1-800-222-1222) right away. Quick medical attention is critical for adults as well as children even if you do not notice any signs or symptoms.'],\n",
       "  'adverse_reactions': []},\n",
       " {'source': 'FDA',\n",
       "  'brand_name': [],\n",
       "  'generic_name': [],\n",
       "  'manufacturer': [],\n",
       "  'indication': [\"INDICATIONS AND USAGE Pilocarpine hydrochloride tablets are indicated for 1) the treatment of symptoms of dry mouth from salivary gland hypofunction caused by radiotherapy for cancer of the head and neck; and 2) the treatment of symptoms of dry mouth in patients with Sjogren's syndrome.\"],\n",
       "  'dosage': [\"DOSAGE AND ADMINISTRATION Regardless of the indication, the starting dose in patients with moderate hepatic impairment should be 5 mg twice daily, followed by adjustment based on therapeutic response and tolerability. Patients with mild hepatic insufficiency do not require dosage reductions. The use of pilocarpine in patients with severe hepatic insufficiency is not recommended. If needed, refer to the Hepatic Insufficiency subsection of the Precautions section of this label for definitions of mild, moderate and severe hepatic impairment. Head & Neck Cancer Patients The recommended initial dose of pilocarpine hydrochloride tablets is 5 mg taken three times a day. Dosage should be titrated according to therapeutic response and tolerance. The usual dosage range is up to 15-30 mg per day. (Not to exceed 10 mg per dose.) Although early improvement may be realized, at least 12 weeks of uninterrupted therapy with pilocarpine hydrochloride tablets may be necessary to assess whether a beneficial response will be achieved. The incidence of the most common adverse events increases with dose. The lowest dose that is tolerated and effective should be used for maintenance. Sjogren's Syndrome Patients The recommended dose of pilocarpine hydrochloride tablets is 5 mg taken four times a day. Efficacy was established by 6 weeks of use.\"],\n",
       "  'warnings': ['WARNINGS Cardiovascular Disease Patients with significant cardiovascular disease may be unable to compensate for transient changes in hemodynamics or rhythm induced by pilocarpine. Pulmonary edema has been reported as a complication of pilocarpine toxicity from high ocular doses given for acute angle-closure glaucoma. Pilocarpine should be administered with caution in and under close medical supervision of patients with significant cardiovascular disease. Ocular Ocular formulations of pilocarpine have been reported to cause visual blurring which may result in decreased visual acuity, especially at night and in patients with central lens changes, and to cause impairment of depth perception. Caution should be advised while driving at night or performing hazardous activities in reduced lighting. Pulmonary Disease Pilocarpine has been reported to increase airway resistance, bronchial smooth muscle tone, and bronchial secretions. Pilocarpine hydrochloride should be administered with caution to and under close medical supervision in patients with controlled asthma, chronic bronchitis, or chronic obstructive pulmonary disease requiring pharmacotherapy.'],\n",
       "  'adverse_reactions': [\"ADVERSE REACTIONS Head & Neck Cancer Patients In controlled studies, 217 patients received pilocarpine, of whom 68% were men and 32% were women. Race distribution was 91% Caucasian, 8% Black, and 1% of other origin. Mean age was approximately 58 years. The majority of patients were between 50 and 64 years (51%), 33% were 65 years and older and 16% were younger than 50 years of age. The most frequent adverse experiences associated with pilocarpine hydrochloride tablets were a consequence of the expected pharmacologic effects of pilocarpine. Adverse Event Pilocarpine HCl Placebo 10 mg t.i.d. (30 mg/day) 5 mg t.i.d. (15 mg/day) (t.i.d.) N=121 N=141 N=152 Sweating 68% 29% 9% Nausea 15 6 4 Rhinitis 14 5 7 Diarrhea 7 4 5 Chills 15 3 <1 Flushing 13 8 3 Urinary Frequency 12 9 7 Dizziness 12 5 4 Asthenia 12 6 3 In addition, the following adverse events (≥3% incidence) were reported at dosages of 15-30 mg/day in the controlled clinical trials: Adverse Event Pilocarpine HCl Placebo 5-10 mg t.i.d. (15-30 mg/day) (t.i.d.) N=212 N=152 Headache 11% 8% Dyspepsia 7 5 Lacrimation 6 8 Edema 5 4 Abdominal Pain 4 4 Amblyopia 4 2 Vomiting 4 1 Pharyngitis 3 8 Hypertension 3 1 The following events were reported with treated head and neck cancer patients at incidences of 1% to 2% at dosages of 7.5 to 30 mg/day: abnormal vision, conjunctivitis, dysphagia, epistaxis, myalgias, pruritus, rash, sinusitis, tachycardia, taste perversion, tremor, voice alteration. The following events were reported rarely in treated head and neck cancer patients (<1%): Causal relation is unknown. Body as a whole: body odor, hypothermia, mucous membrane abnormality Cardiovascular: bradycardia, ECG abnormality, palpitations, syncope Digestive: anorexia, increased appetite, esophagitis, gastrointestinal disorder, tongue disorder Hematologic: leukopenia, lymphadenopathy Nervous: anxiety, confusion, depression, abnormal dreams, hyperkinesia, hypesthesia, nervousness, parethesias, speech disorder, twitching Respiratory: increased sputum, stridor, yawning Skin: seborrhea Special senses: deafness, eye pain, glaucoma Urogenital: dysuria, metrorrhagia, urinary impairment In long-term treatment were two patients with underlying cardiovascular disease of whom one experienced a myocardial infarct and another episode of syncope. The association with drug is uncertain. Sjogren's Syndrome Patients In controlled studies, 376 patients received pilocarpine, of whom 5% were men and 95% were women. Race distribution was 84% Caucasian, 9% Oriental, 3% Black, and 4% of other origin. Mean age was 55 years. The majority of patients were between 40 and 69 years (70%), 16% were 70 years and older and 14% were younger than 40 years of age. Of these patients, 161/629 (89/376 receiving pilocarpine) were over the age of 65 years. The adverse events reported by those over 65 years and those 65 years and younger were comparable except for notable trends for urinary frequency, diarrhea, and dizziness. The incidences of urinary frequency and diarrhea in the elderly were about double those in the non-elderly. The incidence of dizziness was about three times as high in the elderly as in the non-elderly. These adverse experiences were not considered to be serious. In the 2 placebo-controlled studies, the most common adverse events related to drug use were sweating, urinary frequency, chills, and vasodilatation (flushing). The most commonly reported reason for patient discontinuation of treatment was sweating. Expected pharmacologic effects of pilocarpine include the following adverse experiences associated with pilocarpine hydrochloride tablets: Adverse Event Pilocarpine HCl Placebo 5 mg q.i.d. (20 mg/day) (q.i.d.) N=255 N=253 Sweating 40% 7% Urinary Frequency 10 4 Nausea 9 9 Flushing 9 2 Rhinitis 7 8 Diarrhea 6 7 Chills 4 2 Increased Salivation 3 0 Asthenia 2 2 In addition, the following adverse events (≥3% incidence) were reported at dosages of 20 mg/day in the controlled clinical trials: Adverse Event Pilocarpine HCl Placebo 5 mg q.i.d. (20 mg/day) (q.i.d.) N=255 N=253 Headache 13% 19% Flu Syndrome 9 9 Dyspepsia 7 7 Dizziness 6 7 Pain 4 2 Sinusitis 4 5 Abdominal Pain 3 4 Vomiting 3 1 Pharyngitis 2 5 Rash 2 3 Infection 2 6 The following events were reported in Sjogren's patients at incidences of 1% to 2% at dosing of 20 mg/day: accidental injury, allergic reaction, back pain, blurred vision, constipation, increased cough, edema, epistaxis, face edema, fever, flatulence, glossitis, lab test abnormalities, including chemistry, hematology, and urinalysis, myalgia, palpitation, pruritus, somnolence, stomatitis, tachycardia, tinnitus, urinary incontinence, urinary tract infection, vaginitis. The following events were reported rarely in treated Sjogren's patients (<1%) at dosing of 10-30 mg/day: Causal relation is unknown. Body as a whole: chest pain, cyst, death, moniliasis, neck pain, neck rigidity, photosensitivity reaction Cardiovascular: angina pectoris, arrhythmia, ECG abnormality, hypotension, hypertension, intracranial hemorrhage, migraine, myocardial infarction Digestive: anorexia, bilirubinemia, cholelithiasis, colitis, dry mouth, eructation, gastritis, gastroenteritis, gastrointestinal disorder, gingivitis, hepatitis, abnormal liver function tests, melena, nausea & vomiting, pancreatitis, parotid gland enlargement, salivary gland enlargement, sputum increased, taste loss, tongue disorder, tooth disorder Hematologic: hematuria, lymphadenopathy, abnormal platelets, thrombocythemia, thrombocytopenia, thrombosis, abnormal WBC Metabolic and Nutritional: peripheral edema, Hypoglycemia Musculoskeletal: arthralgia, arthritis, bone disorder, spontaneous bone fracture, pathological fracture, myasthenia, tendon disorder, tenosynovitis Nervous: aphasia, confusion, depression, abnormal dreams, emotional lability, hyperkinesia, hypesthesia, insomnia, leg cramps, nervousness, parethesias, abnormal thinking, tremor Respiratory: bronchitis, dyspnea, hiccup, laryngismus, laryngitis, pneumonia, viral infection, voice alteration Skin: alopecia, contact dermatitis, dry skin, eczema, erythema nodosum, exfoliative dermatitis, herpes simplex, skin ulcer, vesiculobullous rash Special senses: cataract, conjunctivitis, dry eyes, ear disorder, ear pain, eye disorder, eye hemorrhage, glaucoma, lacrimation disorder, retinal disorder, taste perversion, abnormal vision Urogenital: breast pain, dysuria, mastitis, menorrhagia, metrorrhagia, ovarian disorder, pyuria, salpingitis, urethral pain, urinary urgency, vaginal hemorrhage, vaginal moniliasis The following adverse experiences have been reported rarely with ocular pilocarpine: A-V block, agitation, ciliary congestion, confusion, delusion, depression, dermatitis, middle ear disturbance, eyelid twitching, malignant glaucoma, iris cysts, macular hole, shock, and visual hallucination.\"]}]"
      ]
     },
     "execution_count": 25,
     "metadata": {},
     "output_type": "execute_result"
    }
   ],
   "source": [
    "url = \"https://api.fda.gov/drug/label.json\"\n",
    "params = {\n",
    "    \"search\": \"paracetamol\",\n",
    "    \"limit\": 10\n",
    "}\n",
    "\n",
    "response = requests.get(url, params=params)\n",
    "if response.status_code == 200:\n",
    "    data = response.json()\n",
    "    results = []\n",
    "    \n",
    "    for result in data.get(\"results\", []):\n",
    "        results.append({\n",
    "            \"source\": \"FDA\",\n",
    "            \"brand_name\": result.get(\"openfda\", {}).get(\"brand_name\", []),\n",
    "            \"generic_name\": result.get(\"openfda\", {}).get(\"generic_name\", []),\n",
    "            \"manufacturer\": result.get(\"openfda\", {}).get(\"manufacturer_name\", []),\n",
    "            \"indication\": result.get(\"indications_and_usage\", []),\n",
    "            \"dosage\": result.get(\"dosage_and_administration\", []),\n",
    "            \"warnings\": result.get(\"warnings\", []),\n",
    "            \"adverse_reactions\": result.get(\"adverse_reactions\", [])\n",
    "        })\n",
    "    \n",
    "results"
   ]
  },
  {
   "cell_type": "markdown",
   "id": "81d90ab7",
   "metadata": {},
   "source": [
    "##### Actual"
   ]
  },
  {
   "cell_type": "code",
   "execution_count": 26,
   "id": "e7b84526",
   "metadata": {},
   "outputs": [],
   "source": [
    "class MedicalWebSearchTool(BaseTool):\n",
    "    \"\"\"Specialized web search tool for medical information\"\"\"\n",
    "    \n",
    "    name: str = \"medical_web_search\"\n",
    "    description: str = \"\"\"\n",
    "    Search medical databases and websites for current medical information.\n",
    "    Covers PubMed, medical journals, FDA databases, and clinical trial registries.\n",
    "    \"\"\"\n",
    "    def __init__(self):\n",
    "        super().__init__()\n",
    "    \n",
    "    def _run(self, query: str, search_type: str = \"pubmed\") -> str:\n",
    "        \"\"\"Execute medical web search\"\"\"\n",
    "        try:\n",
    "            results = []\n",
    "\n",
    "            if search_type == \"pubmed\":\n",
    "                results.extend(self._search_pubmed(query))\n",
    "            elif search_type == \"fda\":\n",
    "                results.extend(self._search_fda(query))\n",
    "            # else:\n",
    "            #     # General medical search across all sources\n",
    "            #     results.extend(self._search_pubmed(query))\n",
    "            #     results.extend(self._search_fda(query))\n",
    "            return json.dumps(results, indent=2)\n",
    "        except Exception as e:\n",
    "            print(f\"Medical web search error: {e}\")\n",
    "            raise f\"Error in medical search: {str(e)}\"\n",
    "    \n",
    "    def _search_pubmed(self, query: str, max_results: int = 20) -> List[Dict]:\n",
    "        \"\"\"Search PubMed database\"\"\"\n",
    "        try:\n",
    "            Entrez.email = \"researcher@example.com\"  # Set your email\n",
    "\n",
    "            # Search PubMed\n",
    "            handle = Entrez.esearch(db=\"pmc\", term=query, retmax=max_results, sort=\"relevance\")\n",
    "            search_results = Entrez.read(handle)\n",
    "            handle.close()\n",
    "\n",
    "            # Get detailed information from PMC\n",
    "            if search_results.get(\"IdList\"):\n",
    "                handle = Entrez.efetch(db=\"pmc\", id=search_results[\"IdList\"], retmode=\"xml\")\n",
    "                \n",
    "                xml_data = handle.read()\n",
    "                handle.close()\n",
    "                \n",
    "                root = ET.fromstring(xml_data)\n",
    "                results = []\n",
    "                \n",
    "                for article in root.findall(\".//article\"):\n",
    "                    # Extract article metadata\n",
    "                    title_elem = article.find(\".//article-title\")\n",
    "                    abstract_elem = article.find(\".//abstract\")\n",
    "                    journal_elem = article.find(\".//journal-title\")\n",
    "                    pmcid_elem = article.find(\".//article-id[@pub-id-type='pmc']\")\n",
    "                    pmid_elem = article.find(\".//article-id[@pub-id-type='pmid']\")\n",
    "                    \n",
    "                    # Extract authors\n",
    "                    authors = []\n",
    "                    for author in article.findall(\".//contrib[@contrib-type='author']\"):\n",
    "                        given_name = author.find(\".//given-names\")\n",
    "                        surname = author.find(\".//surname\")\n",
    "                        if given_name is not None and surname is not None:\n",
    "                            authors.append(f\"{given_name.text} {surname.text}\")\n",
    "                    \n",
    "                    # Extract publication date\n",
    "                    pub_date = \"\"\n",
    "                    date_elem = article.find(\".//pub-date\")\n",
    "                    if date_elem is not None:\n",
    "                        year = date_elem.find(\".//year\")\n",
    "                        month = date_elem.find(\".//month\")\n",
    "                        day = date_elem.find(\".//day\")\n",
    "                        if year is not None:\n",
    "                            pub_date = year.text\n",
    "                            if month is not None:\n",
    "                                pub_date += f\"-{month.text}\"\n",
    "                            if day is not None:\n",
    "                                pub_date += f\"-{day.text}\"\n",
    "                    \n",
    "                    results.append({\n",
    "                        \"source\": \"PubMed Central (PMC)\",\n",
    "                        \"title\": title_elem.text if title_elem is not None else \"\",\n",
    "                        \"authors\": authors,\n",
    "                        \"journal\": journal_elem.text if journal_elem is not None else \"\",\n",
    "                        \"publication_date\": pub_date,\n",
    "                        \"abstract\": abstract_elem.text if abstract_elem is not None else \"\",\n",
    "                        \"pmcid\": pmcid_elem.text if pmcid_elem is not None else \"\",\n",
    "                        \"pmid\": pmid_elem.text if pmid_elem is not None else \"\",\n",
    "                        \"doi\": [],\n",
    "                        \"keywords\": []\n",
    "                    })\n",
    "                return results\n",
    "            else:\n",
    "                return []\n",
    "        except Exception as e:\n",
    "            print(f\"PubMed search error: {e}\")\n",
    "            raise f\"Error in PubMed search: {str(e)}\"\n",
    "    \n",
    "    def _search_fda(self, query: str) -> List[Dict]:\n",
    "        \"\"\"Search FDA databases\"\"\"\n",
    "        try:\n",
    "            # FDA Drug Database API\n",
    "            url = \"https://api.fda.gov/drug/label.json\"\n",
    "            params = {\n",
    "                \"search\": f'\"{query}\"',\n",
    "                \"limit\": 10\n",
    "            }\n",
    "            \n",
    "            response = requests.get(url, params=params)\n",
    "            if response.status_code == 200:\n",
    "                data = response.json()\n",
    "                print(f'data: {data}')\n",
    "                results = []\n",
    "                \n",
    "                for result in data.get(\"results\", []):\n",
    "                    results.append({\n",
    "                        \"source\": \"FDA\",\n",
    "                        \"brand_name\": result.get(\"openfda\", {}).get(\"brand_name\", []),\n",
    "                        \"generic_name\": result.get(\"openfda\", {}).get(\"generic_name\", []),\n",
    "                        \"manufacturer\": result.get(\"openfda\", {}).get(\"manufacturer_name\", []),\n",
    "                        \"indication\": result.get(\"indications_and_usage\", []),\n",
    "                        \"dosage\": result.get(\"dosage_and_administration\", []),\n",
    "                        \"warnings\": result.get(\"warnings\", []),\n",
    "                        \"adverse_reactions\": result.get(\"adverse_reactions\", [])\n",
    "                    })\n",
    "                \n",
    "                return results\n",
    "                \n",
    "        except Exception as e:\n",
    "            print(f\"FDA search error: {e}\")\n",
    "            raise f\"Error in FDA search: {str(e)}\"\n"
   ]
  },
  {
   "cell_type": "code",
   "execution_count": 27,
   "id": "d5f181e6",
   "metadata": {},
   "outputs": [
    {
     "data": {
      "text/plain": [
       "'[\\n  {\\n    \"source\": \"PubMed Central (PMC)\",\\n    \"title\": \"Beyond COX-1: the effects of aspirin on platelet biology and potential mechanisms of chemoprevention\",\\n    \"authors\": [\\n      \"Argentina Ornelas\",\\n      \"Niki Zacharias-Millward\",\\n      \"David G. Menter\",\\n      \"Jennifer S. Davis\",\\n      \"Lenard Lichtenberger\",\\n      \"David Hawke\",\\n      \"Ernest Hawk\",\\n      \"Eduardo Vilar\",\\n      \"Pratip Bhattacharya\",\\n      \"Steven Millward\"\\n    ],\\n    \"journal\": \"Cancer Metastasis Reviews\",\\n    \"publication_date\": \"2017-7-31\",\\n    \"abstract\": null,\\n    \"pmcid\": \"\",\\n    \"pmid\": \"28762014\",\\n    \"doi\": [],\\n    \"keywords\": []\\n  },\\n  {\\n    \"source\": \"PubMed Central (PMC)\",\\n    \"title\": \"Effect of dietary aspirin eugenol ester on the growth performance, antioxidant capacity, intestinal inflammation, and cecal microbiota of broilers under high stocking density\",\\n    \"authors\": [\\n      \"Haojie Zhang\",\\n      \"Yi Zhang\",\\n      \"Dongying Bai\",\\n      \"Jiale Zhong\",\\n      \"Xiaodi Hu\",\\n      \"Ruilin Zhang\",\\n      \"Wenrui Zhen\",\\n      \"Koichi Ito\",\\n      \"Bingkun Zhang\",\\n      \"Yajun Yang\",\\n      \"Jianyong Li\",\\n      \"Yanbo Ma\"\\n    ],\\n    \"journal\": \"Poultry Science\",\\n    \"publication_date\": \"2024-7\",\\n    \"abstract\": null,\\n    \"pmcid\": \"\",\\n    \"pmid\": \"38772090\",\\n    \"doi\": [],\\n    \"keywords\": []\\n  },\\n  {\\n    \"source\": \"PubMed Central (PMC)\",\\n    \"title\": \"Ubiquitous Aspirin: A Systematic Review of Its Impact on Sensorineural Hearing Loss\",\\n    \"authors\": [\\n      \"Meghann Elizabeth Kyle\",\\n      \"James C. Wang\",\\n      \"Jennifer J. Shin\"\\n    ],\\n    \"journal\": \"Otolaryngology--head and neck surgery : official journal of American Academy of Otolaryngology-Head and Neck Surgery\",\\n    \"publication_date\": \"2014-10-30\",\\n    \"abstract\": null,\\n    \"pmcid\": \"\",\\n    \"pmid\": \"25358343\",\\n    \"doi\": [],\\n    \"keywords\": []\\n  },\\n  {\\n    \"source\": \"PubMed Central (PMC)\",\\n    \"title\": null,\\n    \"authors\": [\\n      \"Gang Xie\",\\n      \"Chi C. Wong\",\\n      \"Ka-Wing Cheng\",\\n      \"Liqun Huang\",\\n      \"Panayiotis P. Constantinides\",\\n      \"Basil Rigas\"\\n    ],\\n    \"journal\": \"Pharmaceutical research\",\\n    \"publication_date\": \"2012-7-11\",\\n    \"abstract\": null,\\n    \"pmcid\": \"\",\\n    \"pmid\": \"22782648\",\\n    \"doi\": [],\\n    \"keywords\": []\\n  },\\n  {\\n    \"source\": \"PubMed Central (PMC)\",\\n    \"title\": \"Multi-centre, randomised, open-label, blinded endpoint assessed, trial of corticosteroids plus intravenous immunoglobulin (IVIG) and aspirin, versus IVIG and aspirin for prevention of coronary artery aneurysms (CAA) in Kawasaki disease (KD): the KD CAA prevention (KD-CAAP) trial protocol\",\\n    \"authors\": [\\n      \"Despina Eleftheriou\",\\n      \"Yolanda Collaco Moraes\",\\n      \"Cara Purvis\",\\n      \"Molly Pursell\",\\n      \"Marta Merida Morillas\",\\n      \"Robin Kahn\",\\n      \"Maria Mossberg\",\\n      \"Filip Kucera\",\\n      \"Robert Tulloh\",\\n      \"Joseph F. Standing\",\\n      \"Veronica Swallow\",\\n      \"Rachael McCormack\",\\n      \"Jethro Herberg\",\\n      \"Michael Levin\",\\n      \"Mandy Wan\",\\n      \"Nigel Klein\",\\n      \"Roisin Connon\",\\n      \"Ann Sarah Walker\",\\n      \"Paul Brogan\"\\n    ],\\n    \"journal\": \"Trials\",\\n    \"publication_date\": \"2023-1-26\",\\n    \"abstract\": null,\\n    \"pmcid\": \"\",\\n    \"pmid\": \"36703139\",\\n    \"doi\": [],\\n    \"keywords\": []\\n  },\\n  {\\n    \"source\": \"PubMed Central (PMC)\",\\n    \"title\": \"The Synergistic Effect of \",\\n    \"authors\": [\\n      \"Jia Ke\",\\n      \"Meng-Ting Li\",\\n      \"Ya-Jing Huo\",\\n      \"Yan-Qiong Cheng\",\\n      \"Shu-Fen Guo\",\\n      \"Yang Wu\",\\n      \"Lei Zhang\",\\n      \"Jianpeng Ma\",\\n      \"Ai-Jun Liu\",\\n      \"Yan Han\"\\n    ],\\n    \"journal\": \"Drug Design, Development and Therapy\",\\n    \"publication_date\": \"2021-8-14\",\\n    \"abstract\": null,\\n    \"pmcid\": \"\",\\n    \"pmid\": \"34429584\",\\n    \"doi\": [],\\n    \"keywords\": []\\n  },\\n  {\\n    \"source\": \"PubMed Central (PMC)\",\\n    \"title\": \"Novel lipid mediators promote resolution of acute inflammation: impact of aspirin and statins\",\\n    \"authors\": [\\n      \"Matthew Spite\",\\n      \"Charles N. Serhan\"\\n    ],\\n    \"journal\": \"Circulation research\",\\n    \"publication_date\": \"2010-11-12\",\\n    \"abstract\": null,\\n    \"pmcid\": \"\",\\n    \"pmid\": \"21071715\",\\n    \"doi\": [],\\n    \"keywords\": []\\n  },\\n  {\\n    \"source\": \"PubMed Central (PMC)\",\\n    \"title\": \"Aspirin related gastrointestinal bleeders have an exaggerated bleeding time response due to aspirin use.\",\\n    \"authors\": [\\n      \"A I Lanas\",\\n      \"M T Arroyo\",\\n      \"F Esteva\",\\n      \"R Cornudella\",\\n      \"B I Hirschowitz\",\\n      \"R S\\\\u00e1inz\"\\n    ],\\n    \"journal\": \"Gut\",\\n    \"publication_date\": \"1996-11\",\\n    \"abstract\": null,\\n    \"pmcid\": \"\",\\n    \"pmid\": \"9026478\",\\n    \"doi\": [],\\n    \"keywords\": []\\n  },\\n  {\\n    \"source\": \"PubMed Central (PMC)\",\\n    \"title\": \"Development of Poly Unsaturated Fatty Acid Derivatives of Aspirin for Inhibition of Platelet Function\",\\n    \"authors\": [\\n      \"Jahnabi Roy\",\\n      \"Reheman Adili\",\\n      \"Richard Kulmacz\",\\n      \"Michael Holinstat\",\\n      \"Aditi Das\"\\n    ],\\n    \"journal\": \"The Journal of Pharmacology and Experimental Therapeutics\",\\n    \"publication_date\": \"2016-10\",\\n    \"abstract\": null,\\n    \"pmcid\": \"\",\\n    \"pmid\": \"27488919\",\\n    \"doi\": [],\\n    \"keywords\": []\\n  },\\n  {\\n    \"source\": \"PubMed Central (PMC)\",\\n    \"title\": \"Antioxidative effect of aspirin on vascular function of aged ovariectomized rats\",\\n    \"authors\": [\\n      \"Buket Demirci\",\\n      \"Omer Demir\",\\n      \"Turhan Dost\",\\n      \"Mustafa Birincioglu\"\\n    ],\\n    \"journal\": \"Age\",\\n    \"publication_date\": \"2013-7-20\",\\n    \"abstract\": null,\\n    \"pmcid\": \"\",\\n    \"pmid\": \"23872923\",\\n    \"doi\": [],\\n    \"keywords\": []\\n  },\\n  {\\n    \"source\": \"PubMed Central (PMC)\",\\n    \"title\": \"Aspirin in Cancer Therapy: Pharmacology and Nanotechnology Advances\",\\n    \"authors\": [\\n      \"Umm E Laila\",\\n      \"Zi Lon Zhao\",\\n      \"Huai Liu\",\\n      \"Zhi-Xiang Xu\"\\n    ],\\n    \"journal\": \"International Journal of Nanomedicine\",\\n    \"publication_date\": \"2025-2-23\",\\n    \"abstract\": null,\\n    \"pmcid\": \"\",\\n    \"pmid\": \"40017626\",\\n    \"doi\": [],\\n    \"keywords\": []\\n  },\\n  {\\n    \"source\": \"PubMed Central (PMC)\",\\n    \"title\": \"Aspirin-induced histone acetylation in endothelial cells enhances synthesis of the secreted isoform of netrin-1 thus inhibiting monocyte vascular infiltration\",\\n    \"authors\": [\\n      \"Gabriella Passacquale\",\\n      \"Alkystis Phinikaridou\",\\n      \"Christina Warboys\",\\n      \"Margaret Cooper\",\\n      \"Begona Lavin\",\\n      \"Alessio Alfieri\",\\n      \"Marcelo E Andia\",\\n      \"Rene M Botnar\",\\n      \"Albert Ferro\"\\n    ],\\n    \"journal\": \"British Journal of Pharmacology\",\\n    \"publication_date\": \"2015-7\",\\n    \"abstract\": null,\\n    \"pmcid\": \"\",\\n    \"pmid\": \"25824964\",\\n    \"doi\": [],\\n    \"keywords\": []\\n  },\\n  {\\n    \"source\": \"PubMed Central (PMC)\",\\n    \"title\": \"Chiral Lipidomics of E-Series Resolvins: Aspirin and the Biosynthesis of Novel Mediators\",\\n    \"authors\": [\\n      \"Sungwhan F. Oh\",\\n      \"Thad W. Vickery\",\\n      \"Charles N. Serhan\"\\n    ],\\n    \"journal\": \"Biochimica et biophysica acta\",\\n    \"publication_date\": \"2011-6-16\",\\n    \"abstract\": null,\\n    \"pmcid\": \"\",\\n    \"pmid\": \"21712098\",\\n    \"doi\": [],\\n    \"keywords\": []\\n  },\\n  {\\n    \"source\": \"PubMed Central (PMC)\",\\n    \"title\": \"A Proteomic Approach to Analyze the Aspirin-mediated Lysine Acetylome\",\\n    \"authors\": [\\n      \"Michael H. Tatham\",\\n      \"Christian Cole\",\\n      \"Paul Scullion\",\\n      \"Ross Wilkie\",\\n      \"Nicholas J. Westwood\",\\n      \"Lesley A. Stark\",\\n      \"Ronald T. Hay\"\\n    ],\\n    \"journal\": \"Molecular & Cellular Proteomics : MCP\",\\n    \"publication_date\": \"2017-2\",\\n    \"abstract\": null,\\n    \"pmcid\": \"\",\\n    \"pmid\": \"27913581\",\\n    \"doi\": [],\\n    \"keywords\": []\\n  },\\n  {\\n    \"source\": \"PubMed Central (PMC)\",\\n    \"title\": null,\\n    \"authors\": [\\n      \"Yabin Zhou\",\\n      \"Ganggang Wang\",\\n      \"Yutang Li\",\\n      \"Yang Liu\",\\n      \"Yu Song\",\\n      \"Wenshuai Zheng\",\\n      \"Ning Zhang\",\\n      \"Xiaoyan Hu\",\\n      \"Shikun Yan\",\\n      \"Jihui Jia\"\\n    ],\\n    \"journal\": \"Antimicrobial Agents and Chemotherapy\",\\n    \"publication_date\": \"2012-6\",\\n    \"abstract\": null,\\n    \"pmcid\": \"\",\\n    \"pmid\": \"22391539\",\\n    \"doi\": [],\\n    \"keywords\": []\\n  },\\n  {\\n    \"source\": \"PubMed Central (PMC)\",\\n    \"title\": \"Aspirin modulates generation of procoagulant phospholipids in cardiovascular disease, by regulating LPCAT3\",\\n    \"authors\": [\\n      \"Majd B. Protty\",\\n      \"Victoria J. Tyrrell\",\\n      \"Ali A. Hajeyah\",\\n      \"Bethan Morgan\",\\n      \"Daniela Costa\",\\n      \"Yong Li\",\\n      \"Anirban Choudhury\",\\n      \"Rito Mitra\",\\n      \"David Bosanquet\",\\n      \"Alex Reed\",\\n      \"Iuliia K. Denisenko\",\\n      \"Katsuyuki Nagata\",\\n      \"Hideo Shindou\",\\n      \"Benjamin F. Cravatt\",\\n      \"Alastair W. Poole\",\\n      \"Takao Shimizu\",\\n      \"Zaheer Yousef\",\\n      \"Peter W. Collins\",\\n      \"Valerie B. O\\\\u2019Donnell\"\\n    ],\\n    \"journal\": \"Journal of Lipid Research\",\\n    \"publication_date\": \"2025-1\",\\n    \"abstract\": null,\\n    \"pmcid\": \"\",\\n    \"pmid\": \"39674322\",\\n    \"doi\": [],\\n    \"keywords\": []\\n  },\\n  {\\n    \"source\": \"PubMed Central (PMC)\",\\n    \"title\": \"Aspirin Interacts\\\\nwith Cholesterol-Containing Membranes\\\\nin a pH-Dependent Manner\",\\n    \"authors\": [\\n      \"Michael Krmic\",\\n      \"Escarlin Perez\",\\n      \"Patrick Scollan\",\\n      \"Katherine Ivanchenko\",\\n      \"Alondra Gamez Hernandez\",\\n      \"Joseph Giancaspro\",\\n      \"Juan Rosario\",\\n      \"Jasmin Ceja-Vega\",\\n      \"Jamie Gudyka\",\\n      \"Riley Porteus\",\\n      \"Sunghee Lee\"\\n    ],\\n    \"journal\": \"Langmuir\",\\n    \"publication_date\": \"2023-11-08\",\\n    \"abstract\": null,\\n    \"pmcid\": \"\",\\n    \"pmid\": \"37939382\",\\n    \"doi\": [],\\n    \"keywords\": []\\n  },\\n  {\\n    \"source\": \"PubMed Central (PMC)\",\\n    \"title\": \"Hypopituitarism in \",\\n    \"authors\": [\\n      \"Christophe Galichet\",\\n      \"Karine Rizzoti\",\\n      \"Robin Lovell-Badge\",\\n      \"Bruce A. Hamilton\",\\n      \"Hua Tang\",\\n      \"Bruce A. Hamilton\",\\n      \"Hua Tang\",\\n      \"Bruce A. Hamilton\",\\n      \"Hua Tang\",\\n      \"Bruce A. Hamilton\",\\n      \"Hua Tang\"\\n    ],\\n    \"journal\": \"PLOS Genetics\",\\n    \"publication_date\": \"2024-9-26\",\\n    \"abstract\": null,\\n    \"pmcid\": \"\",\\n    \"pmid\": \"39325695\",\\n    \"doi\": [],\\n    \"keywords\": []\\n  },\\n  {\\n    \"source\": \"PubMed Central (PMC)\",\\n    \"title\": \"Modulating mechanical and shape-memory properties while mitigating degradation-induced inflammation of polylactides by pendant aspirin incorporation\",\\n    \"authors\": [\\n      \"Xiaowen Xu\",\\n      \"Jing Zhang\",\\n      \"Tera M. Filion\",\\n      \"Ali Akalin\",\\n      \"Jie Song\"\\n    ],\\n    \"journal\": \"ACS applied materials & interfaces\",\\n    \"publication_date\": \"2021-5-06\",\\n    \"abstract\": null,\\n    \"pmcid\": \"\",\\n    \"pmid\": \"33956420\",\\n    \"doi\": [],\\n    \"keywords\": []\\n  },\\n  {\\n    \"source\": \"PubMed Central (PMC)\",\\n    \"title\": \"Treatment effects of Shilajit on aspirin\\\\u2010induced gastric lesions in rats\",\\n    \"authors\": [\\n      \"Naghmeh Ghasemkhani\",\\n      \"Aidin Shojaee Tabrizi\",\\n      \"Fatemeh Namazi\",\\n      \"Saeed Nazifi\"\\n    ],\\n    \"journal\": \"Physiological Reports\",\\n    \"publication_date\": \"2021-4-04\",\\n    \"abstract\": null,\\n    \"pmcid\": \"\",\\n    \"pmid\": \"33818003\",\\n    \"doi\": [],\\n    \"keywords\": []\\n  }\\n]'"
      ]
     },
     "execution_count": 27,
     "metadata": {},
     "output_type": "execute_result"
    }
   ],
   "source": [
    "tool = MedicalWebSearchTool()\n",
    "result = tool.invoke({\"query\": \"Give me the composition of Aspirin\"})\n",
    "result"
   ]
  },
  {
   "cell_type": "markdown",
   "id": "fc2bd3a0",
   "metadata": {},
   "source": [
    "#### Drug Tool(For Future Implementation)"
   ]
  },
  {
   "cell_type": "markdown",
   "id": "6bfa73a8",
   "metadata": {},
   "source": [
    "##### Test"
   ]
  },
  {
   "cell_type": "code",
   "execution_count": 28,
   "id": "1d8428b1",
   "metadata": {},
   "outputs": [],
   "source": [
    "# !pip install rdkit"
   ]
  },
  {
   "cell_type": "code",
   "execution_count": 29,
   "id": "7f144f23",
   "metadata": {},
   "outputs": [],
   "source": [
    "from rdkit import Chem\n",
    "from rdkit.Chem import Descriptors, rdMolDescriptors"
   ]
  },
  {
   "cell_type": "code",
   "execution_count": 30,
   "id": "ef1384f3",
   "metadata": {},
   "outputs": [],
   "source": [
    "def calculate_lipinski_violations(mol) -> int:\n",
    "    \"\"\"Calculate Lipinski Rule of Five violations\"\"\"\n",
    "    violations = 0\n",
    "    mw = Descriptors.MolWt(mol)\n",
    "    logp = Descriptors.MolLogP(mol)\n",
    "    hbd = Descriptors.NumHDonors(mol)\n",
    "    hba = Descriptors.NumHAcceptors(mol)\n",
    "    \n",
    "    if mw > 500: violations += 1\n",
    "    if logp > 5: violations += 1\n",
    "    if hbd > 5: violations += 1\n",
    "    if hba > 10: violations += 1\n",
    "    \n",
    "    return violations"
   ]
  },
  {
   "cell_type": "code",
   "execution_count": 31,
   "id": "edf5b3e1",
   "metadata": {},
   "outputs": [],
   "source": [
    "def calculate_veber_violations(mol) -> int:\n",
    "    \"\"\"Calculate Veber rule violations\"\"\"\n",
    "    violations = 0\n",
    "    rotatable_bonds = Descriptors.NumRotatableBonds(mol)\n",
    "    tpsa = Descriptors.TPSA(mol)\n",
    "    \n",
    "    if rotatable_bonds > 10: violations += 1\n",
    "    if tpsa > 140: violations += 1\n",
    "    \n",
    "    return violations"
   ]
  },
  {
   "cell_type": "code",
   "execution_count": 32,
   "id": "ca8aa570",
   "metadata": {},
   "outputs": [
    {
     "data": {
      "text/plain": [
       "{'molecular_weight': 46.069,\n",
       " 'logp': -0.0014000000000000123,\n",
       " 'hbd': 1,\n",
       " 'hba': 1,\n",
       " 'tpsa': 20.23,\n",
       " 'rotatable_bonds': 0,\n",
       " 'aromatic_rings': 0,\n",
       " 'lipinski_violations': 0,\n",
       " 'veber_violations': 0}"
      ]
     },
     "execution_count": 32,
     "metadata": {},
     "output_type": "execute_result"
    }
   ],
   "source": [
    "mol = Chem.MolFromSmiles(\"CCO\")\n",
    "\n",
    "properties = {\n",
    "    \"molecular_weight\": Descriptors.MolWt(mol),\n",
    "    \"logp\": Descriptors.MolLogP(mol),\n",
    "    \"hbd\": Descriptors.NumHDonors(mol),\n",
    "    \"hba\": Descriptors.NumHAcceptors(mol),\n",
    "    \"tpsa\": Descriptors.TPSA(mol),\n",
    "    \"rotatable_bonds\": Descriptors.NumRotatableBonds(mol),\n",
    "    \"aromatic_rings\": Descriptors.NumAromaticRings(mol),\n",
    "    \"lipinski_violations\": calculate_lipinski_violations(mol),\n",
    "    \"veber_violations\": calculate_veber_violations(mol)\n",
    "}\n",
    "\n",
    "properties"
   ]
  },
  {
   "cell_type": "code",
   "execution_count": 33,
   "id": "6fa3140d",
   "metadata": {},
   "outputs": [],
   "source": [
    "# !pip install pubchempy"
   ]
  },
  {
   "cell_type": "code",
   "execution_count": 34,
   "id": "a33a24fb",
   "metadata": {},
   "outputs": [],
   "source": [
    "import pubchempy as pcp"
   ]
  },
  {
   "cell_type": "code",
   "execution_count": 35,
   "id": "fb87663f",
   "metadata": {},
   "outputs": [
    {
     "data": {
      "text/plain": [
       "[{'cid': 1983,\n",
       "  'iupac_name': 'N-(4-hydroxyphenyl)acetamide',\n",
       "  'molecular_formula': 'C8H9NO2',\n",
       "  'molecular_weight': '151.16',\n",
       "  'smiles': None,\n",
       "  'inchi': 'InChI=1S/C8H9NO2/c1-6(10)9-7-2-4-8(11)5-3-7/h2-5,11H,1H3,(H,9,10)',\n",
       "  'synonyms': ['acetaminophen',\n",
       "   'Paracetamol',\n",
       "   '103-90-2',\n",
       "   'Doliprane',\n",
       "   'Injectapap']}]"
      ]
     },
     "execution_count": 35,
     "metadata": {},
     "output_type": "execute_result"
    }
   ],
   "source": [
    "compounds = pcp.get_compounds(\"paracetamol\", 'name', listkey_count=10)\n",
    "results = []\n",
    "\n",
    "for compound in compounds:\n",
    "    results.append({\n",
    "        \"cid\": compound.cid,\n",
    "        \"iupac_name\": compound.iupac_name,\n",
    "        \"molecular_formula\": compound.molecular_formula,\n",
    "        \"molecular_weight\": compound.molecular_weight,\n",
    "        \"smiles\": compound.canonical_smiles,\n",
    "        \"inchi\": compound.inchi,\n",
    "        \"synonyms\": compound.synonyms[:5] if compound.synonyms else []\n",
    "    })\n",
    "\n",
    "results"
   ]
  },
  {
   "cell_type": "markdown",
   "id": "365706fe",
   "metadata": {},
   "source": [
    "##### Actual"
   ]
  },
  {
   "cell_type": "code",
   "execution_count": 36,
   "id": "111170ee",
   "metadata": {},
   "outputs": [],
   "source": [
    "class DrugTool(BaseTool):\n",
    "    \"\"\"Tool for drug discovery and molecular analysis\"\"\"\n",
    "    \n",
    "    name: str = \"drug_discovery\"\n",
    "    description: str = \"\"\"\n",
    "    Analyze molecular structures, predict drug properties, and search chemical databases.\n",
    "    Includes ADMET prediction, similarity search, and pharmacophore analysis.\n",
    "    \"\"\"\n",
    "\n",
    "    def _run(self, query: str, analysis_type: str = \"properties\") -> str:\n",
    "        \"\"\"Execute drug discovery analysis\"\"\"\n",
    "        try:\n",
    "            if analysis_type == \"properties\":\n",
    "                return self._analyze_molecular_properties(query)\n",
    "            ## Future development\n",
    "            # elif analysis_type == \"similarity\":\n",
    "            #     return self._similarity_search(query)\n",
    "            # elif analysis_type == \"admet\":\n",
    "            #     return self._predict_admet(query)\n",
    "            elif analysis_type == \"pubchem\":\n",
    "                return self._search_pubchem(query)\n",
    "                \n",
    "        except Exception as e:\n",
    "            print(f\"Drug discovery error: {e}\")\n",
    "            raise f\"Error in drug discovery analysis: {str(e)}\"\n",
    "    \n",
    "    def _analyze_molecular_properties(self, smiles: str) -> str:\n",
    "        \"\"\"Analyze molecular properties from SMILES(Simplified Molecular Input Line Entry System)\"\"\"\n",
    "        try:\n",
    "            mol = Chem.MolFromSmiles(smiles)\n",
    "            if mol is None:\n",
    "                return \"Invalid SMILES string\"\n",
    "            \n",
    "            properties = {\n",
    "                \"molecular_weight\": Descriptors.MolWt(mol),\n",
    "                \"logp\": Descriptors.MolLogP(mol),\n",
    "                \"hbd\": Descriptors.NumHDonors(mol),\n",
    "                \"hba\": Descriptors.NumHAcceptors(mol),\n",
    "                \"tpsa\": Descriptors.TPSA(mol),\n",
    "                \"rotatable_bonds\": Descriptors.NumRotatableBonds(mol),\n",
    "                \"aromatic_rings\": Descriptors.NumAromaticRings(mol),\n",
    "                \"lipinski_violations\": self._calculate_lipinski_violations(mol),\n",
    "                \"veber_violations\": self._calculate_veber_violations(mol)\n",
    "            }\n",
    "            \n",
    "            return json.dumps(properties, indent=2)\n",
    "            \n",
    "        except Exception as e:\n",
    "            print(f\"Molecular properties error: {e}\")\n",
    "            raise f\"Error cin fetching molecular properties: {str(e)}\"\n",
    "    \n",
    "    def _calculate_lipinski_violations(self, mol) -> int:\n",
    "        \"\"\"Calculate Lipinski Rule of Five violations\"\"\"\n",
    "        violations = 0\n",
    "        mw = Descriptors.MolWt(mol)\n",
    "        logp = Descriptors.MolLogP(mol)\n",
    "        hbd = Descriptors.NumHDonors(mol)\n",
    "        hba = Descriptors.NumHAcceptors(mol)\n",
    "        \n",
    "        if mw > 500: violations += 1\n",
    "        if logp > 5: violations += 1\n",
    "        if hbd > 5: violations += 1\n",
    "        if hba > 10: violations += 1\n",
    "        \n",
    "        return violations\n",
    "    \n",
    "    \n",
    "    def _calculate_veber_violations(self, mol) -> int:\n",
    "        \"\"\"Calculate Veber rule violations\"\"\"\n",
    "        violations = 0\n",
    "        rotatable_bonds = Descriptors.NumRotatableBonds(mol)\n",
    "        tpsa = Descriptors.TPSA(mol)\n",
    "        \n",
    "        if rotatable_bonds > 10: violations += 1\n",
    "        if tpsa > 140: violations += 1\n",
    "        \n",
    "        return violations\n",
    "    \n",
    "    def _search_pubchem(self, query: str) -> str:\n",
    "        \"\"\"Search PubChem database\"\"\"\n",
    "        try:\n",
    "            compounds = pcp.get_compounds(query, 'name', listkey_count=10)\n",
    "            results = []\n",
    "            \n",
    "            for compound in compounds:\n",
    "                results.append({\n",
    "                    \"cid\": compound.cid,\n",
    "                    \"iupac_name\": compound.iupac_name,\n",
    "                    \"molecular_formula\": compound.molecular_formula,\n",
    "                    \"molecular_weight\": compound.molecular_weight,\n",
    "                    \"smiles\": compound.canonical_smiles,\n",
    "                    \"inchi\": compound.inchi,\n",
    "                    \"synonyms\": compound.synonyms[:5] if compound.synonyms else []\n",
    "                })\n",
    "            \n",
    "            return json.dumps(results, indent=2)\n",
    "            \n",
    "        except Exception as e:\n",
    "            print(f\"PubChem search error: {e}\")\n",
    "            raise f\"Error searching PubChem: {str(e)}\""
   ]
  },
  {
   "cell_type": "code",
   "execution_count": 37,
   "id": "bc943ccb",
   "metadata": {},
   "outputs": [
    {
     "data": {
      "text/plain": [
       "'[\\n  {\\n    \"cid\": 446195,\\n    \"iupac_name\": \"2-[[3-(3-chlorophenyl)-1,2,4-oxadiazol-5-yl]sulfanyl]acetic acid\",\\n    \"molecular_formula\": \"C10H7ClN2O3S\",\\n    \"molecular_weight\": \"270.69\",\\n    \"smiles\": null,\\n    \"inchi\": \"InChI=1S/C10H7ClN2O3S/c11-7-3-1-2-6(4-7)9-12-10(16-13-9)17-5-8(14)15/h1-4H,5H2,(H,14,15)\",\\n    \"synonyms\": [\\n      \"338746-11-5\",\\n      \"2-{[3-(3-chlorophenyl)-1,2,4-oxadiazol-5-yl]sulfanyl}acetic acid\",\\n      \"CARBOXYMETHYLTHIO-3-(3-CHLOROPHENYL)-1,2,4-OXADIAZOL\",\\n      \"2-[[3-(3-chlorophenyl)-1,2,4-oxadiazol-5-yl]sulfanyl]acetic acid\",\\n      \"2-((3-(3-chlorophenyl)-1,2,4-oxadiazol-5-yl)sulfanyl)acetic acid\"\\n    ]\\n  }\\n]'"
      ]
     },
     "execution_count": 37,
     "metadata": {},
     "output_type": "execute_result"
    }
   ],
   "source": [
    "drug_tool = DrugTool()\n",
    "result = drug_tool.invoke({\"query\":\"CCO\", \"analysis_type\":\"pubchem\"})\n",
    "result"
   ]
  },
  {
   "cell_type": "code",
   "execution_count": 38,
   "id": "1a05cc9e",
   "metadata": {},
   "outputs": [
    {
     "data": {
      "text/plain": [
       "'{\\n  \"molecular_weight\": 46.069,\\n  \"logp\": -0.0014000000000000123,\\n  \"hbd\": 1,\\n  \"hba\": 1,\\n  \"tpsa\": 20.23,\\n  \"rotatable_bonds\": 0,\\n  \"aromatic_rings\": 0,\\n  \"lipinski_violations\": 0,\\n  \"veber_violations\": 0\\n}'"
      ]
     },
     "execution_count": 38,
     "metadata": {},
     "output_type": "execute_result"
    }
   ],
   "source": [
    "result = drug_tool.invoke({\"query\":\"CCO\"})\n",
    "result"
   ]
  },
  {
   "cell_type": "code",
   "execution_count": 39,
   "id": "2790d64d",
   "metadata": {},
   "outputs": [
    {
     "data": {
      "text/plain": [
       "AIMessage(content='', additional_kwargs={'tool_calls': [{'id': 'call_bKGmQQD12MOxCYDEBjNmyckQ', 'function': {'arguments': '{\"query\": \"paracetamol\", \"search_type\": \"pubmed\"}', 'name': 'medical_web_search'}, 'type': 'function'}, {'id': 'call_S7lcf1GyS4WeeRIqL8KNjC88', 'function': {'arguments': '{\"query\": \"paracetamol\", \"analysis_type\": \"properties\"}', 'name': 'drug_discovery'}, 'type': 'function'}], 'refusal': None}, response_metadata={'token_usage': {'completion_tokens': 63, 'prompt_tokens': 134, 'total_tokens': 197, 'completion_tokens_details': {'accepted_prediction_tokens': 0, 'audio_tokens': 0, 'reasoning_tokens': 0, 'rejected_prediction_tokens': 0}, 'prompt_tokens_details': {'audio_tokens': 0, 'cached_tokens': 0}}, 'model_name': 'gpt-4o-2024-08-06', 'system_fingerprint': 'fp_a288987b44', 'id': 'chatcmpl-BpcvQI3Ii9ee0aaJmZemXkeYrx4iV', 'service_tier': 'default', 'finish_reason': 'tool_calls', 'logprobs': None}, id='run--c71213ad-ae2b-43a4-b491-a9545773bc37-0', tool_calls=[{'name': 'medical_web_search', 'args': {'query': 'paracetamol', 'search_type': 'pubmed'}, 'id': 'call_bKGmQQD12MOxCYDEBjNmyckQ', 'type': 'tool_call'}, {'name': 'drug_discovery', 'args': {'query': 'paracetamol', 'analysis_type': 'properties'}, 'id': 'call_S7lcf1GyS4WeeRIqL8KNjC88', 'type': 'tool_call'}], usage_metadata={'input_tokens': 134, 'output_tokens': 63, 'total_tokens': 197, 'input_token_details': {'audio': 0, 'cache_read': 0}, 'output_token_details': {'audio': 0, 'reasoning': 0}})"
      ]
     },
     "execution_count": 39,
     "metadata": {},
     "output_type": "execute_result"
    }
   ],
   "source": [
    "med_web_tool = MedicalWebSearchTool()\n",
    "drug_tool = DrugTool()\n",
    "llm.bind_tools([med_web_tool, drug_tool]).invoke(\"paracetamol\")"
   ]
  },
  {
   "cell_type": "markdown",
   "id": "13583206",
   "metadata": {},
   "source": [
    "#### Bio Informatics Tool(For Future Implementation)"
   ]
  },
  {
   "cell_type": "markdown",
   "id": "ff4f058b",
   "metadata": {},
   "source": [
    "##### Test"
   ]
  },
  {
   "cell_type": "code",
   "execution_count": null,
   "id": "37d035e1",
   "metadata": {},
   "outputs": [],
   "source": []
  },
  {
   "cell_type": "markdown",
   "id": "74535459",
   "metadata": {},
   "source": [
    "##### Actual"
   ]
  },
  {
   "cell_type": "code",
   "execution_count": 40,
   "id": "96f9dc87",
   "metadata": {},
   "outputs": [],
   "source": [
    "class BioinformaticsTool(BaseTool):\n",
    "    \"\"\"Tool for bioinformatics analysis\"\"\"\n",
    "    \n",
    "    name: str = \"bioinformatics\"\n",
    "    description: str = \"\"\"\n",
    "    Perform bioinformatics analysis including sequence analysis, protein structure\n",
    "    prediction, pathway analysis, and genomic data interpretation.\n",
    "    \"\"\"\n",
    "    \n",
    "    def _run(self, query: str, analysis_type: str = \"sequence\") -> str:\n",
    "        \"\"\"Execute bioinformatics analysis\"\"\"\n",
    "        try:\n",
    "            if analysis_type == \"sequence\":\n",
    "                return self._sequence_analysis(query)\n",
    "            # Future enhancements\n",
    "            elif analysis_type == \"protein\":\n",
    "                return self._protein_analysis(query)\n",
    "            elif analysis_type == \"pathway\":\n",
    "                return self._pathway_analysis(query)\n",
    "            elif analysis_type == \"genomics\":\n",
    "                return self._genomics_analysis(query)\n",
    "                \n",
    "        except Exception as e:\n",
    "            print(f\"Bioinformatics error: {e}\")\n",
    "            raise f\"Error in bioinformatics analysis: {str(e)}\""
   ]
  },
  {
   "cell_type": "markdown",
   "id": "46df44a0",
   "metadata": {},
   "source": [
    "### Finance Tool"
   ]
  },
  {
   "cell_type": "code",
   "execution_count": 65,
   "id": "8c060cd3",
   "metadata": {},
   "outputs": [
    {
     "data": {
      "text/plain": [
       "\"Bear of the Day: The Container Store Group, Inc. (TCS)\\nThe Container Store Group's recent drop is part of a massive long-term decline that was only interrupted a few times.\\n\\nTCS Q2 Earnings Miss Estimates, New Partnership With Beyond\\nThe Container Store's fiscal Q2 results reflect continued sequential improvement, paving the way for long-term opportunities from its new partnership with Beyond, Inc.\""
      ]
     },
     "execution_count": 65,
     "metadata": {},
     "output_type": "execute_result"
    }
   ],
   "source": [
    "from langchain_community.tools.yahoo_finance_news import YahooFinanceNewsTool\n",
    "yahoo_finance_tool = YahooFinanceNewsTool()\n",
    "yahoo_finance_tool.invoke(\"TCS\")"
   ]
  },
  {
   "cell_type": "code",
   "execution_count": 73,
   "id": "391cf34b",
   "metadata": {},
   "outputs": [],
   "source": [
    "# !pip install google-search-results"
   ]
  },
  {
   "cell_type": "code",
   "execution_count": 72,
   "id": "05ffbaaa",
   "metadata": {},
   "outputs": [
    {
     "data": {
      "text/plain": [
       "'\\nQuery: Give me the company info of SBIN\\nNo summary information\\neurope: price = 23787.45, movement = Down\\nasia: price = 39810.88, movement = Up\\n'"
      ]
     },
     "execution_count": 72,
     "metadata": {},
     "output_type": "execute_result"
    }
   ],
   "source": [
    "from langchain_community.tools.google_finance import GoogleFinanceQueryRun\n",
    "from langchain_community.utilities.google_finance import GoogleFinanceAPIWrapper\n",
    "\n",
    "google_finance_tool = GoogleFinanceQueryRun(api_wrapper=GoogleFinanceAPIWrapper(serp_api_key=\"cdf009c33c4cb3f472c7cef9b98212c90abb9f76f8ede5ec5c8c5ebb2c79395e\"))\n",
    "google_finance_tool.invoke(\"Give me the company info of SBIN\")"
   ]
  },
  {
   "cell_type": "code",
   "execution_count": 74,
   "id": "87698eeb",
   "metadata": {},
   "outputs": [],
   "source": [
    "# Queries like a company information, or financial news requires some more specialized tool. Enhancement for future"
   ]
  },
  {
   "cell_type": "markdown",
   "id": "12a2bbbe",
   "metadata": {},
   "source": [
    "#### Stock Data Tool"
   ]
  },
  {
   "cell_type": "code",
   "execution_count": 41,
   "id": "64492011",
   "metadata": {},
   "outputs": [],
   "source": [
    "# !pip install yfinance"
   ]
  },
  {
   "cell_type": "code",
   "execution_count": 42,
   "id": "ec32e359",
   "metadata": {},
   "outputs": [],
   "source": [
    "class StockDataTool(BaseTool):\n",
    "    name: str = \"stock_data_tool\"\n",
    "    description: str = \"Fetch comprehensive stock data including price history, volume, and technical indicators\"\n",
    "    # args_schema = StockDataInput\n",
    "    def _run(self, symbol: str, period: str = \"1y\", interval: str = \"1d\") -> str:\n",
    "        try:\n",
    "            ticker = yf.Ticker(symbol)\n",
    "            hist = ticker.history(period=period, interval=interval)\n",
    "            \n",
    "            if hist.empty:\n",
    "                return f\"No data found for symbol: {symbol}\"\n",
    "            \n",
    "            # Calculate technical indicators\n",
    "            hist['SMA_20'] = hist['Close'].rolling(window=20).mean()\n",
    "            hist['SMA_50'] = hist['Close'].rolling(window=50).mean()\n",
    "            \n",
    "            # Get current price and stats\n",
    "            current_price = hist['Close'].iloc[-1]\n",
    "            price_change = hist['Close'].iloc[-1] - hist['Close'].iloc[-2]\n",
    "            price_change_pct = (price_change / hist['Close'].iloc[-2]) * 100\n",
    "            \n",
    "            # Volume analysis\n",
    "            avg_volume = hist['Volume'].mean()\n",
    "            current_volume = hist['Volume'].iloc[-1]\n",
    "            \n",
    "            result = {\n",
    "                \"symbol\": symbol,\n",
    "                \"current_price\": round(current_price, 2),\n",
    "                \"price_change\": round(price_change, 2),\n",
    "                \"price_change_percent\": round(price_change_pct, 2),\n",
    "                \"volume\": int(current_volume),\n",
    "                \"average_volume\": int(avg_volume),\n",
    "                \"52_week_high\": round(hist['High'].max(), 2),\n",
    "                \"52_week_low\": round(hist['Low'].min(), 2),\n",
    "                \"sma_20\": round(hist['SMA_20'].iloc[-1], 2) if not pd.isna(hist['SMA_20'].iloc[-1]) else None,\n",
    "                \"sma_50\": round(hist['SMA_50'].iloc[-1], 2) if not pd.isna(hist['SMA_50'].iloc[-1]) else None,\n",
    "                \"data_points\": len(hist)\n",
    "            }\n",
    "            \n",
    "            return json.dumps(result, indent=2)\n",
    "            \n",
    "        except Exception as e:\n",
    "            return f\"Error fetching stock data for {symbol}: {str(e)}\""
   ]
  },
  {
   "cell_type": "code",
   "execution_count": 43,
   "id": "32bb29c7",
   "metadata": {},
   "outputs": [
    {
     "data": {
      "text/plain": [
       "'{\\n  \"symbol\": \"SBIN.NS\",\\n  \"current_price\": 811.85,\\n  \"price_change\": 4.75,\\n  \"price_change_percent\": 0.59,\\n  \"volume\": 4317408,\\n  \"average_volume\": 12861093,\\n  \"52_week_high\": 881.3,\\n  \"52_week_low\": 666.61,\\n  \"sma_20\": 803.45,\\n  \"sma_50\": 794.87,\\n  \"data_points\": 250\\n}'"
      ]
     },
     "execution_count": 43,
     "metadata": {},
     "output_type": "execute_result"
    }
   ],
   "source": [
    "stock_tool = StockDataTool()\n",
    "stock_tool.invoke({\"symbol\":\"SBIN.NS\"})"
   ]
  },
  {
   "cell_type": "markdown",
   "id": "b7157c77",
   "metadata": {},
   "source": [
    "#### Company Info Tool"
   ]
  },
  {
   "cell_type": "code",
   "execution_count": 44,
   "id": "ab0c4c97",
   "metadata": {},
   "outputs": [],
   "source": [
    "class CompanyInfoTool(BaseTool):\n",
    "    name: str = \"company_info_tool\"\n",
    "    description: str = \"Get detailed company information including business summary, financial metrics, and key statistics\"\n",
    "    # args_schema = CompanyInfoInput\n",
    "    \n",
    "    def _run(self, symbol: str) -> str:\n",
    "        try:\n",
    "            ticker = yf.Ticker(symbol)\n",
    "            info = ticker.info\n",
    "            \n",
    "            # Extract key information\n",
    "            company_info = {\n",
    "                \"symbol\": symbol,\n",
    "                \"company_name\": info.get(\"longName\", \"N/A\"),\n",
    "                \"sector\": info.get(\"sector\", \"N/A\"),\n",
    "                \"industry\": info.get(\"industry\", \"N/A\"),\n",
    "                \"business_summary\": info.get(\"longBusinessSummary\", \"N/A\")[:500] + \"...\" if len(info.get(\"longBusinessSummary\", \"\")) > 500 else info.get(\"longBusinessSummary\", \"N/A\"),\n",
    "                \"market_cap\": info.get(\"marketCap\", \"N/A\"),\n",
    "                \"enterprise_value\": info.get(\"enterpriseValue\", \"N/A\"),\n",
    "                \"pe_ratio\": info.get(\"trailingPE\", \"N/A\"),\n",
    "                \"forward_pe\": info.get(\"forwardPE\", \"N/A\"),\n",
    "                \"price_to_book\": info.get(\"priceToBook\", \"N/A\"),\n",
    "                \"debt_to_equity\": info.get(\"debtToEquity\", \"N/A\"),\n",
    "                \"return_on_equity\": info.get(\"returnOnEquity\", \"N/A\"),\n",
    "                \"revenue\": info.get(\"totalRevenue\", \"N/A\"),\n",
    "                \"profit_margin\": info.get(\"profitMargins\", \"N/A\"),\n",
    "                \"dividend_yield\": info.get(\"dividendYield\", \"N/A\"),\n",
    "                \"beta\": info.get(\"beta\", \"N/A\"),\n",
    "                \"52_week_high\": info.get(\"fiftyTwoWeekHigh\", \"N/A\"),\n",
    "                \"52_week_low\": info.get(\"fiftyTwoWeekLow\", \"N/A\"),\n",
    "                \"employees\": info.get(\"fullTimeEmployees\", \"N/A\"),\n",
    "                \"website\": info.get(\"website\", \"N/A\")\n",
    "            }\n",
    "            \n",
    "            return json.dumps(company_info, indent=2)\n",
    "            \n",
    "        except Exception as e:\n",
    "            return f\"Error fetching company info for {symbol}: {str(e)}\""
   ]
  },
  {
   "cell_type": "code",
   "execution_count": 45,
   "id": "d83f6efe",
   "metadata": {},
   "outputs": [
    {
     "name": "stdout",
     "output_type": "stream",
     "text": [
      "('{\\n'\n",
      " '  \"symbol\": \"SBIN.NS\",\\n'\n",
      " '  \"company_name\": \"State Bank of India\",\\n'\n",
      " '  \"sector\": \"Financial Services\",\\n'\n",
      " '  \"industry\": \"Banks - Regional\",\\n'\n",
      " '  \"business_summary\": \"State Bank of India provides banking products and '\n",
      " 'services in India and internationally. It operates through the Treasury, '\n",
      " 'Corporate/Wholesale Banking, Retail Banking, and Other Banking Business '\n",
      " 'segments. The company offers personal banking products and services, '\n",
      " 'including current, savings, salary, and deposit accounts; home, personal, '\n",
      " 'pension, auto, education, and gold loans, as well as loans against insurance '\n",
      " 'policies, property, and securities; debit, business debit, prepaid, and '\n",
      " 'green remit c...\",\\n'\n",
      " '  \"market_cap\": 7245452541952,\\n'\n",
      " '  \"enterprise_value\": 12142308753408,\\n'\n",
      " '  \"pe_ratio\": 9.340198,\\n'\n",
      " '  \"forward_pe\": 9.82037,\\n'\n",
      " '  \"price_to_book\": 1.4877903,\\n'\n",
      " '  \"debt_to_equity\": \"N/A\",\\n'\n",
      " '  \"return_on_equity\": 0.17212999,\\n'\n",
      " '  \"revenue\": 3429388255232,\\n'\n",
      " '  \"profit_margin\": 0.22617,\\n'\n",
      " '  \"dividend_yield\": 1.94,\\n'\n",
      " '  \"beta\": 0.521,\\n'\n",
      " '  \"52_week_high\": 899.0,\\n'\n",
      " '  \"52_week_low\": 680.0,\\n'\n",
      " '  \"employees\": 236226,\\n'\n",
      " '  \"website\": \"https://www.sbi.co.in\"\\n'\n",
      " '}')\n"
     ]
    }
   ],
   "source": [
    "from pprint import pprint\n",
    "company_info_tool = CompanyInfoTool()\n",
    "result = company_info_tool.invoke({\"symbol\":\"SBIN.NS\"})\n",
    "pprint(result)"
   ]
  },
  {
   "cell_type": "markdown",
   "id": "486ebeb8",
   "metadata": {},
   "source": [
    "#### Financial News Tool"
   ]
  },
  {
   "cell_type": "code",
   "execution_count": 46,
   "id": "3f4ac477",
   "metadata": {},
   "outputs": [],
   "source": [
    "### Future integration, need enhancement"
   ]
  },
  {
   "cell_type": "code",
   "execution_count": 47,
   "id": "f1e99277",
   "metadata": {},
   "outputs": [],
   "source": [
    "class FinancialNewsTool(BaseTool):\n",
    "    name: str = \"financial_news_tool\"\n",
    "    description: str = \"Search for recent financial news and market updates\"\n",
    "    # args_schema = FinancialNewsInput\n",
    "    \n",
    "    def _run(self, query: str, limit: int = 10) -> str:\n",
    "        try:\n",
    "            # Using NewsAPI (you'll need to get a free API key)\n",
    "            # For demo purposes, we'll use a placeholder implementation\n",
    "            # In production, integrate with NewsAPI, Alpha Vantage, or similar\n",
    "            \n",
    "            # Placeholder implementation using Yahoo Finance news\n",
    "            news_results = []\n",
    "            \n",
    "            # Try to get news for specific symbols if they appear in query\n",
    "            potential_symbols = [word.upper() for word in query.split() if len(word) <= 5 and word.isalpha()]\n",
    "            \n",
    "            for symbol in potential_symbols[:3]:  # Limit to 3 symbols\n",
    "                try:\n",
    "                    ticker = yf.Ticker(symbol)\n",
    "                    news = ticker.news[:limit//len(potential_symbols) if potential_symbols else limit]\n",
    "                    \n",
    "                    for article in news:\n",
    "                        news_results.append({\n",
    "                            \"title\": article.get(\"title\", \"N/A\"),\n",
    "                            \"publisher\": article.get(\"publisher\", \"N/A\"),\n",
    "                            \"link\": article.get(\"link\", \"N/A\"),\n",
    "                            \"published\": datetime.fromtimestamp(article.get(\"providerPublishTime\", 0)).strftime(\"%Y-%m-%d %H:%M:%S\") if article.get(\"providerPublishTime\") else \"N/A\",\n",
    "                            \"summary\": article.get(\"summary\", \"N/A\")[:200] + \"...\" if len(article.get(\"summary\", \"\")) > 200 else article.get(\"summary\", \"N/A\")\n",
    "                        })\n",
    "                except:\n",
    "                    continue\n",
    "            \n",
    "            if not news_results:\n",
    "                return f\"No news found for query: {query}\"\n",
    "            \n",
    "            return json.dumps(news_results[:limit], indent=2)\n",
    "            \n",
    "        except Exception as e:\n",
    "            return f\"Error fetching financial news: {str(e)}\""
   ]
  },
  {
   "cell_type": "code",
   "execution_count": 48,
   "id": "fde70f09",
   "metadata": {},
   "outputs": [],
   "source": [
    "import os\n",
    "class FinancialNewsTool(BaseTool):\n",
    "    name: str = \"financial_news_tool\"\n",
    "    description: str = \"Search for recent financial news and market updates using Alpha Vantage, Yahoo Finance, and NewsAPI\"\n",
    "    # args_schema = FinancialNewsInput\n",
    "\n",
    "    alpha_vantage_api_key: str\n",
    "    newsapi_key: Optional[str] = None  # Optional key for NewsAPI\n",
    "\n",
    "    def _run(self, query: str, limit: int = 10) -> str:\n",
    "        try:\n",
    "            news_results = []\n",
    "\n",
    "            # Extract potential tickers from query\n",
    "            potential_symbols = [word.upper() for word in query.split() if len(word) <= 5 and word.isalpha()]\n",
    "\n",
    "            if not potential_symbols:\n",
    "                return \"No valid ticker symbols found in the query.\"\n",
    "\n",
    "            # Try each source sequentially\n",
    "            for symbol in potential_symbols[:3]:\n",
    "                ticker = yf.Ticker(symbol)\n",
    "                news_results.extend(self._fetch_alpha_vantage_news(ticker, limit // len(potential_symbols)))\n",
    "\n",
    "                if len(news_results) < limit:\n",
    "                    news_results.extend(self._fetch_yahoo_finance_news(ticker, limit // len(potential_symbols)))\n",
    "\n",
    "                if self.newsapi_key and len(news_results) < limit:\n",
    "                    news_results.extend(self._fetch_newsapi_news(ticker, limit // len(potential_symbols)))\n",
    "\n",
    "            if not news_results:\n",
    "                return f\"No news found for query: {query}\"\n",
    "\n",
    "            return json.dumps(news_results[:limit], indent=2)\n",
    "\n",
    "        except Exception as e:\n",
    "            return f\"Error fetching financial news: {str(e)}\"\n",
    "\n",
    "    def _fetch_alpha_vantage_news(self, symbol: str, limit: int) -> List[Dict]:\n",
    "        try:\n",
    "            url = \"https://www.alphavantage.co/query\"\n",
    "            params = {\n",
    "                \"function\": \"NEWS_SENTIMENT\",\n",
    "                \"tickers\": symbol,\n",
    "                \"apikey\": self.alpha_vantage_api_key\n",
    "            }\n",
    "\n",
    "            response = requests.get(url, params=params)\n",
    "            if response.status_code != 200:\n",
    "                return []\n",
    "\n",
    "            data = response.json()\n",
    "            if \"feed\" not in data or not data[\"feed\"]:\n",
    "                return []\n",
    "\n",
    "            articles = []\n",
    "            for article in data[\"feed\"][:limit]:\n",
    "                articles.append({\n",
    "                    \"source\": \"Alpha Vantage\",\n",
    "                    \"title\": article.get(\"title\", \"N/A\"),\n",
    "                    \"publisher\": article.get(\"source\", \"N/A\"),\n",
    "                    \"link\": article.get(\"url\", \"N/A\"),\n",
    "                    \"published\": article.get(\"time_published\", \"N/A\"),\n",
    "                    \"summary\": article.get(\"summary\", \"N/A\")[:200] + \"...\" if len(article.get(\"summary\", \"\")) > 200 else article.get(\"summary\", \"N/A\")\n",
    "                })\n",
    "            return articles\n",
    "\n",
    "        except Exception as e:\n",
    "            print(f\"Alpha Vantage error for {symbol}: {e}\")\n",
    "            return []\n",
    "\n",
    "    def _fetch_yahoo_finance_news(self, symbol: str, limit: int) -> List[Dict]:\n",
    "        try:\n",
    "            ticker = yf.Ticker(symbol)\n",
    "            news = ticker.news[:limit]\n",
    "\n",
    "            articles = []\n",
    "            for article in news:\n",
    "                articles.append({\n",
    "                    \"source\": \"Yahoo Finance\",\n",
    "                    \"title\": article.get(\"title\", \"N/A\"),\n",
    "                    \"publisher\": article.get(\"publisher\", \"N/A\"),\n",
    "                    \"link\": article.get(\"link\", \"N/A\"),\n",
    "                    \"published\": datetime.fromtimestamp(article.get(\"providerPublishTime\", 0)).strftime(\"%Y-%m-%d %H:%M:%S\") if article.get(\"providerPublishTime\") else \"N/A\",\n",
    "                    \"summary\": article.get(\"summary\", \"N/A\")[:200] + \"...\" if len(article.get(\"summary\", \"\")) > 200 else article.get(\"summary\", \"N/A\")\n",
    "                })\n",
    "            return articles\n",
    "\n",
    "        except Exception as e:\n",
    "            print(f\"Yahoo Finance error for {symbol}: {e}\")\n",
    "            return []\n",
    "\n",
    "    def _fetch_newsapi_news(self, symbol: str, limit: int) -> List[Dict]:\n",
    "        try:\n",
    "            url = \"https://newsapi.org/v2/everything\"\n",
    "            params = {\n",
    "                \"q\": symbol,\n",
    "                \"apiKey\": self.newsapi_key,\n",
    "                \"pageSize\": limit,\n",
    "                \"sortBy\": \"publishedAt\",\n",
    "                \"language\": \"en\"\n",
    "            }\n",
    "\n",
    "            response = requests.get(url, params=params)\n",
    "            if response.status_code != 200:\n",
    "                return []\n",
    "\n",
    "            data = response.json()\n",
    "            if \"articles\" not in data or not data[\"articles\"]:\n",
    "                return []\n",
    "\n",
    "            articles = []\n",
    "            for article in data[\"articles\"][:limit]:\n",
    "                articles.append({\n",
    "                    \"source\": \"NewsAPI\",\n",
    "                    \"title\": article.get(\"title\", \"N/A\"),\n",
    "                    \"publisher\": article.get(\"source\", {}).get(\"name\", \"N/A\"),\n",
    "                    \"link\": article.get(\"url\", \"N/A\"),\n",
    "                    \"published\": article.get(\"publishedAt\", \"N/A\"),\n",
    "                    \"summary\": article.get(\"description\", \"N/A\")[:200] + \"...\" if len(article.get(\"description\", \"\")) > 200 else article.get(\"description\", \"N/A\")\n",
    "                })\n",
    "            return articles\n",
    "\n",
    "        except Exception as e:\n",
    "            print(f\"NewsAPI error for {symbol}: {e}\")\n",
    "            return []"
   ]
  },
  {
   "cell_type": "code",
   "execution_count": 49,
   "id": "4a9e2131",
   "metadata": {},
   "outputs": [
    {
     "data": {
      "text/plain": [
       "'0DZP1VNSGT50VW4I'"
      ]
     },
     "execution_count": 49,
     "metadata": {},
     "output_type": "execute_result"
    }
   ],
   "source": [
    "os.getenv(\"ALPHAVANTAGE_API_KEY\")"
   ]
  },
  {
   "cell_type": "code",
   "execution_count": 50,
   "id": "d5491cfc",
   "metadata": {},
   "outputs": [
    {
     "name": "stdout",
     "output_type": "stream",
     "text": [
      "Yahoo Finance error for yfinance.Ticker object <SBIN>: 'Ticker' object has no attribute 'upper'\n",
      "No news found for query: SBIN\n"
     ]
    }
   ],
   "source": [
    "news_tool = FinancialNewsTool(\n",
    "    alpha_vantage_api_key=os.getenv(\"ALPHAVANTAGE_API_KEY\"),\n",
    "    newsapi_key=os.getenv(\"NEWS_API_KEY\")  # Optional if you don't want to use NewsAPI\n",
    ")\n",
    "result = news_tool._run(\"SBIN\", limit=5)\n",
    "print(result)\n"
   ]
  },
  {
   "cell_type": "markdown",
   "id": "4ae6f4f9",
   "metadata": {},
   "source": [
    "#### Financial Web Search Tool"
   ]
  },
  {
   "cell_type": "code",
   "execution_count": 51,
   "id": "22881e0d",
   "metadata": {},
   "outputs": [
    {
     "data": {
      "text/plain": [
       "'cdf009c33c4cb3f472c7cef9b98212c90abb9f76f8ede5ec5c8c5ebb2c79395e'"
      ]
     },
     "execution_count": 51,
     "metadata": {},
     "output_type": "execute_result"
    }
   ],
   "source": [
    "import os\n",
    "os.getenv(\"SERP_API_KEY\")"
   ]
  },
  {
   "cell_type": "code",
   "execution_count": 52,
   "id": "8d728e65",
   "metadata": {},
   "outputs": [],
   "source": [
    "class FinancialWebSearchTool(BaseTool):\n",
    "    name: str = \"financial_web_search\"\n",
    "    description: str = \"Fetch financial data from Google Finance using SerpAPI\"\n",
    "    \n",
    "    serpapi_api_key: str\n",
    "\n",
    "    def _run(self, query: str) -> str:\n",
    "        try:\n",
    "            url = \"https://serpapi.com/search.json\"\n",
    "            params = {\"engine\": \"google_finance\", \"q\": query, \"api_key\": self.serpapi_api_key}\n",
    "\n",
    "            resp = requests.get(url, params=params)\n",
    "            resp.raise_for_status()\n",
    "            data = resp.json()\n",
    "\n",
    "            output = {\"query\": query}\n",
    "\n",
    "            # Summary section\n",
    "            if \"summary\" in data:\n",
    "                output[\"summary\"] = data[\"summary\"]\n",
    "            else:\n",
    "                output[\"summary\"] = None\n",
    "\n",
    "            # Markets\n",
    "            output[\"markets\"] = data.get(\"markets\", {})\n",
    "\n",
    "            # News (if present)\n",
    "            output[\"news_results\"] = data.get(\"news_results\", [])\n",
    "\n",
    "            # Financial statements (if present)\n",
    "            output[\"financials\"] = data.get(\"financials\", [])\n",
    "\n",
    "            return json.dumps(output, indent=2)\n",
    "\n",
    "        except Exception as e:\n",
    "            return f\"Error fetching financial data: {str(e)}\""
   ]
  },
  {
   "cell_type": "code",
   "execution_count": 53,
   "id": "d25429f4",
   "metadata": {},
   "outputs": [
    {
     "name": "stdout",
     "output_type": "stream",
     "text": [
      "('{\\n'\n",
      " '  \"query\": \"TATA MOTORS\",\\n'\n",
      " '  \"summary\": null,\\n'\n",
      " '  \"markets\": {\\n'\n",
      " '    \"us\": [\\n'\n",
      " '      {\\n'\n",
      " '        \"stock\": \".DJI:INDEXDJX\",\\n'\n",
      " '        \"link\": \"https://www.google.com/finance/quote/.DJI:INDEXDJX\",\\n'\n",
      " '        \"serpapi_link\": '\n",
      " '\"https://serpapi.com/search.json?engine=google_finance&hl=en&q=.DJI%3AINDEXDJX\",\\n'\n",
      " '        \"name\": \"Dow Jones\",\\n'\n",
      " '        \"price\": 44828.53,\\n'\n",
      " '        \"price_movement\": {\\n'\n",
      " '          \"percentage\": 0.7735503,\\n'\n",
      " '          \"value\": 344.10938,\\n'\n",
      " '          \"movement\": \"Up\"\\n'\n",
      " '        }\\n'\n",
      " '      },\\n'\n",
      " '      {\\n'\n",
      " '        \"stock\": \".INX:INDEXSP\",\\n'\n",
      " '        \"link\": \"https://www.google.com/finance/quote/.INX:INDEXSP\",\\n'\n",
      " '        \"serpapi_link\": '\n",
      " '\"https://serpapi.com/search.json?engine=google_finance&hl=en&q=.INX%3AINDEXSP\",\\n'\n",
      " '        \"name\": \"S&P 500\",\\n'\n",
      " '        \"price\": 6279.35,\\n'\n",
      " '        \"price_movement\": {\\n'\n",
      " '          \"percentage\": 0.8338955,\\n'\n",
      " '          \"value\": 51.930176,\\n'\n",
      " '          \"movement\": \"Up\"\\n'\n",
      " '        }\\n'\n",
      " '      },\\n'\n",
      " '      {\\n'\n",
      " '        \"stock\": \".IXIC:INDEXNASDAQ\",\\n'\n",
      " '        \"link\": \"https://www.google.com/finance/quote/.IXIC:INDEXNASDAQ\",\\n'\n",
      " '        \"serpapi_link\": '\n",
      " '\"https://serpapi.com/search.json?engine=google_finance&hl=en&q=.IXIC%3AINDEXNASDAQ\",\\n'\n",
      " '        \"name\": \"Nasdaq\",\\n'\n",
      " '        \"price\": 20601.102,\\n'\n",
      " '        \"price_movement\": {\\n'\n",
      " '          \"percentage\": 1.0198174,\\n'\n",
      " '          \"value\": 207.97266,\\n'\n",
      " '          \"movement\": \"Up\"\\n'\n",
      " '        }\\n'\n",
      " '      },\\n'\n",
      " '      {\\n'\n",
      " '        \"stock\": \"RUT:INDEXRUSSELL\",\\n'\n",
      " '        \"link\": \"https://www.google.com/finance/quote/RUT:INDEXRUSSELL\",\\n'\n",
      " '        \"serpapi_link\": '\n",
      " '\"https://serpapi.com/search.json?engine=google_finance&hl=en&q=RUT%3AINDEXRUSSELL\",\\n'\n",
      " '        \"name\": \"Russell\",\\n'\n",
      " '        \"price\": 2249.0361,\\n'\n",
      " '        \"price_movement\": {\\n'\n",
      " '          \"percentage\": 1.0177603,\\n'\n",
      " '          \"value\": 22.65918,\\n'\n",
      " '          \"movement\": \"Up\"\\n'\n",
      " '        }\\n'\n",
      " '      },\\n'\n",
      " '      {\\n'\n",
      " '        \"stock\": \"VIX:INDEXCBOE\",\\n'\n",
      " '        \"link\": \"https://www.google.com/finance/quote/VIX:INDEXCBOE\",\\n'\n",
      " '        \"serpapi_link\": '\n",
      " '\"https://serpapi.com/search.json?engine=google_finance&hl=en&q=VIX%3AINDEXCBOE\",\\n'\n",
      " '        \"name\": \"VIX\",\\n'\n",
      " '        \"price\": 17.4,\\n'\n",
      " '        \"price_movement\": {\\n'\n",
      " '          \"percentage\": 4.5673094,\\n'\n",
      " '          \"value\": 0.7600002,\\n'\n",
      " '          \"movement\": \"Up\"\\n'\n",
      " '        }\\n'\n",
      " '      }\\n'\n",
      " '    ],\\n'\n",
      " '    \"europe\": [\\n'\n",
      " '      {\\n'\n",
      " '        \"stock\": \"DAX:INDEXDB\",\\n'\n",
      " '        \"link\": \"https://www.google.com/finance/quote/DAX:INDEXDB\",\\n'\n",
      " '        \"serpapi_link\": '\n",
      " '\"https://serpapi.com/search.json?engine=google_finance&hl=en&q=DAX%3AINDEXDB\",\\n'\n",
      " '        \"name\": \"DAX\",\\n'\n",
      " '        \"price\": 23808.36,\\n'\n",
      " '        \"price_movement\": {\\n'\n",
      " '          \"percentage\": 0.5254901,\\n'\n",
      " '          \"value\": 125.771484,\\n'\n",
      " '          \"movement\": \"Down\"\\n'\n",
      " '        }\\n'\n",
      " '      },\\n'\n",
      " '      {\\n'\n",
      " '        \"stock\": \"UKX:INDEXFTSE\",\\n'\n",
      " '        \"link\": \"https://www.google.com/finance/quote/UKX:INDEXFTSE\",\\n'\n",
      " '        \"serpapi_link\": '\n",
      " '\"https://serpapi.com/search.json?engine=google_finance&hl=en&q=UKX%3AINDEXFTSE\",\\n'\n",
      " '        \"name\": \"FTSE 100\",\\n'\n",
      " '        \"price\": 8824.22,\\n'\n",
      " '        \"price_movement\": {\\n'\n",
      " '          \"percentage\": 0.0115551185,\\n'\n",
      " '          \"value\": 1.0195313,\\n'\n",
      " '          \"movement\": \"Up\"\\n'\n",
      " '        }\\n'\n",
      " '      },\\n'\n",
      " '      {\\n'\n",
      " '        \"stock\": \"PX1:INDEXEURO\",\\n'\n",
      " '        \"link\": \"https://www.google.com/finance/quote/PX1:INDEXEURO\",\\n'\n",
      " '        \"serpapi_link\": '\n",
      " '\"https://serpapi.com/search.json?engine=google_finance&hl=en&q=PX1%3AINDEXEURO\",\\n'\n",
      " '        \"name\": \"CAC 40\",\\n'\n",
      " '        \"price\": 7698.46,\\n'\n",
      " '        \"price_movement\": {\\n'\n",
      " '          \"percentage\": 0.7233153,\\n'\n",
      " '          \"value\": 56.089844,\\n'\n",
      " '          \"movement\": \"Down\"\\n'\n",
      " '        }\\n'\n",
      " '      },\\n'\n",
      " '      {\\n'\n",
      " '        \"stock\": \"INDI:INDEXBME\",\\n'\n",
      " '        \"link\": \"https://www.google.com/finance/quote/INDI:INDEXBME\",\\n'\n",
      " '        \"serpapi_link\": '\n",
      " '\"https://serpapi.com/search.json?engine=google_finance&hl=en&q=INDI%3AINDEXBME\",\\n'\n",
      " '        \"name\": \"IBEX 35\",\\n'\n",
      " '        \"price\": 13972.7,\\n'\n",
      " '        \"price_movement\": {\\n'\n",
      " '          \"percentage\": 1.4820678,\\n'\n",
      " '          \"value\": 210.2002,\\n'\n",
      " '          \"movement\": \"Down\"\\n'\n",
      " '        }\\n'\n",
      " '      },\\n'\n",
      " '      {\\n'\n",
      " '        \"stock\": \"SX5E:INDEXSTOXX\",\\n'\n",
      " '        \"link\": \"https://www.google.com/finance/quote/SX5E:INDEXSTOXX\",\\n'\n",
      " '        \"serpapi_link\": '\n",
      " '\"https://serpapi.com/search.json?engine=google_finance&hl=en&q=SX5E%3AINDEXSTOXX\",\\n'\n",
      " '        \"name\": \"STOXX 50\",\\n'\n",
      " '        \"price\": 5293.78,\\n'\n",
      " '        \"price_movement\": {\\n'\n",
      " '          \"percentage\": 0.923989,\\n'\n",
      " '          \"value\": 49.370117,\\n'\n",
      " '          \"movement\": \"Down\"\\n'\n",
      " '        }\\n'\n",
      " '      }\\n'\n",
      " '    ],\\n'\n",
      " '    \"asia\": [\\n'\n",
      " '      {\\n'\n",
      " '        \"stock\": \"NI225:INDEXNIKKEI\",\\n'\n",
      " '        \"link\": \"https://www.google.com/finance/quote/NI225:INDEXNIKKEI\",\\n'\n",
      " '        \"serpapi_link\": '\n",
      " '\"https://serpapi.com/search.json?engine=google_finance&hl=en&q=NI225%3AINDEXNIKKEI\",\\n'\n",
      " '        \"name\": \"Nikkei 225\",\\n'\n",
      " '        \"price\": 39810.88,\\n'\n",
      " '        \"price_movement\": {\\n'\n",
      " '          \"percentage\": 0.06278724,\\n'\n",
      " '          \"value\": 24.980469,\\n'\n",
      " '          \"movement\": \"Up\"\\n'\n",
      " '        }\\n'\n",
      " '      },\\n'\n",
      " '      {\\n'\n",
      " '        \"stock\": \"000001:SHA\",\\n'\n",
      " '        \"link\": \"https://www.google.com/finance/quote/000001:SHA\",\\n'\n",
      " '        \"serpapi_link\": '\n",
      " '\"https://serpapi.com/search.json?engine=google_finance&hl=en&q=000001%3ASHA\",\\n'\n",
      " '        \"name\": \"SSE\",\\n'\n",
      " '        \"price\": 3472.319,\\n'\n",
      " '        \"price_movement\": {\\n'\n",
      " '          \"percentage\": 0.32268047,\\n'\n",
      " '          \"value\": 11.168457,\\n'\n",
      " '          \"movement\": \"Up\"\\n'\n",
      " '        }\\n'\n",
      " '      },\\n'\n",
      " '      {\\n'\n",
      " '        \"stock\": \"HSI:INDEXHANGSENG\",\\n'\n",
      " '        \"link\": \"https://www.google.com/finance/quote/HSI:INDEXHANGSENG\",\\n'\n",
      " '        \"serpapi_link\": '\n",
      " '\"https://serpapi.com/search.json?engine=google_finance&hl=en&q=HSI%3AINDEXHANGSENG\",\\n'\n",
      " '        \"name\": \"HSI\",\\n'\n",
      " '        \"price\": 23916.06,\\n'\n",
      " '        \"price_movement\": {\\n'\n",
      " '          \"percentage\": 0.6392991,\\n'\n",
      " '          \"value\": 153.8789,\\n'\n",
      " '          \"movement\": \"Down\"\\n'\n",
      " '        }\\n'\n",
      " '      },\\n'\n",
      " '      {\\n'\n",
      " '        \"stock\": \"SENSEX:INDEXBOM\",\\n'\n",
      " '        \"link\": \"https://www.google.com/finance/quote/SENSEX:INDEXBOM\",\\n'\n",
      " '        \"serpapi_link\": '\n",
      " '\"https://serpapi.com/search.json?engine=google_finance&hl=en&q=SENSEX%3AINDEXBOM\",\\n'\n",
      " '        \"name\": \"SENSEX\",\\n'\n",
      " '        \"price\": 83432.89,\\n'\n",
      " '        \"price_movement\": {\\n'\n",
      " '          \"percentage\": 0.23236798,\\n'\n",
      " '          \"value\": 193.42188,\\n'\n",
      " '          \"movement\": \"Up\"\\n'\n",
      " '        }\\n'\n",
      " '      },\\n'\n",
      " '      {\\n'\n",
      " '        \"stock\": \"NIFTY_50:INDEXNSE\",\\n'\n",
      " '        \"link\": \"https://www.google.com/finance/quote/NIFTY_50:INDEXNSE\",\\n'\n",
      " '        \"serpapi_link\": '\n",
      " '\"https://serpapi.com/search.json?engine=google_finance&hl=en&q=NIFTY_50%3AINDEXNSE\",\\n'\n",
      " '        \"name\": \"NIFTY 50\",\\n'\n",
      " '        \"price\": 25461.0,\\n'\n",
      " '        \"price_movement\": {\\n'\n",
      " '          \"percentage\": 0.21924251,\\n'\n",
      " '          \"value\": 55.69922,\\n'\n",
      " '          \"movement\": \"Up\"\\n'\n",
      " '        }\\n'\n",
      " '      }\\n'\n",
      " '    ],\\n'\n",
      " '    \"currencies\": [\\n'\n",
      " '      {\\n'\n",
      " '        \"stock\": \"EUR-USD\",\\n'\n",
      " '        \"link\": \"https://www.google.com/finance/quote/EUR-USD\",\\n'\n",
      " '        \"serpapi_link\": '\n",
      " '\"https://serpapi.com/search.json?engine=google_finance&hl=en&q=EUR-USD\",\\n'\n",
      " '        \"name\": \"EUR / USD\",\\n'\n",
      " '        \"price\": 1.17773145,\\n'\n",
      " '        \"price_movement\": {\\n'\n",
      " '          \"percentage\": 0.054494549999999996,\\n'\n",
      " '          \"value\": 0.00064145,\\n'\n",
      " '          \"movement\": \"Up\"\\n'\n",
      " '        }\\n'\n",
      " '      },\\n'\n",
      " '      {\\n'\n",
      " '        \"stock\": \"USD-JPY\",\\n'\n",
      " '        \"link\": \"https://www.google.com/finance/quote/USD-JPY\",\\n'\n",
      " '        \"serpapi_link\": '\n",
      " '\"https://serpapi.com/search.json?engine=google_finance&hl=en&q=USD-JPY\",\\n'\n",
      " '        \"name\": \"USD / JPY\",\\n'\n",
      " '        \"price\": 144.553,\\n'\n",
      " '        \"price_movement\": {\\n'\n",
      " '          \"percentage\": 0.09226845,\\n'\n",
      " '          \"value\": 0.1335,\\n'\n",
      " '          \"movement\": \"Down\"\\n'\n",
      " '        }\\n'\n",
      " '      },\\n'\n",
      " '      {\\n'\n",
      " '        \"stock\": \"GBP-USD\",\\n'\n",
      " '        \"link\": \"https://www.google.com/finance/quote/GBP-USD\",\\n'\n",
      " '        \"serpapi_link\": '\n",
      " '\"https://serpapi.com/search.json?engine=google_finance&hl=en&q=GBP-USD\",\\n'\n",
      " '        \"name\": \"GBP / USD\",\\n'\n",
      " '        \"price\": 1.364185,\\n'\n",
      " '        \"price_movement\": {\\n'\n",
      " '          \"percentage\": 0.18621079999999998,\\n'\n",
      " '          \"value\": 0.002545,\\n'\n",
      " '          \"movement\": \"Down\"\\n'\n",
      " '        }\\n'\n",
      " '      },\\n'\n",
      " '      {\\n'\n",
      " '        \"stock\": \"USD-CAD\",\\n'\n",
      " '        \"link\": \"https://www.google.com/finance/quote/USD-CAD\",\\n'\n",
      " '        \"serpapi_link\": '\n",
      " '\"https://serpapi.com/search.json?engine=google_finance&hl=en&q=USD-CAD\",\\n'\n",
      " '        \"name\": \"USD / CAD\",\\n'\n",
      " '        \"price\": 1.36116461,\\n'\n",
      " '        \"price_movement\": {\\n'\n",
      " '          \"percentage\": 0.27475420000000006,\\n'\n",
      " '          \"value\": 0.00372961,\\n'\n",
      " '          \"movement\": \"Up\"\\n'\n",
      " '        }\\n'\n",
      " '      },\\n'\n",
      " '      {\\n'\n",
      " '        \"stock\": \"AUD-USD\",\\n'\n",
      " '        \"link\": \"https://www.google.com/finance/quote/AUD-USD\",\\n'\n",
      " '        \"serpapi_link\": '\n",
      " '\"https://serpapi.com/search.json?engine=google_finance&hl=en&q=AUD-USD\",\\n'\n",
      " '        \"name\": \"AUD / USD\",\\n'\n",
      " '        \"price\": 0.6551699999999999,\\n'\n",
      " '        \"price_movement\": {\\n'\n",
      " '          \"percentage\": 0.3861884000000001,\\n'\n",
      " '          \"value\": 0.0025399999999999997,\\n'\n",
      " '          \"movement\": \"Down\"\\n'\n",
      " '        }\\n'\n",
      " '      }\\n'\n",
      " '    ],\\n'\n",
      " '    \"crypto\": [\\n'\n",
      " '      {\\n'\n",
      " '        \"stock\": \"BTC-USD\",\\n'\n",
      " '        \"link\": \"https://www.google.com/finance/quote/BTC-USD\",\\n'\n",
      " '        \"serpapi_link\": '\n",
      " '\"https://serpapi.com/search.json?engine=google_finance&hl=en&q=BTC-USD\",\\n'\n",
      " '        \"name\": \"Bitcoin\",\\n'\n",
      " '        \"price\": 107908.20000000001,\\n'\n",
      " '        \"price_movement\": {\\n'\n",
      " '          \"percentage\": 1.551877,\\n'\n",
      " '          \"value\": 1701.0,\\n'\n",
      " '          \"movement\": \"Down\"\\n'\n",
      " '        }\\n'\n",
      " '      },\\n'\n",
      " '      {\\n'\n",
      " '        \"stock\": \"ETH-USD\",\\n'\n",
      " '        \"link\": \"https://www.google.com/finance/quote/ETH-USD\",\\n'\n",
      " '        \"serpapi_link\": '\n",
      " '\"https://serpapi.com/search.json?engine=google_finance&hl=en&q=ETH-USD\",\\n'\n",
      " '        \"name\": \"Ethereum\",\\n'\n",
      " '        \"price\": 2518.196549904,\\n'\n",
      " '        \"price_movement\": {\\n'\n",
      " '          \"percentage\": 2.7896389999999998,\\n'\n",
      " '          \"value\": 72.264535308,\\n'\n",
      " '          \"movement\": \"Down\"\\n'\n",
      " '        }\\n'\n",
      " '      },\\n'\n",
      " '      {\\n'\n",
      " '        \"stock\": \"ADA-USD\",\\n'\n",
      " '        \"link\": \"https://www.google.com/finance/quote/ADA-USD\",\\n'\n",
      " '        \"serpapi_link\": '\n",
      " '\"https://serpapi.com/search.json?engine=google_finance&hl=en&q=ADA-USD\",\\n'\n",
      " '        \"name\": \"Cardano\",\\n'\n",
      " '        \"price\": 0.5756806440000001,\\n'\n",
      " '        \"price_movement\": {\\n'\n",
      " '          \"percentage\": 3.8953379999999997,\\n'\n",
      " '          \"value\": 0.023333634000000002,\\n'\n",
      " '          \"movement\": \"Down\"\\n'\n",
      " '        }\\n'\n",
      " '      },\\n'\n",
      " '      {\\n'\n",
      " '        \"stock\": \"XRP-USD\",\\n'\n",
      " '        \"link\": \"https://www.google.com/finance/quote/XRP-USD\",\\n'\n",
      " '        \"serpapi_link\": '\n",
      " '\"https://serpapi.com/search.json?engine=google_finance&hl=en&q=XRP-USD\",\\n'\n",
      " '        \"name\": \"XRP\",\\n'\n",
      " '        \"price\": 2.223411372,\\n'\n",
      " '        \"price_movement\": {\\n'\n",
      " '          \"percentage\": 1.477015,\\n'\n",
      " '          \"value\": 0.0333324468,\\n'\n",
      " '          \"movement\": \"Down\"\\n'\n",
      " '        }\\n'\n",
      " '      },\\n'\n",
      " '      {\\n'\n",
      " '        \"stock\": \"DOGE-USD\",\\n'\n",
      " '        \"link\": \"https://www.google.com/finance/quote/DOGE-USD\",\\n'\n",
      " '        \"serpapi_link\": '\n",
      " '\"https://serpapi.com/search.json?engine=google_finance&hl=en&q=DOGE-USD\",\\n'\n",
      " '        \"name\": \"Dogecoin\",\\n'\n",
      " '        \"price\": 0.1646651664,\\n'\n",
      " '        \"price_movement\": {\\n'\n",
      " '          \"percentage\": 4.006818,\\n'\n",
      " '          \"value\": 0.006873231600000001,\\n'\n",
      " '          \"movement\": \"Down\"\\n'\n",
      " '        }\\n'\n",
      " '      }\\n'\n",
      " '    ],\\n'\n",
      " '    \"futures\": [\\n'\n",
      " '      {\\n'\n",
      " '        \"stock\": \"YMW00:CBOT\",\\n'\n",
      " '        \"link\": \"https://www.google.com/finance/quote/YMW00:CBOT\",\\n'\n",
      " '        \"serpapi_link\": '\n",
      " '\"https://serpapi.com/search.json?engine=google_finance&hl=en&q=YMW00%3ACBOT\",\\n'\n",
      " '        \"name\": \"Dow Futures\",\\n'\n",
      " '        \"price\": 44898.0,\\n'\n",
      " '        \"currency\": \"USD\",\\n'\n",
      " '        \"price_movement\": {\\n'\n",
      " '          \"percentage\": 0.44347864,\\n'\n",
      " '          \"value\": 200.0,\\n'\n",
      " '          \"movement\": \"Down\"\\n'\n",
      " '        }\\n'\n",
      " '      },\\n'\n",
      " '      {\\n'\n",
      " '        \"stock\": \"ESW00:CME_EMINIS\",\\n'\n",
      " '        \"link\": \"https://www.google.com/finance/quote/ESW00:CME_EMINIS\",\\n'\n",
      " '        \"serpapi_link\": '\n",
      " '\"https://serpapi.com/search.json?engine=google_finance&hl=en&q=ESW00%3ACME_EMINIS\",\\n'\n",
      " '        \"name\": \"S&P Futures\",\\n'\n",
      " '        \"price\": 6291.75,\\n'\n",
      " '        \"currency\": \"USD\",\\n'\n",
      " '        \"price_movement\": {\\n'\n",
      " '          \"percentage\": 0.5138949,\\n'\n",
      " '          \"value\": 32.5,\\n'\n",
      " '          \"movement\": \"Down\"\\n'\n",
      " '        }\\n'\n",
      " '      },\\n'\n",
      " '      {\\n'\n",
      " '        \"stock\": \"NQW00:CME_EMINIS\",\\n'\n",
      " '        \"link\": \"https://www.google.com/finance/quote/NQW00:CME_EMINIS\",\\n'\n",
      " '        \"serpapi_link\": '\n",
      " '\"https://serpapi.com/search.json?engine=google_finance&hl=en&q=NQW00%3ACME_EMINIS\",\\n'\n",
      " '        \"name\": \"Nasdaq Futures\",\\n'\n",
      " '        \"price\": 22941.0,\\n'\n",
      " '        \"currency\": \"USD\",\\n'\n",
      " '        \"price_movement\": {\\n'\n",
      " '          \"percentage\": 0.52682924,\\n'\n",
      " '          \"value\": 121.5,\\n'\n",
      " '          \"movement\": \"Down\"\\n'\n",
      " '        }\\n'\n",
      " '      },\\n'\n",
      " '      {\\n'\n",
      " '        \"stock\": \"GCW00:COMEX\",\\n'\n",
      " '        \"link\": \"https://www.google.com/finance/quote/GCW00:COMEX\",\\n'\n",
      " '        \"serpapi_link\": '\n",
      " '\"https://serpapi.com/search.json?engine=google_finance&hl=en&q=GCW00%3ACOMEX\",\\n'\n",
      " '        \"name\": \"Gold\",\\n'\n",
      " '        \"price\": 3340.800048828125,\\n'\n",
      " '        \"currency\": \"USD\",\\n'\n",
      " '        \"price_movement\": {\\n'\n",
      " '          \"percentage\": 0.06281533,\\n'\n",
      " '          \"value\": 2.0998535,\\n'\n",
      " '          \"movement\": \"Down\"\\n'\n",
      " '        }\\n'\n",
      " '      },\\n'\n",
      " '      {\\n'\n",
      " '        \"stock\": \"CLW00:NYMEX\",\\n'\n",
      " '        \"link\": \"https://www.google.com/finance/quote/CLW00:NYMEX\",\\n'\n",
      " '        \"serpapi_link\": '\n",
      " '\"https://serpapi.com/search.json?engine=google_finance&hl=en&q=CLW00%3ANYMEX\",\\n'\n",
      " '        \"name\": \"Crude Oil\",\\n'\n",
      " '        \"price\": 66.44000244140625,\\n'\n",
      " '        \"currency\": \"USD\",\\n'\n",
      " '        \"price_movement\": {\\n'\n",
      " '          \"percentage\": 0.8358173,\\n'\n",
      " '          \"value\": 0.55999756,\\n'\n",
      " '          \"movement\": \"Down\"\\n'\n",
      " '        }\\n'\n",
      " '      }\\n'\n",
      " '    ],\\n'\n",
      " '    \"top_news\": {\\n'\n",
      " '      \"link\": '\n",
      " '\"https://www.marketwatch.com/story/s-p-500-futures-and-dollar-dip-as-trump-revives-tariff-tension-2cc83ada\",\\n'\n",
      " '      \"snippet\": \"S&P 500 futures and dollar dip as Trump revives tariff '\n",
      " 'tension\",\\n'\n",
      " '      \"source\": \"MarketWatch\",\\n'\n",
      " '      \"thumbnail\": '\n",
      " '\"https://encrypted-tbn1.gstatic.com/images?q=tbn:ANd9GcRLBJMwCk6fhl8AVZpFp35q64gf3teHNcEaQQ0QtulUe12_h11eeNAHgt75mXc\",\\n'\n",
      " '      \"date\": \"1 hour ago\",\\n'\n",
      " '      \"iso_date\": \"2025-07-04T13:01:00Z\"\\n'\n",
      " '    }\\n'\n",
      " '  },\\n'\n",
      " '  \"news_results\": [],\\n'\n",
      " '  \"financials\": []\\n'\n",
      " '}')\n"
     ]
    }
   ],
   "source": [
    "fin_web_search = FinancialWebSearchTool(serpapi_api_key=\"cdf009c33c4cb3f472c7cef9b98212c90abb9f76f8ede5ec5c8c5ebb2c79395e\")\n",
    "pprint(fin_web_search.invoke({\"query\":\"TATA MOTORS\"}))\n"
   ]
  },
  {
   "cell_type": "code",
   "execution_count": null,
   "id": "8aa5777b",
   "metadata": {},
   "outputs": [],
   "source": []
  }
 ],
 "metadata": {
  "kernelspec": {
   "display_name": "Python 3",
   "language": "python",
   "name": "python3"
  },
  "language_info": {
   "codemirror_mode": {
    "name": "ipython",
    "version": 3
   },
   "file_extension": ".py",
   "mimetype": "text/x-python",
   "name": "python",
   "nbconvert_exporter": "python",
   "pygments_lexer": "ipython3",
   "version": "3.13.0"
  }
 },
 "nbformat": 4,
 "nbformat_minor": 5
}
