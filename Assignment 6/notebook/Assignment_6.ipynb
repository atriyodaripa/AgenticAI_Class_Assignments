{
 "cells": [
  {
   "cell_type": "code",
   "execution_count": 21,
   "id": "8fa1baee",
   "metadata": {},
   "outputs": [],
   "source": [
    "import operator\n",
    "import os\n",
    "from langchain_groq import ChatGroq\n",
    "from langchain_openai import ChatOpenAI\n",
    "from langgraph.graph import StateGraph, START, END\n",
    "from langgraph.prebuilt import tools_condition\n",
    "from langgraph.types import Command\n",
    "from langgraph.graph import MessagesState, add_messages\n",
    "from pydantic import BaseModel, Field\n",
    "from typing import Annotated, Sequence, Optional, Dict, Any, TypedDict, Literal\n",
    "from langchain_core.messages import BaseMessage, AIMessage\n",
    "from langchain_core.prompts import PromptTemplate"
   ]
  },
  {
   "cell_type": "markdown",
   "id": "6db034cd",
   "metadata": {},
   "source": [
    "### Initializing the LLMs"
   ]
  },
  {
   "cell_type": "code",
   "execution_count": 2,
   "id": "992e4d9e",
   "metadata": {},
   "outputs": [],
   "source": [
    "## Langchain and Langsmith tracing\n",
    "os.environ['LANGCHAIN_API_KEY'] = os.getenv('LANGCHAIN_API_KEY')\n",
    "os.environ['LANGCHAIN_PROJECT'] = os.getenv('LANGCHAIN_PROJECT')\n",
    "os.environ[\"LANGCHAIN_TRACING_V2\"]=\"true\"\n",
    "\n",
    "## Getting Froq API key\n",
    "os.environ[\"GROQ_API_KEY\"]=os.getenv(\"GROQ_API_KEY\")\n",
    "os.environ[\"OPENAI_API_KEY\"]=os.getenv(\"OPENAI_API_KEY\")\n",
    "\n",
    "# EMBEDDING_MODEL = \"BAAI/bge-small-en\"\n",
    "GROQ_INFERENCE_MODEL = \"deepseek-r1-distill-llama-70b\"\n",
    "OPENAI_INFERENCE_MODEL = \"gpt-4o\"\n",
    "# INFERENCE_MODEL = \"gemma2-9b-it\""
   ]
  },
  {
   "cell_type": "code",
   "execution_count": 3,
   "id": "1ac07e15",
   "metadata": {},
   "outputs": [
    {
     "name": "stdout",
     "output_type": "stream",
     "text": [
      "--------Creating the response from llm based on contexts--------\n"
     ]
    }
   ],
   "source": [
    "llm = ChatGroq(model=GROQ_INFERENCE_MODEL, temperature=0.3)\n",
    "print('--------Creating the response from llm based on contexts--------')\n",
    "\n",
    "# llm = ChatOpenAI(model=OPENAI_INFERENCE_MODEL, temperature=0.3)\n",
    "# print('--------Creating the response from llm based on contexts--------')"
   ]
  },
  {
   "cell_type": "markdown",
   "id": "387cac35",
   "metadata": {},
   "source": [
    "### State of the Agents"
   ]
  },
  {
   "cell_type": "code",
   "execution_count": null,
   "id": "31ea0385",
   "metadata": {},
   "outputs": [],
   "source": [
    "class SupervisorState(MessagesState):\n",
    "    \"\"\"State of the Supervisor Agent\"\"\"\n",
    "    query: str\n",
    "    research_results: Optional[Dict[str, Any]] = None\n",
    "    summary_results: Optional[Dict[str, Any]] = None\n",
    "    final_documents: Optional[str] = None\n",
    "    next: Optional[Literal['research', 'report', 'FINISH']] = None\n",
    "    reasoning: Optional[str] = None\n",
    "    task_details: Optional[str] = None\n"
   ]
  },
  {
   "cell_type": "code",
   "execution_count": 14,
   "id": "8e3aef50",
   "metadata": {},
   "outputs": [],
   "source": [
    "class ResearchState(MessagesState):\n",
    "    \"\"\"State of the Team 1: Research Agent\"\"\"\n",
    "    query: str\n",
    "    next: Optional[Literal['finance', 'pharma']] = None\n",
    "    reasoning: Optional[str] = None\n",
    "    task_details: Optional[str] = None\n",
    "    research_context: str\n",
    "    medical_results: Optional[Dict[str, Any]]\n",
    "    financial_results: Optional[Dict[str, Any]]"
   ]
  },
  {
   "cell_type": "code",
   "execution_count": 26,
   "id": "ef32beb0",
   "metadata": {},
   "outputs": [],
   "source": [
    "class ReportingState(MessagesState):\n",
    "    \"\"\"State of the Team 2: Reporting Agent\"\"\"\n",
    "    query: str\n",
    "    next: Optional[Literal['summarization', 'doc_generation']] = None\n",
    "    reasoning: str\n",
    "    task_details: str\n",
    "    research_findings: str = \"\"\n",
    "    report_type: Optional[Literal['summary','document']] = None\n",
    "    summary: Optional[str]\n",
    "    document_content: str = \"\"\n",
    "    has_summary: bool = False\n",
    "    # report_format:Optional[Literal['pdf','docx','html','markdown']] = None\n",
    "    # research_data: Dict[str, Any]\n",
    "    report_context: str = \"\"\n",
    "    report_requirements: str = \"\"\n",
    "    final_report: Optional[str]"
   ]
  },
  {
   "cell_type": "markdown",
   "id": "8595c21c",
   "metadata": {},
   "source": [
    "### Router of the Agents"
   ]
  },
  {
   "cell_type": "code",
   "execution_count": 6,
   "id": "d38c6a77",
   "metadata": {},
   "outputs": [],
   "source": [
    "class SupervisorRouter(TypedDict):\n",
    "    next: Literal['research', 'report', 'FINISH']\n",
    "    reasoning: str\n",
    "    task_details: str"
   ]
  },
  {
   "cell_type": "code",
   "execution_count": 19,
   "id": "5cd6fdee",
   "metadata": {},
   "outputs": [],
   "source": [
    "class ResearchRouter(TypedDict):\n",
    "    next: Literal['pharma', 'financial']\n",
    "    reasoning: str\n",
    "    task_details: str\n",
    "    research_context: str"
   ]
  },
  {
   "cell_type": "code",
   "execution_count": 25,
   "id": "362161ab",
   "metadata": {},
   "outputs": [],
   "source": [
    "class ReportRouter(TypedDict):\n",
    "    next: Literal['summary', 'document']\n",
    "    reasoning: str\n",
    "    report_requirements: str\n",
    "    report_context: str\n",
    "    report_format: str"
   ]
  },
  {
   "cell_type": "markdown",
   "id": "2bc068a6",
   "metadata": {},
   "source": [
    "### Agent Prompt Template"
   ]
  },
  {
   "cell_type": "markdown",
   "id": "98ee3145",
   "metadata": {},
   "source": [
    "#### supervisor prompt template"
   ]
  },
  {
   "cell_type": "code",
   "execution_count": 7,
   "id": "eee303a1",
   "metadata": {},
   "outputs": [],
   "source": [
    "supervisor_prompt_template = \"\"\"You are the Supervisor Agent coordinating a hierarchical multi-agent research system.\n",
    "\n",
    "Your responsibilities:\n",
    "1. Analyze incoming requests to determine if research or reporting is needed\n",
    "2. Coordinate between Team 1 (Research) and Team 2 (Reporting)\n",
    "3. Make decisions on workflow progression\n",
    "\n",
    "Teams under your supervision:\n",
    "- Team 1 (Research): Coordinates medical/pharma (Team 3) and financial (Team 4) research\n",
    "- Team 2 (Reporting): Coordinates summary creation (Team 5) and document generation (Team 6)\n",
    "\n",
    "Decision criteria:\n",
    "- If no research results exist and task requires data gathering then route to \"research\" agent i.e. Team 1\n",
    "- If research results exist but no report generated then route to \"reporting\" agent i.e. Team 2  \n",
    "- If final document is complete then route to \"end\"\n",
    "\n",
    "Always respond with your decision and reasoning in JSON format:\n",
    "{{  \"next_action\": \"research|reporting|end\", \n",
    "    \"reasoning\": \"explanation\", \n",
    "    \"task_details\": \"specific instructions\"}}\n",
    "\n",
    "Here is the user query: {question}\n",
    "\"\"\""
   ]
  },
  {
   "cell_type": "code",
   "execution_count": 9,
   "id": "7f9e2f40",
   "metadata": {},
   "outputs": [],
   "source": [
    "supervisor_llm_with_structured_output = llm.with_structured_output(SupervisorRouter)\n",
    "formatted_prompt = supervisor_prompt_template.format(question=\"What are the components of the medicine Ecosprin 75?\")\n",
    "response = supervisor_llm_with_structured_output.invoke(formatted_prompt)"
   ]
  },
  {
   "cell_type": "code",
   "execution_count": 10,
   "id": "d5a58b11",
   "metadata": {},
   "outputs": [
    {
     "data": {
      "text/plain": [
       "{'next': 'research',\n",
       " 'reasoning': \"The user is asking about the components of Ecosprin 75, which requires gathering data on the medicine's ingredients. Since this is a data-gathering task and no prior research results are mentioned, it should be routed to the research team for further investigation.\",\n",
       " 'task_details': 'Investigate and gather information on the components of Ecosprin 75.'}"
      ]
     },
     "execution_count": 10,
     "metadata": {},
     "output_type": "execute_result"
    }
   ],
   "source": [
    "response"
   ]
  },
  {
   "cell_type": "markdown",
   "id": "490db143",
   "metadata": {},
   "source": [
    "#### researcher prompt template"
   ]
  },
  {
   "cell_type": "code",
   "execution_count": null,
   "id": "f64203b8",
   "metadata": {},
   "outputs": [],
   "source": [
    "researcher_prompt_template = \"\"\"You are a research coordinator that determines which specialized research agent should handle a query.\n",
    "\n",
    "Your responsibilities:\n",
    "1. Analyze the incoming query and determine whether it requires:\n",
    "    - \"finance\": Financial research, market analysis, economic data, investment research, financial modeling, etc.\n",
    "    - \"pharma\": Pharmaceutical research, drug development, clinical trials, regulatory affairs, medical research, etc.\n",
    "2. Coordinate between Team 3 (Pharma Specialist Researcher) and Team 4 (Finance Specialist Researcher)\n",
    "3. Consolidate results from specialized research\n",
    "4. Report back to Supervisor\n",
    "\n",
    "Teams under your supervision:\n",
    "- Team 3 (Pharma Specialist Researcher): Perform Pharma Related Research and returns query related research information in the field of pharma and medicine\n",
    "- Team 4 (Finance Specialist Researcher): Perform Finance Related Research and returns query related research information in the field of finance\n",
    "\n",
    "Consider the following:\n",
    "- What type of specialized knowledge is required?\n",
    "- Which domain expertise would be most valuable?\n",
    "- Are there any domain-specific terminologies or concepts?\n",
    "- What kind of data sources would be most relevant?\n",
    "    \n",
    "Provide your routing decision with clear reasoning and specific task details for the chosen agent.\n",
    "\n",
    "Query: {question}\n",
    "Task Details: {task_details}\n",
    "\"\"\""
   ]
  },
  {
   "cell_type": "code",
   "execution_count": 20,
   "id": "6d397450",
   "metadata": {},
   "outputs": [
    {
     "data": {
      "text/plain": [
       "{'next': 'pharma',\n",
       " 'reasoning': 'The query is about the components of Ecosprin 75, which is a pharmaceutical product. Therefore, it requires expertise in pharmaceutical research to identify the active and inactive ingredients.',\n",
       " 'research_context': 'Ecosprin 75 is a medication, and the query is about its components, which falls under pharmaceutical research.',\n",
       " 'task_details': 'Investigate and gather information on the components of Ecosprin 75, including active and inactive ingredients.'}"
      ]
     },
     "execution_count": 20,
     "metadata": {},
     "output_type": "execute_result"
    }
   ],
   "source": [
    "researcher_llm_with_structured_output = llm.with_structured_output(ResearchRouter)\n",
    "research_formatted_prompt = researcher_prompt_template.format(question=\"What are the components of the medicine Ecosprin 75?\",\n",
    "                                                     task_details=\"Investigate and gather information on the components of Ecosprin 75.\")\n",
    "response = researcher_llm_with_structured_output.invoke(research_formatted_prompt)\n",
    "response"
   ]
  },
  {
   "cell_type": "markdown",
   "id": "a7f5759c",
   "metadata": {},
   "source": [
    "#### reporter prompt template"
   ]
  },
  {
   "cell_type": "code",
   "execution_count": 28,
   "id": "a36fae9f",
   "metadata": {},
   "outputs": [],
   "source": [
    "reporter_prompt_template = \"\"\"You are a report coordinator that determines the appropriate reporting workflow based on the research findings and requirements.\n",
    "\n",
    "Analyze the request and determine the reporting workflow:\n",
    "\n",
    "DECISION RULES:\n",
    "- If NO summary exists AND user wants a document: Route to \"summary\" first\n",
    "- If summary exists AND user wants a document: Route to \"document\" \n",
    "- If user only wants a summary: Route to \"summary\"\n",
    "- If unclear, default to \"summary\" first\n",
    "\n",
    "Consider the following factors:\n",
    "- What type of output does the user need? (summary, full document, both)\n",
    "- What format is most appropriate? (markdown, PDF, HTML, etc.)\n",
    "- How detailed should the report be?\n",
    "- What is the intended audience?\n",
    "- Are there specific requirements mentioned?\n",
    "\n",
    "Provide your routing decision with clear reasoning and specific requirements for the chosen agent.\n",
    "\n",
    "Query: {question}\n",
    "Task Details: {task_details}\n",
    "Research Findings: {research_findings}\n",
    "\"\"\""
   ]
  },
  {
   "cell_type": "code",
   "execution_count": 29,
   "id": "f6c6dfb6",
   "metadata": {},
   "outputs": [
    {
     "data": {
      "text/plain": [
       "{'next': 'document',\n",
       " 'reasoning': \"The user is asking for detailed information about the components of Ecosprin 75, which suggests they need a comprehensive report rather than a brief summary. The research findings indicate that Ecosprin 75 is used to keep blood thinner, which is a specific use case that warrants a detailed explanation. Therefore, routing to 'document' is appropriate to provide in-depth information on the components and their effects.\",\n",
       " 'report_context': 'The user is inquiring about the components of Ecosprin 75, which is a medication used to thin blood. This suggests the user may be a healthcare professional or a patient seeking detailed information about their medication.',\n",
       " 'report_format': 'markdown',\n",
       " 'report_requirements': 'Detailed explanation of components and their effects.'}"
      ]
     },
     "execution_count": 29,
     "metadata": {},
     "output_type": "execute_result"
    }
   ],
   "source": [
    "reporter_llm_with_structured_output = llm.with_structured_output(ReportRouter)\n",
    "reporter_formatted_prompt = reporter_prompt_template.format(question=\"What are the components of the medicine Ecosprin 75?\",\n",
    "                                                     task_details=\"Investigate and gather information on the components of Ecosprin 75.\",\n",
    "                                                     research_findings=\"Ecosprin 75 helps in keeping blood thinner\")\n",
    "response = reporter_llm_with_structured_output.invoke(reporter_formatted_prompt)\n",
    "response"
   ]
  },
  {
   "cell_type": "markdown",
   "id": "5f17afbf",
   "metadata": {},
   "source": [
    "### Agents"
   ]
  },
  {
   "cell_type": "markdown",
   "id": "343f3ea1",
   "metadata": {},
   "source": [
    "#### Supervisor Agent"
   ]
  },
  {
   "cell_type": "code",
   "execution_count": null,
   "id": "271035ce",
   "metadata": {},
   "outputs": [],
   "source": [
    "def supervisor(state:SupervisorState)->Command[Literal['research', 'report', '__end__']]:\n",
    "    \"\"\"This is the supervisor agent. It takes the query and redirects it to either the research node or reporting node\"\"\"\n",
    "    supervisor_llm_with_structured_output = llm.with_structured_output(SupervisorRouter)\n",
    "    formatted_prompt = supervisor_prompt_template.format(question=state[\"query\"])\n",
    "    response = supervisor_llm_with_structured_output.invoke(formatted_prompt)\n",
    "    \n",
    "    goto = response[\"next\"]\n",
    "\n",
    "    if goto == \"FINISH\":\n",
    "        goto=END\n",
    "    \n",
    "    supervisor_message = AIMessage(\n",
    "        content=f\"SUPERVISOR DECISION: Routing to {goto}. Reasoning: {response['reasoning']}. Task Details: {response['task_details']}\"\n",
    "    )\n",
    "    \n",
    "    return Command(goto=goto, update={\n",
    "        \"query\": state[\"query\"],\n",
    "        \"next\": goto,\n",
    "        \"reasoning\": response[\"reasoning\"],\n",
    "        \"task_details\": response[\"task_details\"],\n",
    "        \"messages\": [supervisor_message]})\n",
    "    "
   ]
  },
  {
   "cell_type": "markdown",
   "id": "11b6f1aa",
   "metadata": {},
   "source": [
    "#### Researcher Agent"
   ]
  },
  {
   "cell_type": "code",
   "execution_count": null,
   "id": "5c56fedd",
   "metadata": {},
   "outputs": [],
   "source": [
    "def researcher(state:ResearchState)->Command[Literal['pharma','finance']]:\n",
    "    \"\"\"This is the supervisor agent. It takes the query from the supervisor agent, analyses whether it is related to pharma or finance and redirects it to either to pharma agent and finance agent.\"\"\"\n",
    "    query = state[\"query\"]\n",
    "    task_details = state[\"task_details\"]\n",
    "    researcher_llm_with_structured_output = llm.with_structured_output(ResearchRouter)\n",
    "    formatted_prompt = researcher_prompt_template.format(question=query, task_details=task_details)\n",
    "    response = researcher_llm_with_structured_output.invoke(formatted_prompt)\n",
    "\n",
    "    goto = response[\"next\"]\n",
    "\n",
    "    if goto == \"FINISH\":\n",
    "        goto=END\n",
    "    \n",
    "    researcher_message = AIMessage(\n",
    "        content=f\"RESEARCHER DECISION: Routing to {goto}. Reasoning: {response['reasoning']}. Research Context: {response['research_context']}. Task Details: {response['task_details']}\"\n",
    "    )\n",
    "\n",
    "    return Command(goto=goto, update={\n",
    "        \"query\": state[\"query\"],\n",
    "        \"next\": goto,\n",
    "        \"reasoning\": response[\"reasoning\"],\n",
    "        \"task_details\": response[\"task_details\"],\n",
    "        \"research_context\": response[\"research_context\"],\n",
    "        \"messages\": add_messages([researcher_message])})\n",
    "    "
   ]
  },
  {
   "cell_type": "markdown",
   "id": "77030bb5",
   "metadata": {},
   "source": [
    "#### Reporter Agent"
   ]
  },
  {
   "cell_type": "code",
   "execution_count": 32,
   "id": "00a07b8d",
   "metadata": {},
   "outputs": [],
   "source": [
    "def reporter(state:ReportingState):\n",
    "    \"\"\"This is the supervisor agent. It takes the query from the supervisor agent, analyses whether it is related to pharma or finance and redirects it to either to pharma agent and finance agent.\"\"\"\n",
    "    query = state[\"query\"]\n",
    "    task_details = state[\"task_details\"]\n",
    "    research_findings = state[\"research_findings\"]\n",
    "    reporter_llm_with_structured_output = llm.with_structured_output(ReportRouter)\n",
    "    reporter_formatted_prompt = reporter_prompt_template.format(question=query,\n",
    "                                                     task_details=task_details,\n",
    "                                                     research_findings=research_findings\n",
    "                                                     )\n",
    "    response = reporter_llm_with_structured_output.invoke(reporter_formatted_prompt)\n",
    "    \n",
    "    goto = response[\"next\"]\n",
    "\n",
    "    if goto == \"FINISH\":\n",
    "        goto=END\n",
    "    \n",
    "    reporter_message = AIMessage(\n",
    "        content=f\"REPORTER DECISION: Routing to {goto}. Reasoning: {response['reasoning']}. Report Requirements: {response['report_requirements']}. Report Fomat: {response['report_format']}\"\n",
    "    )\n",
    "\n",
    "    return Command(goto=goto, update={\n",
    "        \"query\": state[\"query\"],\n",
    "        \"next\": goto,\n",
    "        \"reasoning\": response[\"reasoning\"],\n",
    "        \"task_details\": response[\"task_details\"],\n",
    "        \"research_context\": response[\"research_context\"],\n",
    "        \"research_findings\": state.get(\"research_findings\", \"\"),\n",
    "        \"report_type\": goto,\n",
    "        \"report_context\": response[\"report_context\"],\n",
    "        \"report_requirements\": response[\"report_requirements\"],\n",
    "        \"report_format\": response[\"report_format\"],\n",
    "        \"messages\": add_messages([reporter_message])})"
   ]
  },
  {
   "cell_type": "markdown",
   "id": "98063e52",
   "metadata": {},
   "source": [
    "#### Medical Researcher Agent"
   ]
  },
  {
   "cell_type": "code",
   "execution_count": 9,
   "id": "68dc2dfd",
   "metadata": {},
   "outputs": [],
   "source": [
    "def medical_researcher(state:AgentState):\n",
    "    pass"
   ]
  },
  {
   "cell_type": "markdown",
   "id": "8a4e4c95",
   "metadata": {},
   "source": [
    "#### Finance Researcher Agent"
   ]
  },
  {
   "cell_type": "code",
   "execution_count": 10,
   "id": "0157afd4",
   "metadata": {},
   "outputs": [],
   "source": [
    "def finance_researcher(state:AgentState):\n",
    "    pass"
   ]
  },
  {
   "cell_type": "markdown",
   "id": "72db7e0f",
   "metadata": {},
   "source": [
    "#### Document Summarizer Agent"
   ]
  },
  {
   "cell_type": "code",
   "execution_count": 11,
   "id": "e131de2d",
   "metadata": {},
   "outputs": [],
   "source": [
    "def document_summarizer(state:AgentState):\n",
    "    pass"
   ]
  },
  {
   "cell_type": "markdown",
   "id": "77891b28",
   "metadata": {},
   "source": [
    "#### Document Generator Agent"
   ]
  },
  {
   "cell_type": "code",
   "execution_count": 12,
   "id": "bb9b182b",
   "metadata": {},
   "outputs": [],
   "source": [
    "def document_generator(state:AgentState):\n",
    "    pass"
   ]
  },
  {
   "cell_type": "markdown",
   "id": "275b5fcf",
   "metadata": {},
   "source": [
    "### Workflow"
   ]
  },
  {
   "cell_type": "code",
   "execution_count": 14,
   "id": "1fc9bf9e",
   "metadata": {},
   "outputs": [
    {
     "data": {
      "text/plain": [
       "<langgraph.graph.state.StateGraph at 0x236a3262e90>"
      ]
     },
     "execution_count": 14,
     "metadata": {},
     "output_type": "execute_result"
    }
   ],
   "source": [
    "graph_builder = StateGraph(AgentState)\n",
    "graph_builder.add_node(\"Researcher\", researcher)\n",
    "graph_builder.add_node(\"Reporter\", reporter)\n",
    "graph_builder.add_node(\"Supervisor\",supervisor)\n",
    "graph_builder.add_node(\"Medical Researcher\", medical_researcher)\n",
    "graph_builder.add_node(\"Finance Researcher\", finance_researcher)\n",
    "graph_builder.add_node(\"Document Summarizer\", document_summarizer)\n",
    "graph_builder.add_node(\"Document Generator\", document_generator)\n",
    "graph_builder.add_edge(START, \"Supervisor\")\n",
    "# graph_builder.add_conditional_edges(\"ai_assistant\",\n",
    "#                                     tools_condition)\n",
    "# graph_builder.add_edge(\"tools\",\"ai_assistant\")\n",
    "# app_react = graph_builder.compile(checkpointer=memory, interrupt_before=[\"tools\"])"
   ]
  }
 ],
 "metadata": {
  "kernelspec": {
   "display_name": "Python 3",
   "language": "python",
   "name": "python3"
  },
  "language_info": {
   "codemirror_mode": {
    "name": "ipython",
    "version": 3
   },
   "file_extension": ".py",
   "mimetype": "text/x-python",
   "name": "python",
   "nbconvert_exporter": "python",
   "pygments_lexer": "ipython3",
   "version": "3.13.0"
  }
 },
 "nbformat": 4,
 "nbformat_minor": 5
}
