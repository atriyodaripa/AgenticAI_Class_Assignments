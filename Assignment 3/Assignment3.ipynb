{
 "cells": [
  {
   "cell_type": "code",
   "execution_count": 1,
   "id": "57111704",
   "metadata": {},
   "outputs": [],
   "source": [
    "import operator\n",
    "import os\n",
    "from dotenv import load_dotenv\n",
    "load_dotenv()\n",
    "from pydantic import BaseModel, Field\n",
    "from typing import TypedDict, Annotated, Sequence\n",
    "from langchain_huggingface import HuggingFaceEmbeddings\n",
    "from langchain_core.messages import BaseMessage\n",
    "from langchain.output_parsers import PydanticOutputParser\n",
    "from langchain.prompts import PromptTemplate\n",
    "from langchain_groq import ChatGroq\n",
    "from langchain_tavily import TavilySearch\n",
    "from langchain_core.runnables import RunnablePassthrough, RunnableLambda\n",
    "from langchain_core.output_parsers import StrOutputParser\n",
    "from langchain_community.document_loaders import PyPDFLoader, DirectoryLoader\n",
    "from langchain_community.vectorstores import Chroma\n",
    "from langchain.text_splitter import RecursiveCharacterTextSplitter\n"
   ]
  },
  {
   "cell_type": "code",
   "execution_count": 2,
   "id": "f6f4e50e",
   "metadata": {},
   "outputs": [],
   "source": [
    "## Getting Groq API key\n",
    "os.environ[\"GROQ_API_KEY\"]=os.getenv(\"GROQ_API_KEY\")\n",
    "## Getting TAVILY API key\n",
    "os.environ[\"TAVILY_API_KEY\"]=os.getenv(\"TAVILY_API_KEY\")\n",
    "# print(os.getenv(\"TAVILY_API_KEY\"))\n",
    "\n",
    "EMBEDDING_MODEL = \"all-MiniLM-L6-v2\"\n",
    "INFERENCE_MODEL = \"gemma2-9b-it\""
   ]
  },
  {
   "cell_type": "markdown",
   "id": "4add0b39",
   "metadata": {},
   "source": [
    "### Initializing the LLM, Embeddings and the Tavily Web Crawler"
   ]
  },
  {
   "cell_type": "code",
   "execution_count": 3,
   "id": "3c995354",
   "metadata": {},
   "outputs": [
    {
     "name": "stderr",
     "output_type": "stream",
     "text": [
      "e:\\AgenticAI KrishNaikAcademy\\Classroom HandsOn\\agentic_class_venv\\Lib\\site-packages\\tqdm\\auto.py:21: TqdmWarning: IProgress not found. Please update jupyter and ipywidgets. See https://ipywidgets.readthedocs.io/en/stable/user_install.html\n",
      "  from .autonotebook import tqdm as notebook_tqdm\n"
     ]
    }
   ],
   "source": [
    "llm = ChatGroq(model=INFERENCE_MODEL, temperature=0.3)\n",
    "# print('--------Creating the response from llm based on contexts--------')\n",
    "\n",
    "embeddings = HuggingFaceEmbeddings(model_name=EMBEDDING_MODEL)\n",
    "len(embeddings.embed_query('Hi'))\n",
    "\n",
    "# Initialize Tavily tool\n",
    "tavily_tool = TavilySearch(max_results=5, topic=\"news\")\n"
   ]
  },
  {
   "cell_type": "markdown",
   "id": "f3b4c9d1",
   "metadata": {},
   "source": [
    "### Initializing the Web Crawler Retriever Function"
   ]
  },
  {
   "cell_type": "code",
   "execution_count": 4,
   "id": "93555a0b",
   "metadata": {},
   "outputs": [],
   "source": [
    "def web_retriever(query):\n",
    "    # query = inputs[\"question\"]\n",
    "    result = tavily_tool.invoke({\"query\": query})\n",
    "    snippets = [r[\"content\"] for r in result[\"results\"] if \"content\" in r]\n",
    "    # return \"\\n\\n\".join(snippets)\n",
    "    return {\"context\": \"\\n\\n\".join(snippets), \"question\": query}"
   ]
  },
  {
   "cell_type": "markdown",
   "id": "73983e7d",
   "metadata": {},
   "source": [
    "### Initializing the RAG"
   ]
  },
  {
   "cell_type": "code",
   "execution_count": 5,
   "id": "67c5b3ec",
   "metadata": {},
   "outputs": [],
   "source": [
    "loader = DirectoryLoader(\"./data\", glob=\"./*.pdf\", loader_cls=PyPDFLoader)\n",
    "docs = loader.load()"
   ]
  },
  {
   "cell_type": "code",
   "execution_count": 6,
   "id": "3f96274d",
   "metadata": {},
   "outputs": [],
   "source": [
    "text_splitter=RecursiveCharacterTextSplitter(\n",
    "    chunk_size=500,\n",
    "    chunk_overlap=50\n",
    ")\n",
    "new_docs=text_splitter.split_documents(documents=docs)"
   ]
  },
  {
   "cell_type": "code",
   "execution_count": 7,
   "id": "ec0a2321",
   "metadata": {},
   "outputs": [],
   "source": [
    "db=Chroma.from_documents(new_docs,embeddings)\n",
    "retriever=db.as_retriever(search_kwargs={\"k\": 5})"
   ]
  },
  {
   "cell_type": "code",
   "execution_count": 8,
   "id": "f2cde7d6",
   "metadata": {},
   "outputs": [
    {
     "data": {
      "text/plain": [
       "[Document(metadata={'page_label': '6', 'creator': 'Quite Imposing 1.5d (EN)', 'page': 15, 'creationdate': '2011-10-20T17:07:34+05:30', 'source': 'data\\\\From Snapshots to Great Shots.pdf', 'moddate': '2011-12-20T10:28:13-05:00', 'total_pages': 38, 'universal pdf': 'The process that creates this PDF constitutes a trade secret of codeMantra, LLC and is protected by the copyright laws of the United States', 'author': 'Laurie Excell', 'producer': 'PyPDF', 'title': 'Wildlife Photography: From Snapshots to Great Shots', 'codemantra, llc': 'http://www.codemantra.com'}, page_content='wildlife behavior \\nwith narration \\nexplaining it at the \\nsame time.'),\n",
       " Document(metadata={'total_pages': 31, 'trapped': '/False', 'producer': 'Adobe PDF Library 15.0', 'source': 'data\\\\The Art of Wildlife Photography.pdf', 'creator': 'Adobe InDesign 15.0 (Macintosh)', 'moddate': '2019-11-29T14:01:41+10:00', 'page': 29, 'page_label': '30', 'creationdate': '2019-11-29T14:01:35+10:00'}, page_content='acting naturally. You are therefore rewarded by getting the shots you had hoped for. \\nBy observing wildlife behaviour beforehand, you will also be more attuned to how that individual may react \\nat certain times.\\nIn short, please strive to have minimal or no impact on the wildlife you are photographing and the \\nenvironment they live in.'),\n",
       " Document(metadata={'moddate': '2019-11-29T14:01:41+10:00', 'producer': 'Adobe PDF Library 15.0', 'creator': 'Adobe InDesign 15.0 (Macintosh)', 'creationdate': '2019-11-29T14:01:35+10:00', 'page': 19, 'trapped': '/False', 'total_pages': 31, 'page_label': '20', 'source': 'data\\\\The Art of Wildlife Photography.pdf'}, page_content='If you enjoy photographing wildlife and are looking to capture behaviour shots, one of the most important \\nthings to remember is patience. After 23 years of wildlife photography, I have spent hours, days and even \\nweeks (often sitting in a confined, camouflaged hide), waiting for THE moment to press the shutter button. \\nI have never looked back and thought “that wasn’t worth it”. The longer you wait for a particular behaviour'),\n",
       " Document(metadata={'source': 'data\\\\From Snapshots to Great Shots.pdf', 'page_label': '11', 'universal pdf': 'The process that creates this PDF constitutes a trade secret of codeMantra, LLC and is protected by the copyright laws of the United States', 'author': 'Laurie Excell', 'total_pages': 38, 'moddate': '2011-12-20T10:28:13-05:00', 'codemantra, llc': 'http://www.codemantra.com', 'page': 20, 'creator': 'Quite Imposing 1.5d (EN)', 'title': 'Wildlife Photography: From Snapshots to Great Shots', 'producer': 'PyPDF', 'creationdate': '2011-10-20T17:07:34+05:30'}, page_content='you pursue. Be alert, obey the rules, and pay attention to signs that warn you of pos-\\nsible danger (Figure 4.5).\\nFIgure 4.5\\nSigns are put in \\nplace to warn of \\npossible danger \\nfrom wildlife. \\nBy paying care-\\nful attention to \\nthem, you can \\navoid unpleasant, \\nif not dangerous, \\nsituations.'),\n",
       " Document(metadata={'moddate': '2011-12-20T10:28:13-05:00', 'page_label': 'ix', 'codemantra, llc': 'http://www.codemantra.com', 'total_pages': 38, 'page': 9, 'author': 'Laurie Excell', 'creator': 'Quite Imposing 1.5d (EN)', 'title': 'Wildlife Photography: From Snapshots to Great Shots', 'producer': 'PyPDF', 'creationdate': '2011-10-20T17:07:34+05:30', 'universal pdf': 'The process that creates this PDF constitutes a trade secret of codeMantra, LLC and is protected by the copyright laws of the United States', 'source': 'data\\\\From Snapshots to Great Shots.pdf'}, page_content='ix\\nIntroduction\\nAnyone can take a snapshot of a wild animal or bird. It takes observing, patience, practice, \\nperseverance, and most important, time behind the camera along with the right equipment \\nto take your photography to greater heights and make great wildlife shots! \\nThis book begins by illustrating the fact that you don’t have to have the biggest and baddest, \\nhigh-performance cameras and lenses to make great wildlife images. In Chapter 1, I cover')]"
      ]
     },
     "execution_count": 8,
     "metadata": {},
     "output_type": "execute_result"
    }
   ],
   "source": [
    "retriever.invoke(\"How to capture a Behavior of a wildlife\")"
   ]
  },
  {
   "cell_type": "markdown",
   "id": "8842189c",
   "metadata": {},
   "source": [
    "### Creating the Pydantic Topic Selection Output Parser"
   ]
  },
  {
   "cell_type": "code",
   "execution_count": 9,
   "id": "2d4e85df",
   "metadata": {},
   "outputs": [],
   "source": [
    "class TopicSelectionParser(BaseModel):\n",
    "    Topic: str=Field(description=\"Selected Topic\")\n",
    "    Reasoning: str=Field(description=\"Reasoining behind topic selection\")"
   ]
  },
  {
   "cell_type": "code",
   "execution_count": 10,
   "id": "8cce38e0",
   "metadata": {},
   "outputs": [
    {
     "data": {
      "text/plain": [
       "'The output should be formatted as a JSON instance that conforms to the JSON schema below.\\n\\nAs an example, for the schema {\"properties\": {\"foo\": {\"title\": \"Foo\", \"description\": \"a list of strings\", \"type\": \"array\", \"items\": {\"type\": \"string\"}}}, \"required\": [\"foo\"]}\\nthe object {\"foo\": [\"bar\", \"baz\"]} is a well-formatted instance of the schema. The object {\"properties\": {\"foo\": [\"bar\", \"baz\"]}} is not well-formatted.\\n\\nHere is the output schema:\\n```\\n{\"properties\": {\"Topic\": {\"description\": \"Selected Topic\", \"title\": \"Topic\", \"type\": \"string\"}, \"Reasoning\": {\"description\": \"Reasoining behind topic selection\", \"title\": \"Reasoning\", \"type\": \"string\"}}, \"required\": [\"Topic\", \"Reasoning\"]}\\n```'"
      ]
     },
     "execution_count": 10,
     "metadata": {},
     "output_type": "execute_result"
    }
   ],
   "source": [
    "supervisor_parser = PydanticOutputParser(pydantic_object=TopicSelectionParser)\n",
    "supervisor_parser.get_format_instructions()"
   ]
  },
  {
   "cell_type": "markdown",
   "id": "3caf4fa8",
   "metadata": {},
   "source": [
    "### Creating the State Schema"
   ]
  },
  {
   "cell_type": "code",
   "execution_count": 11,
   "id": "b438d7b1",
   "metadata": {},
   "outputs": [],
   "source": [
    "class AgentState(TypedDict):\n",
    "    messages: Annotated[Sequence[BaseMessage], operator.add]\n",
    "    contexts: Annotated[Sequence[BaseMessage], operator.add] | None"
   ]
  },
  {
   "cell_type": "markdown",
   "id": "4649e65b",
   "metadata": {},
   "source": [
    "### Node Functions"
   ]
  },
  {
   "cell_type": "code",
   "execution_count": 12,
   "id": "e8d1f31d",
   "metadata": {},
   "outputs": [],
   "source": [
    "def function_supervisor(state:AgentState):\n",
    "    print(\"-> Inside Supervisor Function <-\")\n",
    "    question = state[\"messages\"][-1]\n",
    "    # print(f\"Question: {question}\")\n",
    "\n",
    "    superviser_template = \"\"\"\n",
    "    You are an expert in wildlife photography. Your task is to classify the user's query into one of the following categories: \n",
    "    [Unrelated, Wildlife Photography, real-time info]\n",
    "\n",
    "    only respond with the category name and nothing more than that.\n",
    "\n",
    "    User Query: {question}\n",
    "    {format_output}\n",
    "    \"\"\"\n",
    "\n",
    "    supervisor_prompt = PromptTemplate(\n",
    "        template=superviser_template,\n",
    "        input_variables=[\"question\"],\n",
    "        partial_variables={\"format_output\":supervisor_parser.get_format_instructions()}\n",
    "    )\n",
    "\n",
    "    supervisor_chain = supervisor_prompt | llm | supervisor_parser\n",
    "    response = supervisor_chain.invoke({\"question\":question})\n",
    "\n",
    "    print(\"Parsed response\", response)\n",
    "    return {\"messages\": [response.Topic]}\n",
    "\n",
    "def function_llm(state:AgentState):\n",
    "    print(\"-> Inside LLM Node <-\")\n",
    "    question = state[\"messages\"][0]\n",
    "    \n",
    "    # Normal LLM call\n",
    "    llm_template=\"\"\"\n",
    "    You are an assistant for question-answering tasks. \n",
    "\n",
    "    Provide a clear and concise response to the following user questions.\n",
    "    User Query: {question}\n",
    "    \"\"\"\n",
    "    llm_prompt=PromptTemplate(\n",
    "        template=llm_template,\n",
    "        input_variables=[\"question\"]\n",
    "    )\n",
    "    llm_chain = llm_prompt | llm | StrOutputParser()\n",
    "    response = llm_chain.invoke({\"question\":question})\n",
    "    return {\"messages\": [response]}\n",
    "\n",
    "def format_docs(docs):\n",
    "    return \"\\n\\n\".join(doc.page_content for doc in docs)\n",
    "\n",
    "def function_rag(state:AgentState):\n",
    "    print(\"-> Inside RAG Node <-\")\n",
    "    question = state[\"messages\"][0]\n",
    "\n",
    "    rag_template=\"\"\"\n",
    "    You are a highly knowledgeable and reliable assistant having an extensive knowledge in wildlife photography. \n",
    "        \n",
    "    Using the following pieces of retrieved context from the contexts, provide a clear and concise response to the user's question.\n",
    "    If you don't know the answer, just say that you don't know. \n",
    "    \n",
    "    Question: {question} \n",
    "    Context: {context} \n",
    "    Answer:\n",
    "    \"\"\"\n",
    "    rag_prompt=PromptTemplate(\n",
    "        template=rag_template,\n",
    "        input_variables=[\"question\"]\n",
    "    )\n",
    "\n",
    "    # context = format_docs(retriever.invoke(question))\n",
    "    \n",
    "    rag_chain = (\n",
    "        {\"context\": retriever | format_docs, \"question\": RunnablePassthrough()}\n",
    "        | rag_prompt\n",
    "        | llm\n",
    "        | StrOutputParser()\n",
    "    )\n",
    "    response = rag_chain.invoke(question)\n",
    "    # print(response)\n",
    "    return {\"messages\": [response],\n",
    "            \"contexts\": [format_docs(retriever.invoke(question))]}\n",
    "\n",
    "def function_web_crawl(state:AgentState):\n",
    "    print(\"-> Inside Web Crawler <-\")\n",
    "    question = state[\"messages\"][0]\n",
    "\n",
    "    web_crawl_template=\"\"\"\n",
    "    You are an assistant with extensive knowledge about current affairs. \n",
    "    Using the following pieces of retrieved context from internet, provide a clear and concise response to the user's question.\n",
    "    \n",
    "    Question: {question}\n",
    "    Context: {context}\n",
    "    Answer:\n",
    "    \"\"\"\n",
    "    web_crawl_prompt=PromptTemplate(\n",
    "        template=web_crawl_template,\n",
    "        input_variables=[\"question\"]\n",
    "    )\n",
    "\n",
    "    web_crawl_chain = (\n",
    "        RunnableLambda(web_retriever)\n",
    "        | web_crawl_prompt\n",
    "        | llm\n",
    "        | StrOutputParser()\n",
    "    )\n",
    "    response = web_crawl_chain.invoke(question)\n",
    "    return {\"messages\": [response],\n",
    "            \"contexts\": [web_retriever(question)[\"context\"]]}\n",
    "\n",
    "def function_final_output(state:AgentState):\n",
    "    final_response = state[\"messages\"][-2]\n",
    "    print(f\"Final response: {final_response}\")\n",
    "    return {\"messages\": [final_response]}"
   ]
  },
  {
   "cell_type": "code",
   "execution_count": 13,
   "id": "5a880b5a",
   "metadata": {},
   "outputs": [
    {
     "name": "stdout",
     "output_type": "stream",
     "text": [
      "-> Inside RAG Node <-\n"
     ]
    },
    {
     "data": {
      "text/plain": [
       "{'messages': ['To capture wildlife behavior, patience is key.  Spend time observing the animal beforehand to understand its habits and reactions.  Wait for the right moment to take the shot, minimizing your impact on the animal and its environment. \\n'],\n",
       " 'contexts': ['wildlife behavior \\nwith narration \\nexplaining it at the \\nsame time.\\n\\nacting naturally. You are therefore rewarded by getting the shots you had hoped for. \\nBy observing wildlife behaviour beforehand, you will also be more attuned to how that individual may react \\nat certain times.\\nIn short, please strive to have minimal or no impact on the wildlife you are photographing and the \\nenvironment they live in.\\n\\nyou pursue. Be alert, obey the rules, and pay attention to signs that warn you of pos-\\nsible danger (Figure 4.5).\\nFIgure 4.5\\nSigns are put in \\nplace to warn of \\npossible danger \\nfrom wildlife. \\nBy paying care-\\nful attention to \\nthem, you can \\navoid unpleasant, \\nif not dangerous, \\nsituations.\\n\\nIf you enjoy photographing wildlife and are looking to capture behaviour shots, one of the most important \\nthings to remember is patience. After 23 years of wildlife photography, I have spent hours, days and even \\nweeks (often sitting in a confined, camouflaged hide), waiting for THE moment to press the shutter button. \\nI have never looked back and thought “that wasn’t worth it”. The longer you wait for a particular behaviour\\n\\nto lessen impact.\\nSocial: knowledge of rules and laws\\n•\\t When appropriate, inform managers or other authorities of your presence and pur-\\npose—help minimize cumulative impacts and maintain safety.\\n•\\t Learn the rules and laws of the location—if minimum distances exist for approaching \\nwildlife, follow them.\\n•\\t In the absence of management authority, use good judgment—treat the wildlife, \\nplants, and places as if you were their guest.']}"
      ]
     },
     "execution_count": 13,
     "metadata": {},
     "output_type": "execute_result"
    }
   ],
   "source": [
    "state={\"messages\":[\"How to capture a Behavior of a wildlife?\"]}\n",
    "function_rag(state)"
   ]
  },
  {
   "cell_type": "code",
   "execution_count": 14,
   "id": "297e3ebe",
   "metadata": {},
   "outputs": [
    {
     "name": "stdout",
     "output_type": "stream",
     "text": [
      "-> Inside Web Crawler <-\n",
      "{'messages': ['An Air India passenger plane crashed shortly after takeoff from Ahmedabad airport yesterday, en route to London.  The crash resulted in the deaths of 241 people on board, with only one survivor reported. \\n'], 'contexts': [\"What We Know About the Plane Crash in Ahmedabad, India - The New York Times An Air India passenger plane traveling with 242 people to London from Ahmedabad, in the western Indian state of Gujarat, crashed on Thursday. An Air India passenger plane carrying 242 people that was bound for London crashed in western India on Thursday, the airline said on social media. Flight AI171, which crashed shortly after takeoff outside of the Ahmedabad airport in the state of Gujarat, was headed for London’s Gatwick Airport, Air India said. Subscribe to The Times to read as many articles as you like. Amelia Nierenberg is a breaking news reporter for The Times in London, covering international news.\\n\\nLive updates: Plane crashes in western Indian city of Ahmedabad | CNN *   CNN10 *   About CNN Image 1: Plane crash in Ahmedabad Accident during take off at Ahmedabad airport Air India plane crashes ChaudharyParvez/XLive Updates India plane crash Image 5: Plane crash in Ahmedabad Accident during take off at Ahmedabad airport Air India plane crashes There were 242 passengers and crew members on board the Air India flight that crashed shortly after takeoff from Ahmedabad on Thursday, the airline said in a statement. Image 7: Plane crash in Ahmedabad Accident during take off at Ahmedabad airport Air India plane crashes *   CNN10 *   About CNN\\n\\nEverything we know about the Air India plane crash  Air India plane crashes in Ahmedabad Image 2: Air India Boeing Plane Crash Scene In Ahmedabad  Image 3: Map shows path of the Air India flight that crashed in Ahmedabad  Image 4: London-bound Air India plane, carrying 242 passengers, crashes in  Air India said in a statement that 241 people on the plane died in the crash. Image 5:  Video shows Air India plane crash in Ahmedabad Image 6:  Air India plane crashes with 242 on board; 1 survivor reported Image 7:  Man says he's the sole survivor of the Air India plane crash\\n\\n*   _US News_ Image 23: Ahmedabad plane crash live updates: Firefighters work at the site where an AIr India plane to Gatwick crashed in Gujarat's Ahmedabad Ahmedabad plane crash live updates: An Air India plane carrying 242 passengers crashed after takeoff in Gujarat's Ahmedabad airport. Air India plane crash LIVE: Gujarat Chief Minister Bhupendra Patel has ordered rescue and relief operations after an Air India plane crashed near Ahmedabad airport on Thursday. Ahmedabad plane crash live news: Former Gujarat CM likely on board, say reports Newsindia news Ahmedabad plane crash live updates: Former Gujarat CM likely on board; Ahmedabad airport closed *   Ahmedabad plane crash live updates: Air India plane crashes near Gujarat airport\\n\\nIndia plane crash live: Flight to Gatwick carrying 242 people crashes at Ahmedabad airport | World News | Sky News India plane crash live: Flight to Gatwick carrying 242 people crashes at Ahmedabad airport *   Flight to Gatwick crashes in Indian city of Ahmedabad - what we know so far View post More than 200 people have died in the Air India plane crash, Kanan Desai, a top city police officer, has told Reuters. The Air India flight was supposed to land in London at 6.25pm UK time, but crashed five minutes after leaving Ahmedabad airport. Images of the plane as it crashed appear to show landing gear still lowered, with some suggesting the flaps on the wings were also in the wrong position.\"]}\n"
     ]
    }
   ],
   "source": [
    "state={\"messages\":[\"What happened in Ahmedabad yestrday?\"]}\n",
    "web_crawler_state = function_web_crawl(state)\n",
    "print(web_crawler_state)"
   ]
  },
  {
   "cell_type": "markdown",
   "id": "67c4590f",
   "metadata": {},
   "source": [
    "### Creating the validation output parser"
   ]
  },
  {
   "cell_type": "code",
   "execution_count": 15,
   "id": "b4583b59",
   "metadata": {},
   "outputs": [],
   "source": [
    "class ValidationParser(BaseModel):\n",
    "    Is_Valid: bool=Field(description=\"Is the query valid or not\")\n",
    "    Reason: str=Field(description=\"Reasoining behind marking a response valid or invalid\")"
   ]
  },
  {
   "cell_type": "code",
   "execution_count": 16,
   "id": "ffc745a1",
   "metadata": {},
   "outputs": [
    {
     "data": {
      "text/plain": [
       "'The output should be formatted as a JSON instance that conforms to the JSON schema below.\\n\\nAs an example, for the schema {\"properties\": {\"foo\": {\"title\": \"Foo\", \"description\": \"a list of strings\", \"type\": \"array\", \"items\": {\"type\": \"string\"}}}, \"required\": [\"foo\"]}\\nthe object {\"foo\": [\"bar\", \"baz\"]} is a well-formatted instance of the schema. The object {\"properties\": {\"foo\": [\"bar\", \"baz\"]}} is not well-formatted.\\n\\nHere is the output schema:\\n```\\n{\"properties\": {\"Is_Valid\": {\"description\": \"Is the query valid or not\", \"title\": \"Is Valid\", \"type\": \"boolean\"}, \"Reason\": {\"description\": \"Reasoining behind marking a response valid or invalid\", \"title\": \"Reason\", \"type\": \"string\"}}, \"required\": [\"Is_Valid\", \"Reason\"]}\\n```'"
      ]
     },
     "execution_count": 16,
     "metadata": {},
     "output_type": "execute_result"
    }
   ],
   "source": [
    "validator_parser = PydanticOutputParser(pydantic_object=ValidationParser)\n",
    "validator_parser.get_format_instructions()"
   ]
  },
  {
   "cell_type": "code",
   "execution_count": 17,
   "id": "2e2daec9",
   "metadata": {},
   "outputs": [],
   "source": [
    "# from transformers import AutoTokenizer, AutoModelForSequenceClassification, pipeline\n",
    "# import torch\n",
    "\n",
    "# model_name = \"microsoft/deberta-large-mnli\"\n",
    "# model_name = \"facebook/bart-large-mnli\"\n",
    "# tokenizer = AutoTokenizer.from_pretrained(model_name)\n",
    "# model = AutoModelForSequenceClassification.from_pretrained(model_name)\n",
    "# nli_pipeline = pipeline(\"text-classification\", model=model_name)\n",
    "\n",
    "# def get_entailement_score(sentence1, sentence2):\n",
    "#         inputs = tokenizer.encode_plus(sentence1, sentence2, return_tensors=\"pt\", truncation=True)\n",
    "#         outputs = model(**inputs)\n",
    "#         logits = outputs.logits\n",
    "#         probs = torch.softmax(logits, dim=1).detach().numpy()[0]\n",
    "#         entailment_confidence = probs[2]  # Index 2 is entailment\n",
    "#         return entailment_confidence\n",
    "\n",
    "validator_rag_response_template = \"\"\"\n",
    "You are an expert tasked with evaluating the quality of AI-generated responses. \n",
    "The query, the response and the contexts are given, \n",
    "Your evaluation should be thorough and based on the following evaluation criteria:\n",
    "\n",
    "Evaluation Criteria:  \n",
    "1. Relevance to Query: Does the response directly address the query and relevant to the question topic?  \n",
    "2. Factual Accuracy: Is response factually correct and supported by evidence or reliable knowledge?  \n",
    "3. Completeness: Does the response fully answer the query, covering all necessary aspects without omitting key details?  \n",
    "4. Source Citation: If sources are mentioned, are they credible, relevant, and properly cited with clear attribution?\n",
    "\n",
    "\n",
    "Query: {query}\n",
    "Context: {context}\n",
    "\n",
    "Response: {intermediate_response}\n",
    "\n",
    "{format_output}\n",
    "\"\"\"\n",
    "\n",
    "validator_llm_response_template = \"\"\"\n",
    "You are an expert tasked with evaluating the quality of AI-generated responses. \n",
    "Your evaluation should be thorough and based on the following evaluation criteria:\n",
    "\n",
    "Evaluation Criteria:  \n",
    "1. Relevance to Query: Does the response directly address the query and relevant to the question topic?  \n",
    "2. Factual Accuracy: Is response factually correct and supported by evidence or reliable knowledge?  \n",
    "3. Completeness: Does the response fully answer the query, covering all necessary aspects without omitting key details?  \n",
    "4. Source Citation: If sources are mentioned, are they credible, relevant, and properly cited with clear attribution?\n",
    "\n",
    "\n",
    "Query: {query}\n",
    "\n",
    "Response: {intermediate_response}\n",
    "\n",
    "{format_output}\n",
    "\"\"\"\n",
    "\n",
    "validator_rag_response_prompt = PromptTemplate(\n",
    "    template=validator_rag_response_template,\n",
    "    input_variables=[\"query\",\"context\",\"intermediate_response\"],\n",
    "    partial_variables={\"format_output\":validator_parser.get_format_instructions()}\n",
    ")\n",
    "\n",
    "validator_llm_response_prompt = PromptTemplate(\n",
    "    template=validator_llm_response_template,\n",
    "    input_variables=[\"query\",\"intermediate_response\"],\n",
    "    partial_variables={\"format_output\":validator_parser.get_format_instructions()}\n",
    ")\n",
    "\n",
    "def function_validation(state:AgentState):\n",
    "    print(\"-> Inside Function Validator <-\")\n",
    "    question = state[\"messages\"][0]\n",
    "    answer = state[\"messages\"][-1]\n",
    "    context = state[\"contexts\"]\n",
    "    print(f\"context: {context}\")\n",
    "    if not context:\n",
    "        print(\"Context is empty\")\n",
    "        validator_llm_chain = validator_llm_response_prompt | llm | validator_parser\n",
    "        response = validator_llm_chain.invoke({\n",
    "        \"query\": question,\n",
    "        \"intermediate_response\": answer\n",
    "        })\n",
    "    else:\n",
    "        print(\"Context is not empty\")\n",
    "        validator_rag_chain = validator_rag_response_prompt | llm | validator_parser\n",
    "        response = validator_rag_chain.invoke({\n",
    "            \"query\": question,\n",
    "            \"context\": context,\n",
    "            \"intermediate_response\": answer\n",
    "            })\n",
    "    return {\"messages\": [response.Is_Valid]}\n",
    "\n"
   ]
  },
  {
   "cell_type": "markdown",
   "id": "4753c6a7",
   "metadata": {},
   "source": [
    "### Router Function"
   ]
  },
  {
   "cell_type": "code",
   "execution_count": 19,
   "id": "9770be61",
   "metadata": {},
   "outputs": [],
   "source": [
    "def function_router(state:AgentState):\n",
    "    print(\"-> Inside Function Router <-\")\n",
    "\n",
    "    last_message = state[\"messages\"][-1]\n",
    "    print(f\"last_message: {last_message}\")\n",
    "\n",
    "    if \"wildlife photography\" in last_message.lower():\n",
    "        return \"RAG Call\"\n",
    "    elif \"unrelated\" in last_message.lower():\n",
    "        return \"LLM Call\"\n",
    "    else:\n",
    "        return \"Web Crawler Call\""
   ]
  },
  {
   "cell_type": "code",
   "execution_count": 20,
   "id": "ac6e930f",
   "metadata": {},
   "outputs": [],
   "source": [
    "def validation_router(state:AgentState):\n",
    "    print(\"-> Inside ValidationRouter <-\")\n",
    "\n",
    "    validation_message = state[\"messages\"][-1]\n",
    "    print(f\"last_message: {validation_message}\")\n",
    "\n",
    "    if not validation_message:\n",
    "        return False\n",
    "    else:\n",
    "        return True"
   ]
  },
  {
   "cell_type": "code",
   "execution_count": 21,
   "id": "67aba2bc",
   "metadata": {},
   "outputs": [],
   "source": [
    "from langgraph.graph import StateGraph, END\n",
    "workflow = StateGraph(AgentState)\n",
    "workflow.add_node('Supervisor', function_supervisor)\n",
    "workflow.add_node('RAG', function_rag)\n",
    "workflow.add_node('LLM', function_llm)\n",
    "workflow.add_node('Web Crawler', function_web_crawl)\n",
    "workflow.add_node(\"Validator\", function_validation)\n",
    "workflow.add_node(\"Final Output\", function_final_output)\n",
    "workflow.set_entry_point('Supervisor')\n",
    "workflow.add_conditional_edges(\n",
    "    'Supervisor',\n",
    "    function_router,\n",
    "    {\n",
    "        \"RAG Call\":\"RAG\",\n",
    "        \"LLM Call\":\"LLM\",\n",
    "        \"Web Crawler Call\":\"Web Crawler\"\n",
    "    }\n",
    ")\n",
    "workflow.add_conditional_edges(\n",
    "    'Validator',\n",
    "    validation_router,\n",
    "    {\n",
    "        False: \"Supervisor\",\n",
    "        True: \"Final Output\"\n",
    "    }\n",
    ")\n",
    "workflow.add_edge(\"RAG\", \"Validator\")\n",
    "workflow.add_edge(\"LLM\", \"Validator\")\n",
    "workflow.add_edge(\"Web Crawler\", \"Validator\")\n",
    "workflow.set_finish_point(\"Final Output\")\n",
    "app = workflow.compile()"
   ]
  },
  {
   "cell_type": "markdown",
   "id": "df956b53",
   "metadata": {},
   "source": [
    "### View Workflow Diagram"
   ]
  },
  {
   "cell_type": "code",
   "execution_count": 22,
   "id": "3cb0b304",
   "metadata": {},
   "outputs": [
    {
     "data": {
      "image/png": "[encoded data removed]",
      "text/plain": [
       "<IPython.core.display.Image object>"
      ]
     },
     "metadata": {},
     "output_type": "display_data"
    }
   ],
   "source": [
    "from IPython.display import Image, display\n",
    "display(Image(app.get_graph().draw_mermaid_png()))"
   ]
  },
  {
   "cell_type": "code",
   "execution_count": 23,
   "id": "b02da29b",
   "metadata": {},
   "outputs": [
    {
     "name": "stdout",
     "output_type": "stream",
     "text": [
      "-> Inside Supervisor Function <-\n",
      "Parsed response Topic='Wildlife Photography' Reasoning='The query asks about a fundamental photographic concept, framing, which is relevant to wildlife photography.'\n",
      "-> Inside Function Router <-\n",
      "last_message: Wildlife Photography\n",
      "-> Inside RAG Node <-\n",
      "-> Inside Function Validator <-\n",
      "context: ['Contents  vii\\nUsing Lines, Shapes, and Patterns 158\\nFraming Your Subject 162\\nCreating Perspective 162\\nConcealing to Draw Attention 164\\nFrame Filling vs. Environmental Shots 165\\nIncorporating Background 167\\nApplying the Rule of Thirds 169\\nChapter Assignments 171\\nChapter 8: Beyond the Bas ICs 17 3\\nGoing Beyond the Basics for Creative Control  \\nover Your Images\\nPoring Over the Picture 174\\nPoring Over the Picture 176\\nCreative Use of Exposur\\ne Compensation 178\\nWhen to Use Manual Exposure  180\\n\\nstyle. The lens you use (see Chapter 2, “Camera Settings and Shooting Techniques”) \\nplays a big part in the types of wildlife photographs you make. How close you are \\nable to legally and comfortably approach your subject also impacts the type of image \\nyou capture. The location and season (see Chapter 5, “Location, Location, Location”) \\nyou choose contributes to the types of behavior you are able to photograph, as does \\nyour proficiency with your camera. \\nenvironmentAL Portr A its\\n\\nenvironmentAL Portr A its\\nEnvironmental portraits include your subject in its surroundings, adding a storytell-\\ning element to your photographs. Images that show habitat provide additional \\ninformation about the life of your subject and its habitat to those who view them. \\nAdditionally, they add a sense of scale between the subject and its world. You may \\nfind that your preferred style of photography leans towards including more of the\\n\\nenvironment, or you might be constrained to capture the overall scene due to the \\nlack of extreme focal length (400–600mm). The same elements that go into making a \\ngreat landscape image also make great environmental portraits—from lens selection \\nto composition to depth of field. While photographing a Harbor seal in Alaska, I used \\na mid-range aperture to increase the depth of field, showing more detail in the back-\\n\\nPhotographers often capture images of wildlife that fit into the ‘normal’ rules of photography. Their aim is to \\nproduce the perfect replica of what they are seeing. There is nothing wrong with this style of photography, \\nbut why not trying things that are different and don’t fit into any distinct category?\\nSo what is wildlife abstract photography? It’s a way of portraying the subject, or subjects, that are outside']\n",
      "Context is not empty\n",
      "-> Inside ValidationRouter <-\n",
      "last_message: True\n",
      "Final response: Framing in photography is the technique of using elements within the scene to create a boundary or focus around your subject. \n",
      "\n",
      "\n",
      "\n"
     ]
    },
    {
     "data": {
      "text/plain": [
       "{'messages': ['What is framing in photography?',\n",
       "  'Wildlife Photography',\n",
       "  'Framing in photography is the technique of using elements within the scene to create a boundary or focus around your subject. \\n\\n\\n',\n",
       "  True,\n",
       "  'Framing in photography is the technique of using elements within the scene to create a boundary or focus around your subject. \\n\\n\\n'],\n",
       " 'contexts': ['Contents  vii\\nUsing Lines, Shapes, and Patterns 158\\nFraming Your Subject 162\\nCreating Perspective 162\\nConcealing to Draw Attention 164\\nFrame Filling vs. Environmental Shots 165\\nIncorporating Background 167\\nApplying the Rule of Thirds 169\\nChapter Assignments 171\\nChapter 8: Beyond the Bas ICs 17 3\\nGoing Beyond the Basics for Creative Control  \\nover Your Images\\nPoring Over the Picture 174\\nPoring Over the Picture 176\\nCreative Use of Exposur\\ne Compensation 178\\nWhen to Use Manual Exposure  180\\n\\nstyle. The lens you use (see Chapter 2, “Camera Settings and Shooting Techniques”) \\nplays a big part in the types of wildlife photographs you make. How close you are \\nable to legally and comfortably approach your subject also impacts the type of image \\nyou capture. The location and season (see Chapter 5, “Location, Location, Location”) \\nyou choose contributes to the types of behavior you are able to photograph, as does \\nyour proficiency with your camera. \\nenvironmentAL Portr A its\\n\\nenvironmentAL Portr A its\\nEnvironmental portraits include your subject in its surroundings, adding a storytell-\\ning element to your photographs. Images that show habitat provide additional \\ninformation about the life of your subject and its habitat to those who view them. \\nAdditionally, they add a sense of scale between the subject and its world. You may \\nfind that your preferred style of photography leans towards including more of the\\n\\nenvironment, or you might be constrained to capture the overall scene due to the \\nlack of extreme focal length (400–600mm). The same elements that go into making a \\ngreat landscape image also make great environmental portraits—from lens selection \\nto composition to depth of field. While photographing a Harbor seal in Alaska, I used \\na mid-range aperture to increase the depth of field, showing more detail in the back-\\n\\nPhotographers often capture images of wildlife that fit into the ‘normal’ rules of photography. Their aim is to \\nproduce the perfect replica of what they are seeing. There is nothing wrong with this style of photography, \\nbut why not trying things that are different and don’t fit into any distinct category?\\nSo what is wildlife abstract photography? It’s a way of portraying the subject, or subjects, that are outside']}"
      ]
     },
     "execution_count": 23,
     "metadata": {},
     "output_type": "execute_result"
    }
   ],
   "source": [
    "state={\"messages\":[\"What is framing in photography?\"]}\n",
    "app.invoke(state)"
   ]
  }
 ],
 "metadata": {
  "kernelspec": {
   "display_name": "Python 3",
   "language": "python",
   "name": "python3"
  },
  "language_info": {
   "codemirror_mode": {
    "name": "ipython",
    "version": 3
   },
   "file_extension": ".py",
   "mimetype": "text/x-python",
   "name": "python",
   "nbconvert_exporter": "python",
   "pygments_lexer": "ipython3",
   "version": "3.13.0"
  }
 },
 "nbformat": 4,
 "nbformat_minor": 5
}
