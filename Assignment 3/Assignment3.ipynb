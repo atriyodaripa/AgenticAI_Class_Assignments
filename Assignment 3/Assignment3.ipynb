{
 "cells": [
  {
   "cell_type": "code",
   "execution_count": 77,
   "id": "57111704",
   "metadata": {},
   "outputs": [],
   "source": [
    "import operator\n",
    "import os\n",
    "from dotenv import load_dotenv\n",
    "load_dotenv()\n",
    "from pydantic import BaseModel, Field\n",
    "from typing import TypedDict, Annotated, Sequence\n",
    "from langchain_huggingface import HuggingFaceEmbeddings\n",
    "from langchain_core.messages import BaseMessage\n",
    "from langchain.output_parsers import PydanticOutputParser\n",
    "from langchain.prompts import PromptTemplate\n",
    "from langchain_groq import ChatGroq\n",
    "from langchain_tavily import TavilySearch\n",
    "from langchain_core.runnables import RunnablePassthrough, RunnableLambda\n",
    "from langchain_core.output_parsers import StrOutputParser\n",
    "from langchain_community.document_loaders import PyPDFLoader, DirectoryLoader\n",
    "from langchain_community.vectorstores import Chroma\n",
    "from langchain.text_splitter import RecursiveCharacterTextSplitter\n"
   ]
  },
  {
   "cell_type": "code",
   "execution_count": 23,
   "id": "f6f4e50e",
   "metadata": {},
   "outputs": [],
   "source": [
    "## Getting Groq API key\n",
    "os.environ[\"GROQ_API_KEY\"]=os.getenv(\"GROQ_API_KEY\")\n",
    "## Getting TAVILY API key\n",
    "os.environ[\"TAVILY_API_KEY\"]=os.getenv(\"TAVILY_API_KEY\")\n",
    "# print(os.getenv(\"TAVILY_API_KEY\"))\n",
    "\n",
    "EMBEDDING_MODEL = \"all-MiniLM-L6-v2\"\n",
    "INFERENCE_MODEL = \"gemma2-9b-it\""
   ]
  },
  {
   "cell_type": "markdown",
   "id": "4add0b39",
   "metadata": {},
   "source": [
    "### Initializing the LLM, Embeddings and the Tavily Web Crawler"
   ]
  },
  {
   "cell_type": "code",
   "execution_count": 68,
   "id": "3c995354",
   "metadata": {},
   "outputs": [],
   "source": [
    "llm = ChatGroq(model=INFERENCE_MODEL, temperature=0.3)\n",
    "# print('--------Creating the response from llm based on contexts--------')\n",
    "\n",
    "embeddings = HuggingFaceEmbeddings(model_name=EMBEDDING_MODEL)\n",
    "len(embeddings.embed_query('Hi'))\n",
    "\n",
    "# Initialize Tavily tool\n",
    "tavily_tool = TavilySearch(max_results=5, topic=\"news\")\n"
   ]
  },
  {
   "cell_type": "markdown",
   "id": "f3b4c9d1",
   "metadata": {},
   "source": [
    "### Initializing the Web Crawler Retriever Function"
   ]
  },
  {
   "cell_type": "code",
   "execution_count": 91,
   "id": "93555a0b",
   "metadata": {},
   "outputs": [],
   "source": [
    "def web_retriever(query):\n",
    "    # query = inputs[\"question\"]\n",
    "    result = tavily_tool.invoke({\"query\": query})\n",
    "    snippets = [r[\"content\"] for r in result[\"results\"] if \"content\" in r]\n",
    "    # return \"\\n\\n\".join(snippets)\n",
    "    return {\"context\": \"\\n\\n\".join(snippets), \"question\": query}"
   ]
  },
  {
   "cell_type": "markdown",
   "id": "73983e7d",
   "metadata": {},
   "source": [
    "### Initializing the RAG"
   ]
  },
  {
   "cell_type": "code",
   "execution_count": 78,
   "id": "67c5b3ec",
   "metadata": {},
   "outputs": [],
   "source": [
    "loader = DirectoryLoader(\"./data\", glob=\"./*.pdf\", loader_cls=PyPDFLoader)\n",
    "docs = loader.load()"
   ]
  },
  {
   "cell_type": "code",
   "execution_count": 80,
   "id": "3f96274d",
   "metadata": {},
   "outputs": [],
   "source": [
    "text_splitter=RecursiveCharacterTextSplitter(\n",
    "    chunk_size=500,\n",
    "    chunk_overlap=50\n",
    ")\n",
    "new_docs=text_splitter.split_documents(documents=docs)"
   ]
  },
  {
   "cell_type": "code",
   "execution_count": 81,
   "id": "ec0a2321",
   "metadata": {},
   "outputs": [],
   "source": [
    "db=Chroma.from_documents(new_docs,embeddings)\n",
    "retriever=db.as_retriever(search_kwargs={\"k\": 5})"
   ]
  },
  {
   "cell_type": "code",
   "execution_count": 82,
   "id": "f2cde7d6",
   "metadata": {},
   "outputs": [
    {
     "data": {
      "text/plain": [
       "[Document(metadata={'producer': 'PyPDF', 'creator': 'Quite Imposing 1.5d (EN)', 'page': 15, 'total_pages': 38, 'creationdate': '2011-10-20T17:07:34+05:30', 'author': 'Laurie Excell', 'moddate': '2011-12-20T10:28:13-05:00', 'universal pdf': 'The process that creates this PDF constitutes a trade secret of codeMantra, LLC and is protected by the copyright laws of the United States', 'page_label': '6', 'title': 'Wildlife Photography: From Snapshots to Great Shots', 'source': 'data\\\\From Snapshots to Great Shots.pdf', 'codemantra, llc': 'http://www.codemantra.com'}, page_content='wildlife behavior \\nwith narration \\nexplaining it at the \\nsame time.'),\n",
       " Document(metadata={'source': 'data\\\\The Art of Wildlife Photography.pdf', 'page': 29, 'moddate': '2019-11-29T14:01:41+10:00', 'page_label': '30', 'creationdate': '2019-11-29T14:01:35+10:00', 'total_pages': 31, 'trapped': '/False', 'creator': 'Adobe InDesign 15.0 (Macintosh)', 'producer': 'Adobe PDF Library 15.0'}, page_content='acting naturally. You are therefore rewarded by getting the shots you had hoped for. \\nBy observing wildlife behaviour beforehand, you will also be more attuned to how that individual may react \\nat certain times.\\nIn short, please strive to have minimal or no impact on the wildlife you are photographing and the \\nenvironment they live in.'),\n",
       " Document(metadata={'creationdate': '2019-11-29T14:01:35+10:00', 'page_label': '20', 'trapped': '/False', 'total_pages': 31, 'creator': 'Adobe InDesign 15.0 (Macintosh)', 'page': 19, 'producer': 'Adobe PDF Library 15.0', 'moddate': '2019-11-29T14:01:41+10:00', 'source': 'data\\\\The Art of Wildlife Photography.pdf'}, page_content='If you enjoy photographing wildlife and are looking to capture behaviour shots, one of the most important \\nthings to remember is patience. After 23 years of wildlife photography, I have spent hours, days and even \\nweeks (often sitting in a confined, camouflaged hide), waiting for THE moment to press the shutter button. \\nI have never looked back and thought “that wasn’t worth it”. The longer you wait for a particular behaviour'),\n",
       " Document(metadata={'author': 'Laurie Excell', 'total_pages': 38, 'producer': 'PyPDF', 'title': 'Wildlife Photography: From Snapshots to Great Shots', 'moddate': '2011-12-20T10:28:13-05:00', 'codemantra, llc': 'http://www.codemantra.com', 'page_label': '11', 'source': 'data\\\\From Snapshots to Great Shots.pdf', 'creator': 'Quite Imposing 1.5d (EN)', 'creationdate': '2011-10-20T17:07:34+05:30', 'page': 20, 'universal pdf': 'The process that creates this PDF constitutes a trade secret of codeMantra, LLC and is protected by the copyright laws of the United States'}, page_content='you pursue. Be alert, obey the rules, and pay attention to signs that warn you of pos-\\nsible danger (Figure 4.5).\\nFIgure 4.5\\nSigns are put in \\nplace to warn of \\npossible danger \\nfrom wildlife. \\nBy paying care-\\nful attention to \\nthem, you can \\navoid unpleasant, \\nif not dangerous, \\nsituations.'),\n",
       " Document(metadata={'codemantra, llc': 'http://www.codemantra.com', 'page': 9, 'source': 'data\\\\From Snapshots to Great Shots.pdf', 'title': 'Wildlife Photography: From Snapshots to Great Shots', 'total_pages': 38, 'creationdate': '2011-10-20T17:07:34+05:30', 'moddate': '2011-12-20T10:28:13-05:00', 'universal pdf': 'The process that creates this PDF constitutes a trade secret of codeMantra, LLC and is protected by the copyright laws of the United States', 'author': 'Laurie Excell', 'producer': 'PyPDF', 'page_label': 'ix', 'creator': 'Quite Imposing 1.5d (EN)'}, page_content='ix\\nIntroduction\\nAnyone can take a snapshot of a wild animal or bird. It takes observing, patience, practice, \\nperseverance, and most important, time behind the camera along with the right equipment \\nto take your photography to greater heights and make great wildlife shots! \\nThis book begins by illustrating the fact that you don’t have to have the biggest and baddest, \\nhigh-performance cameras and lenses to make great wildlife images. In Chapter 1, I cover')]"
      ]
     },
     "execution_count": 82,
     "metadata": {},
     "output_type": "execute_result"
    }
   ],
   "source": [
    "retriever.invoke(\"How to capture a Behavior of a wildlife\")"
   ]
  },
  {
   "cell_type": "markdown",
   "id": "8842189c",
   "metadata": {},
   "source": [
    "### Creating the Pydantic Output Parser"
   ]
  },
  {
   "cell_type": "code",
   "execution_count": 8,
   "id": "2d4e85df",
   "metadata": {},
   "outputs": [],
   "source": [
    "class TopicSelectionParser(BaseModel):\n",
    "    Topic: str=Field(description=\"Selected Topic\")\n",
    "    Reasoning: str=Field(description=\"Reasoining behind topic selection\")"
   ]
  },
  {
   "cell_type": "code",
   "execution_count": 9,
   "id": "8cce38e0",
   "metadata": {},
   "outputs": [
    {
     "data": {
      "text/plain": [
       "'The output should be formatted as a JSON instance that conforms to the JSON schema below.\\n\\nAs an example, for the schema {\"properties\": {\"foo\": {\"title\": \"Foo\", \"description\": \"a list of strings\", \"type\": \"array\", \"items\": {\"type\": \"string\"}}}, \"required\": [\"foo\"]}\\nthe object {\"foo\": [\"bar\", \"baz\"]} is a well-formatted instance of the schema. The object {\"properties\": {\"foo\": [\"bar\", \"baz\"]}} is not well-formatted.\\n\\nHere is the output schema:\\n```\\n{\"properties\": {\"Topic\": {\"description\": \"Selected Topic\", \"title\": \"Topic\", \"type\": \"string\"}, \"Reasoning\": {\"description\": \"Reasoining behind topic selection\", \"title\": \"Reasoning\", \"type\": \"string\"}}, \"required\": [\"Topic\", \"Reasoning\"]}\\n```'"
      ]
     },
     "execution_count": 9,
     "metadata": {},
     "output_type": "execute_result"
    }
   ],
   "source": [
    "parser = PydanticOutputParser(pydantic_object=TopicSelectionParser)\n",
    "parser.get_format_instructions()"
   ]
  },
  {
   "cell_type": "markdown",
   "id": "3caf4fa8",
   "metadata": {},
   "source": [
    "### Creating the State Schema"
   ]
  },
  {
   "cell_type": "code",
   "execution_count": 2,
   "id": "b438d7b1",
   "metadata": {},
   "outputs": [],
   "source": [
    "class AgentState(TypedDict):\n",
    "    messages: Annotated[Sequence[BaseMessage], operator.add]"
   ]
  },
  {
   "cell_type": "code",
   "execution_count": null,
   "id": "e8d1f31d",
   "metadata": {},
   "outputs": [],
   "source": [
    "def function_supervisor(state:AgentState):\n",
    "    print(\"-> Inside Supervisor Function <-\")\n",
    "    question = state[\"messages\"][-1]\n",
    "    print(f\"Question: {question}\")\n",
    "\n",
    "    template = \"\"\"\n",
    "    Your task is to classify the user's query into one of the following categories: [Unrelated, Wildlife Photography, real-time info]\n",
    "    only respond with the category name and nothing more than that.\n",
    "\n",
    "    User Query: {question}\n",
    "    {format_output}\n",
    "    \"\"\"\n",
    "\n",
    "    prompt = PromptTemplate(\n",
    "        template=template,\n",
    "        input_variables=[\"question\"],\n",
    "        partial_variables={\"format_output\":parser.get_format_instructions()}\n",
    "    )\n",
    "\n",
    "    chain = prompt | llm | parser\n",
    "    response = chain.invole(prompt)\n",
    "\n",
    "    print(\"Parsed response\", response)\n",
    "\n",
    "    return {\"messages\": [response.Topic]}\n",
    "\n",
    "def function_llm(state:AgentState):\n",
    "    print(\"-> Inside LLM Node <-\")\n",
    "    question = state[\"messages\"][0]\n",
    "    \n",
    "    # Normal LLM call\n",
    "    complete_query = \"Anwer the follow question with you knowledge of the real world. Following is the user question: \" + question\n",
    "    response = llm.invoke(complete_query)\n",
    "    return {\"messages\": [response.content]}\n",
    "\n",
    "def format_docs(docs):\n",
    "    return \"\\n\\n\".join(doc.page_content for doc in docs)\n",
    "\n",
    "def function_rag(state:AgentState):\n",
    "    print(\"-> Inside RAG Node <-\")\n",
    "    question = state[\"messages\"][0]\n",
    "\n",
    "    prompt=PromptTemplate(\n",
    "        template=\"\"\"You are an assistant for question-answering tasks. Use the following pieces of retrieved context from internet to answer the question. If you don't know the answer, just say that you don't know. \\nQuestion: {question} \\nContext: {context} \\nAnswer:\"\"\",\n",
    "        \n",
    "        input_variables=['context', 'question']\n",
    "    )\n",
    "\n",
    "    rag_chain = (\n",
    "        {\"context\": retriever | format_docs, \"question\": RunnablePassthrough()}\n",
    "        | prompt\n",
    "        | llm\n",
    "        | StrOutputParser()\n",
    "    )\n",
    "    result = rag_chain.invoke(question)\n",
    "    return  {\"messages\": [result]}\n",
    "\n",
    "def function_web_crawl(state:AgentState):\n",
    "    print(\"-> Inside Web Crawler <-\")\n",
    "    question = state[\"messages\"][0]\n",
    "\n",
    "    prompt=PromptTemplate(\n",
    "        template=\"\"\"You are an assistant for question-answering tasks. Use the following pieces of retrieved context from internet to answer the question. If you don't know the answer, just say that you don't know. \\nQuestion: {question} \\nContext: {context} \\nAnswer:\"\"\",\n",
    "        \n",
    "        input_variables=['context', 'question']\n",
    "    )\n",
    "\n",
    "    web_crawl_chain = (\n",
    "        RunnableLambda(web_retriever)\n",
    "        | prompt\n",
    "        | llm\n",
    "        | StrOutputParser()\n",
    "    )\n",
    "    result = web_crawl_chain.invoke(question)\n",
    "    return  {\"messages\": [result]}"
   ]
  },
  {
   "cell_type": "code",
   "execution_count": 94,
   "id": "55ddb6d5",
   "metadata": {},
   "outputs": [
    {
     "name": "stdout",
     "output_type": "stream",
     "text": [
      "-> Inside RAG Node <-\n"
     ]
    },
    {
     "data": {
      "text/plain": [
       "{'messages': ['The text suggests that patience is key to capturing wildlife behavior. \\n\\nIt recommends:\\n\\n* **Observing wildlife behavior beforehand** to understand how they might react.\\n* **Minimizing impact** on the wildlife and their environment. \\n* **Waiting for the right moment** to take the shot.\\n\\n\\nThe text also emphasizes the importance of following rules and laws, and being aware of potential dangers. \\n']}"
      ]
     },
     "execution_count": 94,
     "metadata": {},
     "output_type": "execute_result"
    }
   ],
   "source": [
    "state={\"messages\":[\"How to capture a Behavior of a wildlife?\"]}\n",
    "function_rag(state)"
   ]
  },
  {
   "cell_type": "code",
   "execution_count": 95,
   "id": "5d32f7b0",
   "metadata": {},
   "outputs": [
    {
     "name": "stdout",
     "output_type": "stream",
     "text": [
      "-> Inside Web Crawler <-\n"
     ]
    },
    {
     "data": {
      "text/plain": [
       "{'messages': ['Portugal won the 2025 UEFA Nations League final against Spain on penalties after the game was tied 2-2 at the end of extra time. \\n']}"
      ]
     },
     "execution_count": 95,
     "metadata": {},
     "output_type": "execute_result"
    }
   ],
   "source": [
    "state={\"messages\":[\"What happened in the UEFA Nations League 2025 final?\"]}\n",
    "function_web_crawl(state)"
   ]
  },
  {
   "cell_type": "code",
   "execution_count": 48,
   "id": "23aab918",
   "metadata": {},
   "outputs": [],
   "source": [
    "def format_docs(docs):\n",
    "    return \"\\n\\n\".join(doc['content'] for doc in docs)"
   ]
  },
  {
   "cell_type": "code",
   "execution_count": null,
   "id": "44b39515",
   "metadata": {},
   "outputs": [
    {
     "name": "stdout",
     "output_type": "stream",
     "text": [
      "Portugal vs Spain: 2025 UEFA Nations League Final – Date, Venue & How to Watch Portugal vs Spain: 2025 UEFA Nations League Final Image 2: Portugal vs Spain 2025 UEFA Nations League Final The 2025 UEFA Nations League Final between Portugal and Spain was scheduled on Sunday, June 08, 2025, at 21:00 CEST at the Allianz Arena in Munich, Germany. The winning team automatically qualifies for the UEFA European Championship and 12 groups of Nations League with the winners of each group qualifying for the World Cup Qualification. 2025 UEFA Nations League Final: Portugal vs Spain 2025 UEFA Nations League Final: Portugal vs Spain Portugal vs Spain 2025 UEFA Nations League Final Starting XI Image 20: Portugal vs Spain: 2025 UEFA Nations League FinalPortugal vs Spain: 2025 UEFA Nations League Final\n",
      "\n",
      "Jlo's Daughter Steals The Show With Her Mom's Iconic Green Dress BigGlobalTravel | [AdAd](https://bigglobaltravel.com/articles/celeb-kids-rewore-syn \"Jlo's Daughter Steals The Show With Her Mom's Iconic Green Dress\") 15 Most Gorgeous Women, Ranked TheDaddest | [AdAd](https://thedaddest.com/articles/who-is-the-most-beautiful-woman-of-all-time-yh \"15 Most Gorgeous Women, Ranked\") 5 Years Later, Dad Looks Under Neighbor's Dog Kennel And Sees This universalinfonet.com | [AdAd](https://www.universalinfonet.com/en/53943 \"Son Disappears While Playing Outside. Heres what your dog really means when it licks you.Novelodge | [AdAd](https://www.novelodge.com/worldwide/doglic-ta \"Dog licks arent kisses. Here's Trump approval rating today in California.USA TODAY Here's how Americans feel now: President Trump current approval rating Here's what today's polls say about President Donald Trump's current approval rating despite the feuding tweets with his ex-buddy Elon Musk.USA TODAY\n",
      "\n",
      "LIVE: Portugal vs Spain – UEFA Nations League final | Football News | Al Jazeera *     1h ago(16:20 GMT)    Spain-Portugal final more than just Cristiano vs Yamal says Ronaldo Portugal captain Cristiano Ronaldo acknowledged he was “another generation” to Spain starlet Lamine Yamal but said the Nations League final was more than just a battle between the duo. Ronaldo scored the winner to send Portugal past Germany into the final, and Yamal was named man-of-the-match after bagging a brace in Spain’s wild 5-4 semifinal win over France. Image 9: Cristiano Ronaldo of Portugal celebrates scoring his team's second goal during the UEFA Nations League 2025 semifinal match between Germany and Portugal Ronaldo celebrates scoring Portugal’s second goal in the semifinal against Germany [File: Lars Baron/Getty Images]    Click here to share on social media         \n",
      "\n",
      "# Portugal vs Spain Live Score Updates: Penalty Looms With POR 2-2 ESP in ET in UEFA Nations League Final 2025 Portugal vs Spain Live Score Streaming and Updates: UEFA Nations League Final ## Portugal vs Spain Penalty Live Score: POR 3-2 ESP ## Portugal vs Spain Penalty Live Score: POR 2-2 ESP ## Portugal vs Spain Penalty Live Score: POR 2-1 ESP ## Portugal vs Spain Penalty Live Score: POR 1-1 ESP ## Portugal vs Spain Penalty Live Score: POR 1-0 ESP ## Portugal vs Spain Penalty Live Score: Which Ends and Goalkeepers ## Portugal vs Spain Live Score: Into Extra Time\n",
      "\n",
      "Spain live score: UEFA Nations League final result, stats as Selecao win on penalties after Ronaldo equaliser | Sporting News Canada Image 110: Curling Logo CurlingImage 111: WNBA Logo WNBAImage 112: NCAAWB Logo NCAAFImage 113: NCAAWB Logo NCAAMBImage 114: NCAAWB Logo NCAAWBImage 115: Boxing Logo BoxingImage 116: MMA Logo MMAImage 117: WWE Logo WWEImage 118: Golf Logo GolfImage 119: Tennis Logo TennisImage 120: F1 Logo F1Image 121: NASCAR Logo NASCARImage 122: Darts Logo DartsImage 123: Lifestyle Logo More Sports Spain live score: UEFA Nations League final result, stats as Selecao win on penalties after Ronaldo equaliser image **2nd penalty**: Merino for Spain, thumped into the right corner as Costa guesses incorrectly.**PORTUGAL 1-1 SPAIN**.\n"
     ]
    }
   ],
   "source": []
  },
  {
   "cell_type": "code",
   "execution_count": 25,
   "id": "dc26bbe3",
   "metadata": {},
   "outputs": [
    {
     "name": "stdout",
     "output_type": "stream",
     "text": [
      "{'messages': [\"Spain won the UEFA Nations League final in 2023. \\n\\nThey defeated England 1-0 in a tense match held in Wembley Stadium on July 18, 2023.  The winning goal was scored by Olmo in the 16th minute.  \\n\\n\\nLet me know if you'd like more details about the match! \\n\\n\"]}\n"
     ]
    }
   ],
   "source": [
    "# Normal LLM call\n",
    "complete_query = \"Anwer the follow question with you knowledge of the real world. Following is the user question: \" + \"What happened in the UEFA Nations League final?\"\n",
    "response = llm.invoke(complete_query)\n",
    "print({\"messages\": [response.content]})"
   ]
  },
  {
   "cell_type": "code",
   "execution_count": 4,
   "id": "9770be61",
   "metadata": {},
   "outputs": [],
   "source": [
    "def router(state:AgentState):\n",
    "    print(\"-> Inside Router <-\")\n",
    "\n",
    "    last_message = state[\"messages\"][-1]\n",
    "    print(f\"last_message: {last_message}\")\n",
    "\n",
    "    if \"___\" in last_message.lower():\n",
    "        return \"RAG Call\"\n",
    "    elif \"llm\" in last_message.lower():\n",
    "        return \"LLM Call\"\n",
    "    else:\n",
    "        return \"Web Crawler\""
   ]
  },
  {
   "cell_type": "code",
   "execution_count": null,
   "id": "67aba2bc",
   "metadata": {},
   "outputs": [],
   "source": []
  },
  {
   "cell_type": "code",
   "execution_count": null,
   "id": "3cb0b304",
   "metadata": {},
   "outputs": [],
   "source": []
  }
 ],
 "metadata": {
  "kernelspec": {
   "display_name": "Python 3",
   "language": "python",
   "name": "python3"
  },
  "language_info": {
   "codemirror_mode": {
    "name": "ipython",
    "version": 3
   },
   "file_extension": ".py",
   "mimetype": "text/x-python",
   "name": "python",
   "nbconvert_exporter": "python",
   "pygments_lexer": "ipython3",
   "version": "3.13.0"
  }
 },
 "nbformat": 4,
 "nbformat_minor": 5
}
