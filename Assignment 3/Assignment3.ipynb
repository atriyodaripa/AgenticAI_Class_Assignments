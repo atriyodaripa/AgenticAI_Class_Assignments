{
 "cells": [
  {
   "cell_type": "code",
   "execution_count": 3,
   "id": "57111704",
   "metadata": {},
   "outputs": [],
   "source": [
    "import operator\n",
    "import os\n",
    "from dotenv import load_dotenv\n",
    "load_dotenv()\n",
    "from pydantic import BaseModel, Field\n",
    "from typing import TypedDict, Annotated, Sequence\n",
    "from langchain_huggingface import HuggingFaceEmbeddings\n",
    "from langchain_core.messages import BaseMessage\n",
    "from langchain.output_parsers import PydanticOutputParser\n",
    "from langchain.prompts import PromptTemplate\n",
    "from langchain_groq import ChatGroq\n",
    "from langchain_tavily import TavilySearch\n",
    "from langchain_core.runnables import RunnablePassthrough, RunnableLambda\n",
    "from langchain_core.output_parsers import StrOutputParser\n",
    "from langchain_community.document_loaders import PyPDFLoader, DirectoryLoader\n",
    "from langchain_community.vectorstores import Chroma\n",
    "from langchain.text_splitter import RecursiveCharacterTextSplitter\n"
   ]
  },
  {
   "cell_type": "code",
   "execution_count": 4,
   "id": "f6f4e50e",
   "metadata": {},
   "outputs": [],
   "source": [
    "## Getting Groq API key\n",
    "os.environ[\"GROQ_API_KEY\"]=os.getenv(\"GROQ_API_KEY\")\n",
    "## Getting TAVILY API key\n",
    "os.environ[\"TAVILY_API_KEY\"]=os.getenv(\"TAVILY_API_KEY\")\n",
    "# print(os.getenv(\"TAVILY_API_KEY\"))\n",
    "\n",
    "EMBEDDING_MODEL = \"all-MiniLM-L6-v2\"\n",
    "INFERENCE_MODEL = \"gemma2-9b-it\""
   ]
  },
  {
   "cell_type": "markdown",
   "id": "4add0b39",
   "metadata": {},
   "source": [
    "### Initializing the LLM, Embeddings and the Tavily Web Crawler"
   ]
  },
  {
   "cell_type": "code",
   "execution_count": 5,
   "id": "3c995354",
   "metadata": {},
   "outputs": [
    {
     "name": "stderr",
     "output_type": "stream",
     "text": [
      "e:\\AgenticAI KrishNaikAcademy\\Classroom HandsOn\\agentic_class_venv\\Lib\\site-packages\\tqdm\\auto.py:21: TqdmWarning: IProgress not found. Please update jupyter and ipywidgets. See https://ipywidgets.readthedocs.io/en/stable/user_install.html\n",
      "  from .autonotebook import tqdm as notebook_tqdm\n"
     ]
    }
   ],
   "source": [
    "llm = ChatGroq(model=INFERENCE_MODEL, temperature=0.3)\n",
    "# print('--------Creating the response from llm based on contexts--------')\n",
    "\n",
    "embeddings = HuggingFaceEmbeddings(model_name=EMBEDDING_MODEL)\n",
    "len(embeddings.embed_query('Hi'))\n",
    "\n",
    "# Initialize Tavily tool\n",
    "tavily_tool = TavilySearch(max_results=5, topic=\"news\")\n"
   ]
  },
  {
   "cell_type": "markdown",
   "id": "f3b4c9d1",
   "metadata": {},
   "source": [
    "### Initializing the Web Crawler Retriever Function"
   ]
  },
  {
   "cell_type": "code",
   "execution_count": 6,
   "id": "93555a0b",
   "metadata": {},
   "outputs": [],
   "source": [
    "def web_retriever(query):\n",
    "    # query = inputs[\"question\"]\n",
    "    result = tavily_tool.invoke({\"query\": query})\n",
    "    snippets = [r[\"content\"] for r in result[\"results\"] if \"content\" in r]\n",
    "    # return \"\\n\\n\".join(snippets)\n",
    "    return {\"context\": \"\\n\\n\".join(snippets), \"question\": query}"
   ]
  },
  {
   "cell_type": "markdown",
   "id": "73983e7d",
   "metadata": {},
   "source": [
    "### Initializing the RAG"
   ]
  },
  {
   "cell_type": "code",
   "execution_count": 7,
   "id": "67c5b3ec",
   "metadata": {},
   "outputs": [],
   "source": [
    "loader = DirectoryLoader(\"./data\", glob=\"./*.pdf\", loader_cls=PyPDFLoader)\n",
    "docs = loader.load()"
   ]
  },
  {
   "cell_type": "code",
   "execution_count": 8,
   "id": "3f96274d",
   "metadata": {},
   "outputs": [],
   "source": [
    "text_splitter=RecursiveCharacterTextSplitter(\n",
    "    chunk_size=500,\n",
    "    chunk_overlap=50\n",
    ")\n",
    "new_docs=text_splitter.split_documents(documents=docs)"
   ]
  },
  {
   "cell_type": "code",
   "execution_count": 9,
   "id": "ec0a2321",
   "metadata": {},
   "outputs": [],
   "source": [
    "db=Chroma.from_documents(new_docs,embeddings)\n",
    "retriever=db.as_retriever(search_kwargs={\"k\": 5})"
   ]
  },
  {
   "cell_type": "code",
   "execution_count": 10,
   "id": "f2cde7d6",
   "metadata": {},
   "outputs": [
    {
     "data": {
      "text/plain": [
       "[Document(metadata={'source': 'data\\\\From Snapshots to Great Shots.pdf', 'creationdate': '2011-10-20T17:07:34+05:30', 'total_pages': 38, 'codemantra, llc': 'http://www.codemantra.com', 'producer': 'PyPDF', 'creator': 'Quite Imposing 1.5d (EN)', 'moddate': '2011-12-20T10:28:13-05:00', 'page': 15, 'universal pdf': 'The process that creates this PDF constitutes a trade secret of codeMantra, LLC and is protected by the copyright laws of the United States', 'title': 'Wildlife Photography: From Snapshots to Great Shots', 'author': 'Laurie Excell', 'page_label': '6'}, page_content='wildlife behavior \\nwith narration \\nexplaining it at the \\nsame time.'),\n",
       " Document(metadata={'total_pages': 31, 'trapped': '/False', 'page': 29, 'source': 'data\\\\The Art of Wildlife Photography.pdf', 'producer': 'Adobe PDF Library 15.0', 'moddate': '2019-11-29T14:01:41+10:00', 'creator': 'Adobe InDesign 15.0 (Macintosh)', 'creationdate': '2019-11-29T14:01:35+10:00', 'page_label': '30'}, page_content='acting naturally. You are therefore rewarded by getting the shots you had hoped for. \\nBy observing wildlife behaviour beforehand, you will also be more attuned to how that individual may react \\nat certain times.\\nIn short, please strive to have minimal or no impact on the wildlife you are photographing and the \\nenvironment they live in.'),\n",
       " Document(metadata={'producer': 'Adobe PDF Library 15.0', 'moddate': '2019-11-29T14:01:41+10:00', 'source': 'data\\\\The Art of Wildlife Photography.pdf', 'total_pages': 31, 'creationdate': '2019-11-29T14:01:35+10:00', 'page': 19, 'page_label': '20', 'creator': 'Adobe InDesign 15.0 (Macintosh)', 'trapped': '/False'}, page_content='If you enjoy photographing wildlife and are looking to capture behaviour shots, one of the most important \\nthings to remember is patience. After 23 years of wildlife photography, I have spent hours, days and even \\nweeks (often sitting in a confined, camouflaged hide), waiting for THE moment to press the shutter button. \\nI have never looked back and thought “that wasn’t worth it”. The longer you wait for a particular behaviour'),\n",
       " Document(metadata={'universal pdf': 'The process that creates this PDF constitutes a trade secret of codeMantra, LLC and is protected by the copyright laws of the United States', 'creationdate': '2011-10-20T17:07:34+05:30', 'page': 20, 'source': 'data\\\\From Snapshots to Great Shots.pdf', 'producer': 'PyPDF', 'moddate': '2011-12-20T10:28:13-05:00', 'author': 'Laurie Excell', 'page_label': '11', 'creator': 'Quite Imposing 1.5d (EN)', 'codemantra, llc': 'http://www.codemantra.com', 'title': 'Wildlife Photography: From Snapshots to Great Shots', 'total_pages': 38}, page_content='you pursue. Be alert, obey the rules, and pay attention to signs that warn you of pos-\\nsible danger (Figure 4.5).\\nFIgure 4.5\\nSigns are put in \\nplace to warn of \\npossible danger \\nfrom wildlife. \\nBy paying care-\\nful attention to \\nthem, you can \\navoid unpleasant, \\nif not dangerous, \\nsituations.'),\n",
       " Document(metadata={'codemantra, llc': 'http://www.codemantra.com', 'universal pdf': 'The process that creates this PDF constitutes a trade secret of codeMantra, LLC and is protected by the copyright laws of the United States', 'producer': 'PyPDF', 'page': 9, 'page_label': 'ix', 'total_pages': 38, 'creator': 'Quite Imposing 1.5d (EN)', 'moddate': '2011-12-20T10:28:13-05:00', 'title': 'Wildlife Photography: From Snapshots to Great Shots', 'creationdate': '2011-10-20T17:07:34+05:30', 'author': 'Laurie Excell', 'source': 'data\\\\From Snapshots to Great Shots.pdf'}, page_content='ix\\nIntroduction\\nAnyone can take a snapshot of a wild animal or bird. It takes observing, patience, practice, \\nperseverance, and most important, time behind the camera along with the right equipment \\nto take your photography to greater heights and make great wildlife shots! \\nThis book begins by illustrating the fact that you don’t have to have the biggest and baddest, \\nhigh-performance cameras and lenses to make great wildlife images. In Chapter 1, I cover')]"
      ]
     },
     "execution_count": 10,
     "metadata": {},
     "output_type": "execute_result"
    }
   ],
   "source": [
    "retriever.invoke(\"How to capture a Behavior of a wildlife\")"
   ]
  },
  {
   "cell_type": "markdown",
   "id": "8842189c",
   "metadata": {},
   "source": [
    "### Creating the Pydantic Output Parser"
   ]
  },
  {
   "cell_type": "code",
   "execution_count": 11,
   "id": "2d4e85df",
   "metadata": {},
   "outputs": [],
   "source": [
    "class TopicSelectionParser(BaseModel):\n",
    "    Topic: str=Field(description=\"Selected Topic\")\n",
    "    Reasoning: str=Field(description=\"Reasoining behind topic selection\")"
   ]
  },
  {
   "cell_type": "code",
   "execution_count": 12,
   "id": "8cce38e0",
   "metadata": {},
   "outputs": [
    {
     "data": {
      "text/plain": [
       "'The output should be formatted as a JSON instance that conforms to the JSON schema below.\\n\\nAs an example, for the schema {\"properties\": {\"foo\": {\"title\": \"Foo\", \"description\": \"a list of strings\", \"type\": \"array\", \"items\": {\"type\": \"string\"}}}, \"required\": [\"foo\"]}\\nthe object {\"foo\": [\"bar\", \"baz\"]} is a well-formatted instance of the schema. The object {\"properties\": {\"foo\": [\"bar\", \"baz\"]}} is not well-formatted.\\n\\nHere is the output schema:\\n```\\n{\"properties\": {\"Topic\": {\"description\": \"Selected Topic\", \"title\": \"Topic\", \"type\": \"string\"}, \"Reasoning\": {\"description\": \"Reasoining behind topic selection\", \"title\": \"Reasoning\", \"type\": \"string\"}}, \"required\": [\"Topic\", \"Reasoning\"]}\\n```'"
      ]
     },
     "execution_count": 12,
     "metadata": {},
     "output_type": "execute_result"
    }
   ],
   "source": [
    "parser = PydanticOutputParser(pydantic_object=TopicSelectionParser)\n",
    "parser.get_format_instructions()"
   ]
  },
  {
   "cell_type": "markdown",
   "id": "3caf4fa8",
   "metadata": {},
   "source": [
    "### Creating the State Schema"
   ]
  },
  {
   "cell_type": "code",
   "execution_count": 13,
   "id": "b438d7b1",
   "metadata": {},
   "outputs": [],
   "source": [
    "class AgentState(TypedDict):\n",
    "    messages: Annotated[Sequence[BaseMessage], operator.add]"
   ]
  },
  {
   "cell_type": "markdown",
   "id": "4649e65b",
   "metadata": {},
   "source": [
    "### Node Functions"
   ]
  },
  {
   "cell_type": "code",
   "execution_count": 26,
   "id": "e8d1f31d",
   "metadata": {},
   "outputs": [],
   "source": [
    "def function_supervisor(state:AgentState):\n",
    "    print(\"-> Inside Supervisor Function <-\")\n",
    "    question = state[\"messages\"][-1]\n",
    "    print(f\"Question: {question}\")\n",
    "\n",
    "    template = \"\"\"\n",
    "    Your task is to classify the user's query into one of the following categories: [Unrelated, Wildlife Photography, real-time info]\n",
    "    only respond with the category name and nothing more than that.\n",
    "\n",
    "    User Query: {question}\n",
    "    {format_output}\n",
    "    \"\"\"\n",
    "\n",
    "    prompt = PromptTemplate(\n",
    "        template=template,\n",
    "        input_variables=[\"question\"],\n",
    "        partial_variables={\"format_output\":parser.get_format_instructions()}\n",
    "    )\n",
    "\n",
    "    chain = prompt | llm | parser\n",
    "    response = chain.invole(prompt)\n",
    "\n",
    "    print(\"Parsed response\", response)\n",
    "\n",
    "    return {\"messages\": [response.Topic]}\n",
    "\n",
    "def function_llm(state:AgentState):\n",
    "    print(\"-> Inside LLM Node <-\")\n",
    "    question = state[\"messages\"][0]\n",
    "    \n",
    "    # Normal LLM call\n",
    "    complete_query = \"Anwer the follow question with you knowledge of the real world. Following is the user question: \" + question\n",
    "    response = llm.invoke(complete_query)\n",
    "    return {\"messages\": [response.content]}\n",
    "\n",
    "def format_docs(docs):\n",
    "    return \"\\n\\n\".join(doc.page_content for doc in docs)\n",
    "\n",
    "def function_rag(state:AgentState):\n",
    "    print(\"-> Inside RAG Node <-\")\n",
    "    question = state[\"messages\"][0]\n",
    "\n",
    "    prompt=PromptTemplate(\n",
    "        template=\"\"\"You are an assistant for question-answering tasks. Use the following pieces of retrieved context from internet to answer the question. If you don't know the answer, just say that you don't know. \\nQuestion: {question} \\nContext: {context} \\nAnswer:\"\"\",\n",
    "        \n",
    "        input_variables=['context', 'question']\n",
    "    )\n",
    "\n",
    "    rag_chain = (\n",
    "        {\"context\": retriever | format_docs, \"question\": RunnablePassthrough()}\n",
    "        | prompt\n",
    "        | llm\n",
    "        | StrOutputParser()\n",
    "    )\n",
    "    result = rag_chain.invoke(question)\n",
    "    return  {\"messages\": [result]}\n",
    "\n",
    "def function_web_crawl(state:AgentState):\n",
    "    print(\"-> Inside Web Crawler <-\")\n",
    "    question = state[\"messages\"][0]\n",
    "\n",
    "    prompt=PromptTemplate(\n",
    "        template=\"\"\"You are an assistant for question-answering tasks. Use the following pieces of retrieved context from internet to answer the question. If you don't know the answer, just say that you don't know. \\nQuestion: {question} \\nContext: {context} \\nAnswer:\"\"\",\n",
    "        \n",
    "        input_variables=['context', 'question']\n",
    "    )\n",
    "\n",
    "    web_crawl_chain = (\n",
    "        RunnableLambda(web_retriever)\n",
    "        | prompt\n",
    "        | llm\n",
    "        | StrOutputParser()\n",
    "    )\n",
    "    result = web_crawl_chain.invoke(question)\n",
    "    return  {\"messages\": [result]}\n",
    "\n",
    "def function_validation(state:AgentState):\n",
    "    pass"
   ]
  },
  {
   "cell_type": "code",
   "execution_count": 15,
   "id": "55ddb6d5",
   "metadata": {},
   "outputs": [
    {
     "name": "stdout",
     "output_type": "stream",
     "text": [
      "-> Inside RAG Node <-\n"
     ]
    },
    {
     "data": {
      "text/plain": [
       "{'messages': ['The text suggests that patience is key to capturing wildlife behavior.  \\n\\nIt states: \"If you enjoy photographing wildlife and are looking to capture behaviour shots, one of the most important things to remember is patience. After 23 years of wildlife photography, I have spent hours, days and even weeks (often sitting in a confined, camouflaged hide), waiting for THE moment to press the shutter button.\" \\n\\n\\nIt also emphasizes minimizing impact on the wildlife and their environment. \\n']}"
      ]
     },
     "execution_count": 15,
     "metadata": {},
     "output_type": "execute_result"
    }
   ],
   "source": [
    "state={\"messages\":[\"How to capture a Behavior of a wildlife?\"]}\n",
    "function_rag(state)"
   ]
  },
  {
   "cell_type": "code",
   "execution_count": 16,
   "id": "5d32f7b0",
   "metadata": {},
   "outputs": [
    {
     "name": "stdout",
     "output_type": "stream",
     "text": [
      "-> Inside Web Crawler <-\n"
     ]
    },
    {
     "data": {
      "text/plain": [
       "{'messages': ['After a thrilling match ended in a 2-2 draw, Portugal defeated Spain in a penalty shootout to bring home the 2024-25 Nations League trophy.  \\n']}"
      ]
     },
     "execution_count": 16,
     "metadata": {},
     "output_type": "execute_result"
    }
   ],
   "source": [
    "state={\"messages\":[\"What happened in the UEFA Nations League 2025 final?\"]}\n",
    "function_web_crawl(state)"
   ]
  },
  {
   "cell_type": "code",
   "execution_count": 17,
   "id": "23aab918",
   "metadata": {},
   "outputs": [],
   "source": [
    "def format_docs(docs):\n",
    "    return \"\\n\\n\".join(doc['content'] for doc in docs)"
   ]
  },
  {
   "cell_type": "code",
   "execution_count": 18,
   "id": "dc26bbe3",
   "metadata": {},
   "outputs": [
    {
     "name": "stdout",
     "output_type": "stream",
     "text": [
      "{'messages': [\"The UEFA Nations League final took place on **July 18, 2023**, at the **Estádio do Dragão in Porto, Portugal**. \\n\\n**Spain** defeated **England** **1-0** to win their first-ever UEFA Nations League title. \\n\\nThe winning goal was scored by **Olmo** in the 16th minute. \\n\\n\\nLet me know if you'd like more details about the match! \\n\"]}\n"
     ]
    }
   ],
   "source": [
    "# Normal LLM call\n",
    "complete_query = \"Anwer the follow question with you knowledge of the real world. Following is the user question: \" + \"What happened in the UEFA Nations League final?\"\n",
    "response = llm.invoke(complete_query)\n",
    "print({\"messages\": [response.content]})"
   ]
  },
  {
   "cell_type": "markdown",
   "id": "4753c6a7",
   "metadata": {},
   "source": [
    "### Router Function"
   ]
  },
  {
   "cell_type": "code",
   "execution_count": null,
   "id": "9770be61",
   "metadata": {},
   "outputs": [],
   "source": [
    "def function_router(state:AgentState):\n",
    "    print(\"-> Inside Router <-\")\n",
    "\n",
    "    last_message = state[\"messages\"][-1]\n",
    "    print(f\"last_message: {last_message}\")\n",
    "\n",
    "    if \"photography\" in last_message.lower():\n",
    "        return \"RAG Call\"\n",
    "    elif \"llm\" in last_message.lower():\n",
    "        return \"LLM Call\"\n",
    "    else:\n",
    "        return \"Web Crawler Call\""
   ]
  },
  {
   "cell_type": "code",
   "execution_count": 30,
   "id": "67aba2bc",
   "metadata": {},
   "outputs": [],
   "source": [
    "from langgraph.graph import StateGraph, END\n",
    "workflow = StateGraph(AgentState)\n",
    "workflow.add_node('Supervisor', function_supervisor)\n",
    "workflow.add_node('RAG', function_rag)\n",
    "workflow.add_node('LLM', function_llm)\n",
    "workflow.add_node('Web Crawler', function_web_crawl)\n",
    "workflow.add_node(\"Output Validation\", function_validation)\n",
    "workflow.set_entry_point('Supervisor')\n",
    "workflow.add_conditional_edges(\n",
    "    'Supervisor',\n",
    "    function_router,\n",
    "    {\n",
    "        \"RAG Call\":\"RAG\",\n",
    "        \"LLM Call\":\"LLM\",\n",
    "        \"Web Crawler Call\":\"Web Crawler\"\n",
    "    }\n",
    ")\n",
    "workflow.add_edge(\"RAG\", \"Output Validation\")\n",
    "workflow.add_edge(\"LLM\", \"Output Validation\")\n",
    "workflow.add_edge(\"Web Crawler\", \"Output Validation\")\n",
    "workflow.set_finish_point(\"Output Validation\")\n",
    "app = workflow.compile()"
   ]
  },
  {
   "cell_type": "markdown",
   "id": "df956b53",
   "metadata": {},
   "source": [
    "### View Workflow Diagram"
   ]
  },
  {
   "cell_type": "code",
   "execution_count": 32,
   "id": "3cb0b304",
   "metadata": {},
   "outputs": [
    {
     "data": {
      "image/png": "[encoded data removed]",
      "text/plain": [
       "<IPython.core.display.Image object>"
      ]
     },
     "metadata": {},
     "output_type": "display_data"
    }
   ],
   "source": [
    "from IPython.display import Image, display\n",
    "display(Image(app.get_graph().draw_mermaid_png()))"
   ]
  }
 ],
 "metadata": {
  "kernelspec": {
   "display_name": "Python 3",
   "language": "python",
   "name": "python3"
  },
  "language_info": {
   "codemirror_mode": {
    "name": "ipython",
    "version": 3
   },
   "file_extension": ".py",
   "mimetype": "text/x-python",
   "name": "python",
   "nbconvert_exporter": "python",
   "pygments_lexer": "ipython3",
   "version": "3.13.0"
  }
 },
 "nbformat": 4,
 "nbformat_minor": 5
}
