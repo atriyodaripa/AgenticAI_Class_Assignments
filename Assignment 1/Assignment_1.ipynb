{
 "cells": [
  {
   "cell_type": "markdown",
   "id": "d2fd0aae",
   "metadata": {},
   "source": [
    "### Problem Statement"
   ]
  },
  {
   "cell_type": "markdown",
   "id": "8637d7bf",
   "metadata": {},
   "source": [
    "Use Case: Developing an LLM chatbot that would give product details\n",
    "\n",
    "Requirements: \n",
    "*  Name of the product. \n",
    "*  Description of the product. \n",
    "*  Price of the product in USD"
   ]
  },
  {
   "cell_type": "code",
   "execution_count": null,
   "id": "4c9c510a",
   "metadata": {},
   "outputs": [],
   "source": [
    "import os\n",
    "from dotenv import load_dotenv\n",
    "load_dotenv()"
   ]
  }
 ],
 "metadata": {
  "kernelspec": {
   "display_name": "Python 3",
   "language": "python",
   "name": "python3"
  },
  "language_info": {
   "name": "python",
   "version": "3.13.0"
  }
 },
 "nbformat": 4,
 "nbformat_minor": 5
}
