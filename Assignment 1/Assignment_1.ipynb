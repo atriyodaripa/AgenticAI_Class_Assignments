{
 "cells": [
  {
   "cell_type": "markdown",
   "id": "d2fd0aae",
   "metadata": {},
   "source": [
    "### Problem Statement"
   ]
  },
  {
   "cell_type": "markdown",
   "id": "8637d7bf",
   "metadata": {},
   "source": [
    "Use Case: Developing an LLM chatbot that would give product details\n",
    "\n",
    "Requirements: \n",
    "*  Name of the product. \n",
    "*  Description of the product. \n",
    "*  Price of the product in USD"
   ]
  },
  {
   "cell_type": "code",
   "execution_count": 1,
   "id": "4c9c510a",
   "metadata": {},
   "outputs": [],
   "source": [
    "import os\n",
    "from dotenv import load_dotenv\n",
    "load_dotenv()\n",
    "from langchain_groq import ChatGroq\n",
    "from langchain_openai import ChatOpenAI\n",
    "from pydantic import BaseModel, Field\n",
    "from langchain_core.output_parsers import JsonOutputParser\n",
    "from langchain_core.prompts import PromptTemplate\n",
    "import pprint"
   ]
  },
  {
   "cell_type": "code",
   "execution_count": 2,
   "id": "3cc31232",
   "metadata": {},
   "outputs": [],
   "source": [
    "## Langchain and Langsmith tracing\n",
    "os.environ['LANGCHAIN_API_KEY'] = os.getenv('LANGCHAIN_API_KEY')\n",
    "os.environ['LANGCHAIN_PROJECT'] = os.getenv('LANGCHAIN_PROJECT')\n",
    "os.environ[\"LANGCHAIN_TRACING_V2\"]=\"true\"\n",
    "\n",
    "## Getting Froq API key\n",
    "os.environ[\"GROQ_API_KEY\"]=os.getenv(\"GROQ_API_KEY\")"
   ]
  },
  {
   "cell_type": "code",
   "execution_count": 3,
   "id": "a67ae1e1",
   "metadata": {},
   "outputs": [
    {
     "name": "stdout",
     "output_type": "stream",
     "text": [
      "```json\n",
      "{\n",
      "  \"name\": \"iPhone 13\",\n",
      "  \"description\": \"The iPhone 13 features a Super Retina XDR display, A15 Bionic chip, and advanced camera systems. Its dual 12MP camera system captures stunning photos and videos with Cinematic mode. Enjoy all-day battery life and a sleek design with a durable ceramic shield front cover. Available in multiple colors and storage options.\",\n",
      "  \"price\": 699.00 \n",
      "}\n",
      "``` \n",
      "\n",
      "\n",
      "Please note that the price may vary depending on the retailer, storage capacity, and current promotions. \n",
      "\n"
     ]
    }
   ],
   "source": [
    "llm = ChatGroq(model='gemma2-9b-it')\n",
    "result = llm.invoke('Give me the details of the product iphone 13. The product description should not exceed 150 words. Also get the price of the product in USD, make sure the price is rounded off to 2 decimal place. Give the product details in the following format: Return a JSON object.')\n",
    "print(result.content)"
   ]
  },
  {
   "cell_type": "code",
   "execution_count": 12,
   "id": "02d9aba0",
   "metadata": {},
   "outputs": [
    {
     "name": "stdout",
     "output_type": "stream",
     "text": [
      "```json\n",
      "{\n",
      "  \"product_name\": \"iPhone 13\",\n",
      "  \"description\": \"The iPhone 13 features a sleek design with a durable aluminum frame and Ceramic Shield front cover. It is powered by the A15 Bionic chip, delivering high performance and efficiency. The device boasts a dual-camera system with advanced computational photography, enabling stunning photos and videos. The Super Retina XDR display offers vibrant colors and brightness for an immersive viewing experience. With 5G connectivity, the iPhone 13 ensures faster downloads and streaming. It runs on iOS, providing seamless integration with Apple's ecosystem and access to a vast array of apps. The battery life is improved, offering all-day usage. Available in multiple colors, the iPhone 13 combines style, functionality, and cutting-edge technology.\",\n",
      "  \"price_usd\": 799.00\n",
      "}\n",
      "```\n"
     ]
    }
   ],
   "source": [
    "llm_openai = ChatOpenAI(model = \"o1-mini\")\n",
    "result = llm_openai.invoke('Give me the details of the product iphone 13. The product description should not exceed 150 words. Also get the price of the product in USD, make sure the price is rounded off to 2 decimal place. Give the product details in the following format: Return a JSON object.')\n",
    "print(result.content)"
   ]
  },
  {
   "cell_type": "code",
   "execution_count": 4,
   "id": "80ce848c",
   "metadata": {},
   "outputs": [],
   "source": [
    "## Creating Product Pydantic Class\n",
    "class Product_Details(BaseModel):\n",
    "    name : str\n",
    "    description : str\n",
    "    price : float=Field(description=\"The price is in USD\")"
   ]
  },
  {
   "cell_type": "code",
   "execution_count": 5,
   "id": "edbd975b",
   "metadata": {},
   "outputs": [],
   "source": [
    "## Create the output parser\n",
    "parser = JsonOutputParser(pydantic_object=Product_Details)\n"
   ]
  },
  {
   "cell_type": "code",
   "execution_count": 6,
   "id": "b1562b20",
   "metadata": {},
   "outputs": [],
   "source": [
    "## Creating the prompts\n",
    "prompt = PromptTemplate(\n",
    "    template=\"Give me the details of the product {product_name}. The product description should not exceed 150 words. Also get the price of the product in USD, make sure the price is rounded off to 2 decimal place. Give the product details in {format_instruction}\",\n",
    "    input_variables=[\"product_name\"],\n",
    "    partial_variables={\"format_instruction\":parser.get_format_instructions()}\n",
    ")"
   ]
  },
  {
   "cell_type": "code",
   "execution_count": null,
   "id": "5cfb7027",
   "metadata": {},
   "outputs": [
    {
     "name": "stdout",
     "output_type": "stream",
     "text": [
      "input_variables=['product_name'] input_types={} partial_variables={'format_instruction': 'The output should be formatted as a JSON instance that conforms to the JSON schema below.\\n\\nAs an example, for the schema {\"properties\": {\"foo\": {\"title\": \"Foo\", \"description\": \"a list of strings\", \"type\": \"array\", \"items\": {\"type\": \"string\"}}}, \"required\": [\"foo\"]}\\nthe object {\"foo\": [\"bar\", \"baz\"]} is a well-formatted instance of the schema. The object {\"properties\": {\"foo\": [\"bar\", \"baz\"]}} is not well-formatted.\\n\\nHere is the output schema:\\n```\\n{\"properties\": {\"name\": {\"title\": \"Name\", \"type\": \"string\"}, \"description\": {\"title\": \"Description\", \"type\": \"string\"}, \"price\": {\"description\": \"The price is in USD\", \"title\": \"Price\", \"type\": \"number\"}}, \"required\": [\"name\", \"description\", \"price\"]}\\n```'} template='Give me the details of the product {product_name}. The product description should not exceed 150 words. Also get the price of the product in USD, make sure the price is rounded off to 2 decimal place. Give the product details in {format_instruction}'\n"
     ]
    }
   ],
   "source": []
  },
  {
   "cell_type": "code",
   "execution_count": 7,
   "id": "c25710d7",
   "metadata": {},
   "outputs": [],
   "source": [
    "chain = prompt | llm | parser"
   ]
  },
  {
   "cell_type": "code",
   "execution_count": 16,
   "id": "24fc8324",
   "metadata": {},
   "outputs": [
    {
     "name": "stdout",
     "output_type": "stream",
     "text": [
      "{'description': 'The Motorola Moto g64 256 GB is a smartphone featuring a '\n",
      "                'powerful processor, ample storage, and a vibrant display. Its '\n",
      "                'long-lasting battery and advanced camera system make it a '\n",
      "                'great choice for everyday use.',\n",
      " 'name': 'Motorola Moto g64 256 GB',\n",
      " 'price': 299.99}\n"
     ]
    }
   ],
   "source": [
    "response = chain.invoke({\"product_name\":\"Motorola Moto g64 256 GB\"})\n",
    "pprint.pprint(response)"
   ]
  },
  {
   "cell_type": "code",
   "execution_count": 14,
   "id": "c30e90ff",
   "metadata": {},
   "outputs": [],
   "source": [
    "chain2 = prompt | llm_openai | parser"
   ]
  },
  {
   "cell_type": "code",
   "execution_count": 17,
   "id": "f08a3edc",
   "metadata": {},
   "outputs": [
    {
     "name": "stdout",
     "output_type": "stream",
     "text": [
      "{'description': 'The Motorola Moto g64 256 GB combines sleek design with '\n",
      "                'impressive performance. It features a 6.5-inch Full HD+ '\n",
      "                'display for vibrant visuals and a smooth viewing experience. '\n",
      "                'Powered by a powerful octa-core processor and 6GB of RAM, the '\n",
      "                'phone handles multitasking and gaming with ease. With 256 GB '\n",
      "                'of internal storage, you have ample space for apps, photos, '\n",
      "                'and videos. The device is equipped with a versatile '\n",
      "                'triple-camera system, including a 64MP main sensor, enabling '\n",
      "                'high-quality photography and video recording. A robust '\n",
      "                '5000mAh battery ensures long-lasting usage, while fast '\n",
      "                'charging support keeps you powered up quickly. Running on the '\n",
      "                'latest Android version, the Moto g64 offers a user-friendly '\n",
      "                'interface and enhanced security features, making it a '\n",
      "                'reliable choice for everyday use.',\n",
      " 'name': 'Motorola Moto g64 256 GB',\n",
      " 'price': 249.99}\n"
     ]
    }
   ],
   "source": [
    "response = chain2.invoke({\"product_name\":\"Motorola Moto g64 256 GB\"})\n",
    "pprint.pprint(response)"
   ]
  }
 ],
 "metadata": {
  "kernelspec": {
   "display_name": "Python 3",
   "language": "python",
   "name": "python3"
  },
  "language_info": {
   "codemirror_mode": {
    "name": "ipython",
    "version": 3
   },
   "file_extension": ".py",
   "mimetype": "text/x-python",
   "name": "python",
   "nbconvert_exporter": "python",
   "pygments_lexer": "ipython3",
   "version": "3.13.0"
  }
 },
 "nbformat": 4,
 "nbformat_minor": 5
}
