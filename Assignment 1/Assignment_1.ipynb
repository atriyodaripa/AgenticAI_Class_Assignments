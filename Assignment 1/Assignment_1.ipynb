{
 "cells": [
  {
   "cell_type": "markdown",
   "id": "d2fd0aae",
   "metadata": {},
   "source": [
    "### Problem Statement"
   ]
  },
  {
   "cell_type": "markdown",
   "id": "8637d7bf",
   "metadata": {},
   "source": [
    "Use Case: Developing an LLM chatbot that would give product details\n",
    "\n",
    "Requirements: \n",
    "*  Name of the product. \n",
    "*  Description of the product. \n",
    "*  Price of the product in USD"
   ]
  },
  {
   "cell_type": "code",
   "execution_count": 17,
   "id": "4c9c510a",
   "metadata": {},
   "outputs": [],
   "source": [
    "import os\n",
    "from dotenv import load_dotenv\n",
    "load_dotenv()\n",
    "from langchain_groq import ChatGroq\n",
    "from langchain_openai import ChatOpenAI\n",
    "from pydantic import BaseModel, Field\n",
    "from langchain_core.output_parsers import JsonOutputParser\n",
    "from langchain_core.prompts import PromptTemplate\n",
    "import pprint"
   ]
  },
  {
   "cell_type": "code",
   "execution_count": 3,
   "id": "3cc31232",
   "metadata": {},
   "outputs": [],
   "source": [
    "## Langchain and Langsmith tracing\n",
    "os.environ['LANGCHAIN_API_KEY'] = os.getenv('LANGCHAIN_API_KEY')\n",
    "os.environ['LANGCHAIN_PROJECT'] = os.getenv('LANGCHAIN_PROJECT')\n",
    "os.environ[\"LANGCHAIN_TRACING_V2\"]=\"true\"\n",
    "\n",
    "## Getting Froq API key\n",
    "os.environ[\"GROQ_API_KEY\"]=os.getenv(\"GROQ_API_KEY\")"
   ]
  },
  {
   "cell_type": "code",
   "execution_count": null,
   "id": "a67ae1e1",
   "metadata": {},
   "outputs": [
    {
     "name": "stdout",
     "output_type": "stream",
     "text": [
      "```json\n",
      "{\n",
      "  \"name\": \"iPhone 13\",\n",
      "  \"description\": \"The iPhone 13 boasts a stunning Super Retina XDR display, a powerful A15 Bionic chip, and a dual-camera system that captures incredible photos and videos. With an all-day battery life, advanced safety features like Crash Detection and Emergency SOS via satellite, and a sleek, durable design, the iPhone 13 is a premium smartphone experience.\",\n",
      "  \"price\": 599.00\n",
      "}\n",
      "``` \n",
      "\n",
      "\n",
      "Please note: The price listed is for the base model (128GB) and may vary depending on storage capacity, carrier, and retailer.\n",
      "\n"
     ]
    }
   ],
   "source": [
    "llm = ChatGroq(model='gemma2-9b-it')\n",
    "result = llm.invoke('Give me the details of the product iphone 13. The product description should not exceed 150 words. Also get the price of the product in USD, make sure the price is rounded off to 2 decimal place. Give the product details in the following format: Return a JSON object.')\n",
    "print(result.content)"
   ]
  },
  {
   "cell_type": "code",
   "execution_count": 21,
   "id": "02d9aba0",
   "metadata": {},
   "outputs": [
    {
     "name": "stdout",
     "output_type": "stream",
     "text": [
      "```json\n",
      "{\n",
      "  \"product\": \"iPhone 13\",\n",
      "  \"description\": \"The iPhone 13 showcases a sleek design with a durable aerospace-grade aluminum frame and Ceramic Shield front cover for enhanced durability. Powered by the A15 Bionic chip, it delivers exceptional performance and efficiency. The dual-camera system features advanced capabilities like Night mode, Deep Fusion, and Smart HDR 4, enabling users to capture stunning photos and videos in any lighting condition. The Super Retina XDR display offers vibrant colors and sharp details, perfect for multimedia experiences. With 5G connectivity, enjoy faster download and streaming speeds. Additional features include improved battery life, enhanced Face ID for security, and support for MagSafe accessories, making the iPhone 13 a versatile and powerful smartphone choice for everyday use.\",\n",
      "  \"price_usd\": 599.00\n",
      "}\n",
      "```\n"
     ]
    }
   ],
   "source": [
    "llm_openai = ChatOpenAI(model = \"o1-mini\")\n",
    "result = llm_openai.invoke('Give me the details of the product iphone 13. The product description should not exceed 150 words. Also get the price of the product in USD, make sure the price is rounded off to 2 decimal place. Give the product details in the following format: Return a JSON object.')\n",
    "print(result.content)"
   ]
  },
  {
   "cell_type": "code",
   "execution_count": null,
   "id": "80ce848c",
   "metadata": {},
   "outputs": [],
   "source": [
    "## Creating Product Pydantic Class\n",
    "class Product_Details(BaseModel):\n",
    "    name : str\n",
    "    description : str\n",
    "    price : float=Field(description=\"The price is in USD\")"
   ]
  },
  {
   "cell_type": "code",
   "execution_count": null,
   "id": "edbd975b",
   "metadata": {},
   "outputs": [],
   "source": [
    "## Create the output parser\n",
    "parser = JsonOutputParser(pydantic_object=Product_Details)\n"
   ]
  },
  {
   "cell_type": "code",
   "execution_count": null,
   "id": "b1562b20",
   "metadata": {},
   "outputs": [],
   "source": [
    "## Creating the prompts\n",
    "prompt = PromptTemplate(\n",
    "    template=\"Give me the details of the product {product_name}. The product description should not exceed 150 words. Also get the price of the product in USD, make sure the price is rounded off to 2 decimal place. Give the product details in {format_instruction}\",\n",
    "    input_variables=[\"product_name\"],\n",
    "    partial_variables={\"format_instruction\":parser.get_format_instructions()}\n",
    ")"
   ]
  },
  {
   "cell_type": "code",
   "execution_count": null,
   "id": "5cfb7027",
   "metadata": {},
   "outputs": [
    {
     "name": "stdout",
     "output_type": "stream",
     "text": [
      "input_variables=['product_name'] input_types={} partial_variables={'format_instruction': 'The output should be formatted as a JSON instance that conforms to the JSON schema below.\\n\\nAs an example, for the schema {\"properties\": {\"foo\": {\"title\": \"Foo\", \"description\": \"a list of strings\", \"type\": \"array\", \"items\": {\"type\": \"string\"}}}, \"required\": [\"foo\"]}\\nthe object {\"foo\": [\"bar\", \"baz\"]} is a well-formatted instance of the schema. The object {\"properties\": {\"foo\": [\"bar\", \"baz\"]}} is not well-formatted.\\n\\nHere is the output schema:\\n```\\n{\"properties\": {\"name\": {\"title\": \"Name\", \"type\": \"string\"}, \"description\": {\"title\": \"Description\", \"type\": \"string\"}, \"price\": {\"description\": \"The price is in USD\", \"title\": \"Price\", \"type\": \"number\"}}, \"required\": [\"name\", \"description\", \"price\"]}\\n```'} template='Give me the details of the product {product_name}. The product description should not exceed 150 words. Also get the price of the product in USD, make sure the price is rounded off to 2 decimal place. Give the product details in {format_instruction}'\n"
     ]
    }
   ],
   "source": []
  },
  {
   "cell_type": "code",
   "execution_count": 11,
   "id": "c25710d7",
   "metadata": {},
   "outputs": [],
   "source": [
    "chain = prompt | llm | parser"
   ]
  },
  {
   "cell_type": "code",
   "execution_count": null,
   "id": "24fc8324",
   "metadata": {},
   "outputs": [
    {
     "name": "stdout",
     "output_type": "stream",
     "text": [
      "{'description': 'The iPhone 13 boasts a Super Retina XDR display,  an A15 '\n",
      "                'Bionic chip for blazing-fast performance, and a powerful '\n",
      "                'dual-camera system for stunning photos and videos. It also '\n",
      "                'features an advanced battery life and is available in a range '\n",
      "                'of vibrant colors.',\n",
      " 'name': 'iPhone 13',\n",
      " 'price': 699.0}\n"
     ]
    }
   ],
   "source": [
    "response = chain.invoke({\"product_name\":\"iphone 13\"})\n",
    "pprint.pprint(response)"
   ]
  },
  {
   "cell_type": "code",
   "execution_count": 16,
   "id": "c30e90ff",
   "metadata": {},
   "outputs": [],
   "source": [
    "chain2 = prompt | llm_openai | parser"
   ]
  },
  {
   "cell_type": "code",
   "execution_count": 18,
   "id": "f08a3edc",
   "metadata": {},
   "outputs": [
    {
     "name": "stdout",
     "output_type": "stream",
     "text": [
      "{'description': 'The iPhone 13 features a sleek design with a Ceramic Shield '\n",
      "                'front cover and a 6.1-inch Super Retina XDR display. Powered '\n",
      "                'by the A15 Bionic chip, it delivers exceptional performance '\n",
      "                'and efficiency. The dual-camera system includes advanced '\n",
      "                'capabilities like Night mode, Deep Fusion, and Smart HDR 4, '\n",
      "                'enabling stunning photos and videos in any condition. With 5G '\n",
      "                'connectivity, users experience faster download and streaming '\n",
      "                'speeds. The device offers improved battery life, running on '\n",
      "                'the latest iOS for a seamless user experience. Available in '\n",
      "                'multiple colors and storage options, the iPhone 13 combines '\n",
      "                'style, functionality, and cutting-edge technology.',\n",
      " 'name': 'iPhone 13',\n",
      " 'price': 799.0}\n"
     ]
    }
   ],
   "source": [
    "response = chain2.invoke({\"product_name\":\"iphone 13\"})\n",
    "pprint.pprint(response)"
   ]
  }
 ],
 "metadata": {
  "kernelspec": {
   "display_name": "Python 3",
   "language": "python",
   "name": "python3"
  },
  "language_info": {
   "codemirror_mode": {
    "name": "ipython",
    "version": 3
   },
   "file_extension": ".py",
   "mimetype": "text/x-python",
   "name": "python",
   "nbconvert_exporter": "python",
   "pygments_lexer": "ipython3",
   "version": "3.13.0"
  }
 },
 "nbformat": 4,
 "nbformat_minor": 5
}
