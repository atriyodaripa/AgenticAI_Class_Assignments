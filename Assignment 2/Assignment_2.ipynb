{
 "cells": [
  {
   "cell_type": "code",
   "execution_count": 1,
   "id": "46ee280b",
   "metadata": {},
   "outputs": [],
   "source": [
    "import os\n",
    "from dotenv import load_dotenv\n",
    "load_dotenv()\n",
    "from langchain_groq import ChatGroq\n",
    "from pydantic import BaseModel, Field\n",
    "from langchain_core.output_parsers import JsonOutputParser\n",
    "from langchain_core.prompts import PromptTemplate\n",
    "import pprint\n",
    "import pdfplumber\n",
    "from langchain_community.document_loaders import PyPDFLoader\n",
    "from langchain_community.document_loaders.pdf import PyMuPDFLoader\n",
    "from langchain_huggingface import HuggingFaceEmbeddings\n",
    "from langchain.schema import Document\n",
    "import pytesseract\n",
    "from PIL import Image\n"
   ]
  },
  {
   "cell_type": "code",
   "execution_count": 2,
   "id": "64edb01f",
   "metadata": {},
   "outputs": [],
   "source": [
    "## Langchain and Langsmith tracing\n",
    "os.environ['LANGCHAIN_API_KEY'] = os.getenv('LANGCHAIN_API_KEY')\n",
    "os.environ['LANGCHAIN_PROJECT'] = os.getenv('LANGCHAIN_PROJECT')\n",
    "os.environ[\"LANGCHAIN_TRACING_V2\"]=\"true\"\n",
    "\n",
    "## Getting Froq API key\n",
    "os.environ[\"GROQ_API_KEY\"]=os.getenv(\"GROQ_API_KEY\")"
   ]
  },
  {
   "cell_type": "code",
   "execution_count": 4,
   "id": "0b91d78c",
   "metadata": {},
   "outputs": [],
   "source": [
    "pdf_path = \"Generative AI with LangChain (2024).pdf\"\n",
    "# output_md_path = \"output.md\"\n",
    "# output_metadata_path = \"metadata.json\"\n",
    "image_folder = \"images\"\n",
    "os.makedirs(image_folder, exist_ok=True)"
   ]
  },
  {
   "cell_type": "code",
   "execution_count": null,
   "id": "62155b32",
   "metadata": {},
   "outputs": [],
   "source": [
    "# loader=PyPDFLoader(pdf_path)\n",
    "# docs=loader.load()\n",
    "# # docs"
   ]
  },
  {
   "cell_type": "code",
   "execution_count": null,
   "id": "b9338d69",
   "metadata": {},
   "outputs": [],
   "source": [
    "# poppler_path = 'E:\\\\Release-24.08.0-0\\\\poppler-24.08.0\\\\Library\\\\bin'\n",
    "# os.environ[\"PATH\"] += os.pathsep + poppler_path"
   ]
  },
  {
   "cell_type": "code",
   "execution_count": 5,
   "id": "c0a509c0",
   "metadata": {},
   "outputs": [],
   "source": [
    "os.environ['PATH'] += os.pathsep + r'C:\\\\Program Files\\\\Tesseract-OCR'"
   ]
  },
  {
   "cell_type": "code",
   "execution_count": 6,
   "id": "d433ec05",
   "metadata": {},
   "outputs": [],
   "source": [
    "def extract_elements_from_pdf(pdf_path):\n",
    "    \"\"\"Extracts texts, table contents and images from a PDF.\"\"\"\n",
    "    \n",
    "    try:\n",
    "        documents = []\n",
    "        print(f\"Extracting text contents from '{os.path.basename(pdf_path)}'\")\n",
    "        # Extract text contents using pdfplumber\n",
    "        with pdfplumber.open(pdf_path) as pdf:\n",
    "            for page_num, page in enumerate(pdf.pages):\n",
    "                text = page.extract_text()\n",
    "                if text.strip():\n",
    "                    metadata = {\n",
    "                        \"source\": os.path.basename(pdf_path),\n",
    "                        \"page\": page_num + 1,\n",
    "                        \"type\": \"text\"\n",
    "                    }\n",
    "                    documents.append(Document(page_content=text, metadata=metadata))\n",
    "        \n",
    "        print(f\"Extracting table contents from '{os.path.basename(pdf_path)}'\")\n",
    "        # Extract table contents using pdfplumber\n",
    "        with pdfplumber.open(pdf_path) as pdf:\n",
    "            for page_num, page in enumerate(pdf.pages):\n",
    "                tables = page.extract_tables()\n",
    "                for table_num, table_data in enumerate(tables):\n",
    "                    if table_data: # Ensure table_data is not None or empty\n",
    "                        # Flatten table data into a string format\n",
    "                        table_content = \"\\n\".join([\"\\t\".join(map(str, row)) for row in table_data if row])\n",
    "                        if table_content.strip(): # Only add non-empty tables\n",
    "                            metadata = {\n",
    "                                \"source\": os.path.basename(pdf_path),\n",
    "                                \"page\": page_num + 1,\n",
    "                                \"table_num\": table_num + 1,\n",
    "                                \"type\": \"table\"\n",
    "                            }\n",
    "                            # Add a header to table content to distinguish it\n",
    "                            documents.append(Document(page_content=f\"Table {table_num+1} on page {page_num+1} contains:\\n{table_content}\", metadata=metadata))\n",
    "        \n",
    "        print(f\"Extracting images from '{os.path.basename(pdf_path)}'\")\n",
    "        # Extract images using pdfplumber\n",
    "        with pdfplumber.open(pdf_path) as pdf:\n",
    "            for page_num, page in enumerate(pdf.pages):\n",
    "                images = page.images\n",
    "                for image_num, image in enumerate(images):\n",
    "                    if image: # Ensure table_data is not None or empty\n",
    "                        bbox = [image['x0'], page.cropbox[3]-image['y1'],  image['x1'], page.cropbox[3]-image['y0']]\n",
    "                        img_page = page.crop(bbox=bbox)\n",
    "                        img_obj = img_page.to_image(resolution=500)\n",
    "                        # page_number = image['page_number']\n",
    "                        image_name_prefix = f'{page_num}-{image_num + 1}'\n",
    "                        image_name = f'{image_name_prefix}' + \".png\"\n",
    "                        image_path = f'{image_folder}\\\\{image_name}'\n",
    "                        img_obj.save(image_path)\n",
    "                        image_content = pytesseract.image_to_string(Image.open(image_path), lang='eng')\n",
    "                        metadata = {\n",
    "                                \"source\": os.path.basename(pdf_path),\n",
    "                                \"page\": page_num + 1,\n",
    "                                \"image_num\": image_num + 1,\n",
    "                                \"type\": \"image\",\n",
    "                                \"image_path\":image_path\n",
    "                            }\n",
    "                        # Add a header to table content to distinguish it\n",
    "                        documents.append(Document(page_content=f\"Image {image_num+1} on page {page_num+1} contains:\\n{image_content}\", metadata=metadata))\n",
    "        return documents\n",
    "    except Exception as e:\n",
    "            print(f\"Error extracting details from {pdf_path}: {e}\")"
   ]
  },
  {
   "cell_type": "code",
   "execution_count": 7,
   "id": "6b33bcd9",
   "metadata": {},
   "outputs": [
    {
     "name": "stdout",
     "output_type": "stream",
     "text": [
      "Extracting text contents from 'Generative AI with LangChain (2024).pdf'\n",
      "Extracting table contents from 'Generative AI with LangChain (2024).pdf'\n",
      "Extracting images from 'Generative AI with LangChain (2024).pdf'\n"
     ]
    }
   ],
   "source": [
    "raw_docs = extract_elements_from_pdf(pdf_path)"
   ]
  },
  {
   "cell_type": "code",
   "execution_count": 8,
   "id": "98a0549c",
   "metadata": {},
   "outputs": [
    {
     "data": {
      "text/plain": [
       "Document(metadata={'source': 'Generative AI with LangChain (2024).pdf', 'page': 2, 'type': 'text'}, page_content='Generative AI with LangChain\\nBuild large language model (LLM) apps with Python,\\nChatGPT, and other LLMs\\nBen Auffarth\\nBIRMINGHAM—MUMBAI')"
      ]
     },
     "execution_count": 8,
     "metadata": {},
     "output_type": "execute_result"
    }
   ],
   "source": [
    "raw_docs[0]"
   ]
  },
  {
   "cell_type": "code",
   "execution_count": 9,
   "id": "63a8e5bf",
   "metadata": {},
   "outputs": [
    {
     "name": "stderr",
     "output_type": "stream",
     "text": [
      "e:\\AgenticAI KrishNaikAcademy\\Classroom HandsOn\\agentic_class_venv\\Lib\\site-packages\\tqdm\\auto.py:21: TqdmWarning: IProgress not found. Please update jupyter and ipywidgets. See https://ipywidgets.readthedocs.io/en/stable/user_install.html\n",
      "  from .autonotebook import tqdm as notebook_tqdm\n"
     ]
    }
   ],
   "source": [
    "from langchain_experimental.text_splitter import SemanticChunker\n",
    "embeddings=HuggingFaceEmbeddings(model_name=\"all-MiniLM-L6-v2\")\n",
    "text_splitter = SemanticChunker(embeddings, breakpoint_threshold_type='percentile', breakpoint_threshold_amount=90)"
   ]
  },
  {
   "cell_type": "code",
   "execution_count": null,
   "id": "ea967b54",
   "metadata": {},
   "outputs": [],
   "source": [
    "chunks = text_splitter.split_documents([doc for doc in raw_docs if doc.metadata['type']=='text'])\n",
    "chunks.extend(doc for doc in raw_docs if doc.metadata['type']!='text')"
   ]
  },
  {
   "cell_type": "code",
   "execution_count": 47,
   "id": "0ec7177a",
   "metadata": {},
   "outputs": [
    {
     "data": {
      "text/plain": [
       "984"
      ]
     },
     "execution_count": 47,
     "metadata": {},
     "output_type": "execute_result"
    }
   ],
   "source": [
    "len(chunks)"
   ]
  }
 ],
 "metadata": {
  "kernelspec": {
   "display_name": "Python 3",
   "language": "python",
   "name": "python3"
  },
  "language_info": {
   "codemirror_mode": {
    "name": "ipython",
    "version": 3
   },
   "file_extension": ".py",
   "mimetype": "text/x-python",
   "name": "python",
   "nbconvert_exporter": "python",
   "pygments_lexer": "ipython3",
   "version": "3.13.0"
  }
 },
 "nbformat": 4,
 "nbformat_minor": 5
}
